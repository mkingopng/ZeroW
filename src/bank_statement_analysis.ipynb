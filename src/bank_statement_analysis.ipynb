{
 "cells": [
  {
   "cell_type": "code",
   "id": "initial_id",
   "metadata": {
    "collapsed": true
   },
   "source": [
    "import pandas as pd\n",
    "import matplotlib.pyplot as plt\n",
    "import plotly.graph_objects as go\n",
    "import plotly.express as px\n",
    "import os"
   ],
   "outputs": [],
   "execution_count": null
  },
  {
   "metadata": {},
   "cell_type": "code",
   "source": [
    "class CFG:\n",
    "    data_path = './../data/bank_statements'\n",
    "    column_names = ['Date', 'Transaction Value', 'Narration', 'Account Balance']\n",
    "    fig_size = (15, 9)\n",
    "    n_rows = 20\n",
    "    \n",
    "# todo: table formatting, float formatting, date formatting"
   ],
   "id": "74fa966b3e91d819",
   "outputs": [],
   "execution_count": null
  },
  {
   "metadata": {},
   "cell_type": "code",
   "source": [
    "# categorize transactions into Income and Expenses\n",
    "def categorize_transaction(narration):  # fix_me\n",
    "    if 'credit' in narration.lower():\n",
    "        return 'Income'\n",
    "    else:\n",
    "        return 'Expense'"
   ],
   "id": "330bc808aa79f611",
   "outputs": [],
   "execution_count": null
  },
  {
   "metadata": {},
   "cell_type": "markdown",
   "source": "# Brisbane",
   "id": "3a2d5963ae43558c"
  },
  {
   "metadata": {},
   "cell_type": "code",
   "source": [
    "brisbane_df = pd.read_csv(\n",
    "    os.path.join(CFG.data_path, 'Brisbane.csv'),\n",
    "    names=CFG.column_names\n",
    ")\n",
    "brisbane_df.head(CFG.n_rows)"
   ],
   "id": "d1c1691dd3a4696c",
   "outputs": [],
   "execution_count": null
  },
  {
   "metadata": {},
   "cell_type": "code",
   "source": [
    "brisbane_df['Date'] = pd.to_datetime(brisbane_df['Date'], dayfirst=True, errors='coerce')\n",
    "brisbane_df.dtypes"
   ],
   "id": "607601c1795f79c",
   "outputs": [],
   "execution_count": null
  },
  {
   "metadata": {},
   "cell_type": "code",
   "source": [
    "# display basic information about the dataset\n",
    "brisbane_df.info()"
   ],
   "id": "8e3aed54e437ea94",
   "outputs": [],
   "execution_count": null
  },
  {
   "metadata": {},
   "cell_type": "code",
   "source": [
    "# summary statistics\n",
    "brisbane_df.describe()"
   ],
   "id": "c5f93256a918b22d",
   "outputs": [],
   "execution_count": null
  },
  {
   "metadata": {},
   "cell_type": "code",
   "source": [
    "# check for missing values\n",
    "brisbane_df.isnull().sum()"
   ],
   "id": "79abf6a386475d7c",
   "outputs": [],
   "execution_count": null
  },
  {
   "metadata": {},
   "cell_type": "code",
   "source": [
    "brisbane_df['Category'] = brisbane_df['Narration'].apply(categorize_transaction)  # fix_me\n",
    "brisbane_df.head(CFG.n_rows)  # fix_me "
   ],
   "id": "6a5131e8b85d51eb",
   "outputs": [],
   "execution_count": null
  },
  {
   "metadata": {},
   "cell_type": "code",
   "source": [
    "# sort by date to ensure correct sequential processing\n",
    "brisbane_df = brisbane_df.sort_values(by='Date').reset_index(drop=True)"
   ],
   "id": "53c5d473f44b622e",
   "outputs": [],
   "execution_count": null
  },
  {
   "metadata": {},
   "cell_type": "code",
   "source": [
    "# calculate the change in account balance for each transaction\n",
    "brisbane_df['Balance Change'] = brisbane_df['Account Balance'].diff()"
   ],
   "id": "601651ed7044dd97",
   "outputs": [],
   "execution_count": null
  },
  {
   "metadata": {},
   "cell_type": "code",
   "source": [
    "# classify transactions based on the change in account balance\n",
    "brisbane_df['Accounting Category'] = brisbane_df['Balance Change'].apply(lambda x: 'Credit' if x > 0 else 'Debit')\n",
    "brisbane_df.head(CFG.n_rows)"
   ],
   "id": "2e0d03e0c4d59c43",
   "outputs": [],
   "execution_count": null
  },
  {
   "metadata": {},
   "cell_type": "code",
   "source": [
    "# monthly summary of transactions\n",
    "brisbane_monthly_summary = brisbane_df.groupby([brisbane_df['Date'].dt.to_period('M'), 'Accounting Category'])['Transaction Value'].sum().unstack().fillna(0)"
   ],
   "id": "790c75e76beb40e0",
   "outputs": [],
   "execution_count": null
  },
  {
   "metadata": {},
   "cell_type": "code",
   "source": [
    "# calculate net balance for each month\n",
    "brisbane_monthly_summary['Net Cash'] = brisbane_monthly_summary['Credit'] + brisbane_monthly_summary['Debit']"
   ],
   "id": "39a6f22fddc46669",
   "outputs": [],
   "execution_count": null
  },
  {
   "metadata": {},
   "cell_type": "code",
   "source": [
    "# calculate total income, total expenses, and net balance\n",
    "total_income = brisbane_df[brisbane_df['Accounting Category'] == 'Credit']['Transaction Value'].sum()\n",
    "total_expenses = brisbane_df[brisbane_df['Accounting Category'] == 'Debit']['Transaction Value'].sum()\n",
    "net_balance = total_income + total_expenses"
   ],
   "id": "94212b4f9c37073d",
   "outputs": [],
   "execution_count": null
  },
  {
   "metadata": {},
   "cell_type": "code",
   "source": [
    "# display monthly summary\n",
    "brisbane_monthly_summary\n",
    "# todo: add trend line"
   ],
   "id": "6caba7a2aa95865c",
   "outputs": [],
   "execution_count": null
  },
  {
   "metadata": {},
   "cell_type": "code",
   "source": [
    "# Print key metrics\n",
    "print(f\"Total Income: {total_income}\")\n",
    "print(f\"Total Expenses: {total_expenses}\")\n",
    "print(f\"Net Balance: {round(net_balance, 2)}\")"
   ],
   "id": "d837816ca7c7e7c7",
   "outputs": [],
   "execution_count": null
  },
  {
   "metadata": {},
   "cell_type": "code",
   "source": [
    "plt.figure(figsize=CFG.fig_size)\n",
    "plt.plot(brisbane_df['Date'], brisbane_df['Account Balance'], marker='o', linestyle='-')\n",
    "plt.title('Brisbane Account Balance')\n",
    "plt.xlabel('Date')\n",
    "plt.ylabel('Account Balance')\n",
    "plt.grid(True)\n",
    "plt.show()"
   ],
   "id": "d30fc35bb7eaef33",
   "outputs": [],
   "execution_count": null
  },
  {
   "metadata": {},
   "cell_type": "code",
   "source": [
    "# plotting monthly income and expenses with net cash line\n",
    "fig, ax1 = plt.subplots(figsize=CFG.fig_size)\n",
    "\n",
    "brisbane_monthly_summary[['Credit', 'Debit']].plot(kind='bar', stacked=True, ax=ax1)\n",
    "ax1.set_title('Monthly Trading')\n",
    "ax1.set_xlabel('Month')\n",
    "ax1.set_ylabel('Amount')\n",
    "ax1.grid(True)\n",
    "\n",
    "# plot net cash line\n",
    "ax2 = ax1.twinx()\n",
    "ax2.plot(brisbane_monthly_summary.index.astype(str), brisbane_monthly_summary['Net Cash'], color='red', marker='o', linestyle='-', label='Net Cash')\n",
    "ax2.set_ylabel('Net Cash')\n",
    "\n",
    "# combine legends\n",
    "lines, labels = ax1.get_legend_handles_labels()\n",
    "lines2, labels2 = ax2.get_legend_handles_labels()\n",
    "ax1.legend(lines + lines2, labels + labels2, loc='upper left')\n",
    "plt.show()"
   ],
   "id": "b109f879bc9487be",
   "outputs": [],
   "execution_count": null
  },
  {
   "metadata": {},
   "cell_type": "code",
   "source": [
    "# detect anomalies in transaction values\n",
    "brisbane_df['Transaction Value'].plot(kind='box', figsize=CFG.fig_size)\n",
    "plt.title('Distribution of Transaction Values')\n",
    "plt.ylabel('Transaction Value')\n",
    "plt.show()\n",
    "# todo: boxplots for each month"
   ],
   "id": "a958c7dcba6f7848",
   "outputs": [],
   "execution_count": null
  },
  {
   "metadata": {},
   "cell_type": "code",
   "source": [
    "# interactive box plot using plotly\n",
    "fig = px.box(brisbane_df, y='Transaction Value', points=\"all\", hover_data=['Date', 'Narration', 'Transaction Value'])\n",
    "fig.update_layout(\n",
    "    title='Distribution of Transaction Values',\n",
    "    yaxis_title='Transaction Value'\n",
    ")\n",
    "fig.show()"
   ],
   "id": "f9560c5dbf92294",
   "outputs": [],
   "execution_count": null
  },
  {
   "metadata": {},
   "cell_type": "code",
   "source": [
    "# Identify \"Square\" transactions and create a new column\n",
    "brisbane_df['Narration Group'] = brisbane_df['Narration'].apply(lambda x: 'Square' if 'square' in x.lower() else x)\n",
    "# brisbane_df.head(CFG.n_rows)"
   ],
   "id": "f520d7e7bb6f54ec",
   "outputs": [],
   "execution_count": null
  },
  {
   "metadata": {},
   "cell_type": "code",
   "source": [
    "# categorize transactions into Credit and Debit based on account balance changes\n",
    "brisbane_df = brisbane_df.sort_values(by='Date').reset_index(drop=True)\n",
    "brisbane_df['Balance Change'] = brisbane_df['Account Balance'].diff()\n",
    "brisbane_df['Category'] = brisbane_df['Balance Change'].apply(lambda x: 'Credit' if x > 0 else 'Debit')\n",
    "# brisbane_df.head(CFG.n_rows)"
   ],
   "id": "a9e8058da4d379d5",
   "outputs": [],
   "execution_count": null
  },
  {
   "metadata": {},
   "cell_type": "code",
   "source": [
    "# filter out negative values and select only expenses\n",
    "expense_df = brisbane_df[brisbane_df['Category'] == 'Debit']\n",
    "# expense_df.head(CFG.n_rows)"
   ],
   "id": "c7038664a81d3ad2",
   "outputs": [],
   "execution_count": null
  },
  {
   "metadata": {},
   "cell_type": "code",
   "source": [
    "income_df = expense_df[expense_df['Transaction Value'] > 0]\n",
    "# income_df.head(CFG.n_rows)"
   ],
   "id": "53af6311e5bf920c",
   "outputs": [],
   "execution_count": null
  },
  {
   "metadata": {},
   "cell_type": "code",
   "source": [
    "# group by 'Narration Group' and sum the 'Transaction Value'\n",
    "income_breakdown = income_df.groupby('Narration Group')['Transaction Value'].sum()\n",
    "# income_breakdown.head(CFG.n_rows)"
   ],
   "id": "2c9bd2cad4463bb7",
   "outputs": [],
   "execution_count": null
  },
  {
   "metadata": {},
   "cell_type": "code",
   "source": [
    "# get the top 10 expense categories and group the rest into 'Other'\n",
    "top_income_breakdown = income_breakdown.nlargest(10)\n",
    "other_expenses = income_breakdown.sum() - top_income_breakdown.sum()\n",
    "top_income_breakdown['Other'] = other_expenses"
   ],
   "id": "ac8ddb5ba312ea51",
   "outputs": [],
   "execution_count": null
  },
  {
   "metadata": {},
   "cell_type": "code",
   "source": [
    "# plot expense breakdown\n",
    "top_income_breakdown.plot(kind='pie', autopct='%1.1f%%', figsize=CFG.fig_size)\n",
    "plt.title('Top 10 Income Breakdown')\n",
    "plt.ylabel('')\n",
    "plt.show()"
   ],
   "id": "11f075cc4a0fdb97",
   "outputs": [],
   "execution_count": null
  },
  {
   "metadata": {},
   "cell_type": "markdown",
   "source": "# Southside",
   "id": "9b503935bb3d25b8"
  },
  {
   "metadata": {},
   "cell_type": "code",
   "source": [
    "southside_df = pd.read_csv(\n",
    "    os.path.join(CFG.data_path, 'Southside.csv'),\n",
    "    names=CFG.column_names\n",
    ")\n",
    "southside_df.head(CFG.n_rows)"
   ],
   "id": "dc76ce0095621322",
   "outputs": [],
   "execution_count": null
  },
  {
   "metadata": {},
   "cell_type": "code",
   "source": [
    "southside_df['Date'] = pd.to_datetime(\n",
    "    southside_df['Date'], \n",
    "    dayfirst=True, \n",
    "    errors='coerce'\n",
    ")\n",
    "southside_df.dtypes"
   ],
   "id": "cd811f5499d0e33c",
   "outputs": [],
   "execution_count": null
  },
  {
   "metadata": {},
   "cell_type": "code",
   "source": "southside_df.describe()",
   "id": "bc2b5cedae16f788",
   "outputs": [],
   "execution_count": null
  },
  {
   "metadata": {},
   "cell_type": "code",
   "source": "southside_df.info()",
   "id": "47d716c9ed99f28d",
   "outputs": [],
   "execution_count": null
  },
  {
   "metadata": {},
   "cell_type": "code",
   "source": "southside_df.isnull().sum()",
   "id": "471170c05157fbee",
   "outputs": [],
   "execution_count": null
  },
  {
   "metadata": {},
   "cell_type": "code",
   "source": [
    "southside_df['Category'] = southside_df['Narration'].apply(categorize_transaction)\n",
    "southside_df.head(CFG.n_rows)  # fix_me"
   ],
   "id": "1277a1236b315777",
   "outputs": [],
   "execution_count": null
  },
  {
   "metadata": {},
   "cell_type": "code",
   "source": [
    "# sort by date to ensure correct sequential processing\n",
    "southside_df = southside_df.sort_values(by='Date').reset_index(drop=True)"
   ],
   "id": "c87240d3c20a76d0",
   "outputs": [],
   "execution_count": null
  },
  {
   "metadata": {},
   "cell_type": "code",
   "source": [
    "# calculate the change in account balance for each transaction\n",
    "southside_df['Balance Change'] = southside_df['Account Balance'].diff()"
   ],
   "id": "c9b1d403b9a2f47c",
   "outputs": [],
   "execution_count": null
  },
  {
   "metadata": {},
   "cell_type": "code",
   "source": [
    "# classify transactions based on the change in account balance\n",
    "southside_df['Category'] = southside_df['Balance Change'].apply(lambda x: 'Credit' if x > 0 else 'Debit')\n",
    "southside_df.head(CFG.n_rows)  # fix_me"
   ],
   "id": "49cd5cdd961365e8",
   "outputs": [],
   "execution_count": null
  },
  {
   "metadata": {},
   "cell_type": "code",
   "source": [
    "# monthly summary of transactions\n",
    "monthly_summary = southside_df.groupby([southside_df['Date'].dt.to_period('M'), 'Category'])['Transaction Value'].sum().unstack().fillna(0)"
   ],
   "id": "351b61d632d049f8",
   "outputs": [],
   "execution_count": null
  },
  {
   "metadata": {},
   "cell_type": "code",
   "source": [
    "# calculate net balance for each month\n",
    "monthly_summary['Net Cash'] = monthly_summary['Credit'] + monthly_summary['Debit']"
   ],
   "id": "b67bcb4112daadda",
   "outputs": [],
   "execution_count": null
  },
  {
   "metadata": {},
   "cell_type": "code",
   "source": [
    "# Calculate total income, total expenses, and net balance\n",
    "total_income = southside_df[southside_df['Category'] == 'Credit']['Transaction Value'].sum()\n",
    "total_expenses = southside_df[southside_df['Category'] == 'Debit']['Transaction Value'].sum()\n",
    "net_cash = total_income + total_expenses"
   ],
   "id": "43582844c7c8b20e",
   "outputs": [],
   "execution_count": null
  },
  {
   "metadata": {},
   "cell_type": "code",
   "source": [
    "# Print key metrics\n",
    "print(f\"Total Income: {total_income}\")\n",
    "print(f\"Total Expenses: {total_expenses}\")\n",
    "print(f\"Net Cash: {round(net_cash, 2)}\")"
   ],
   "id": "dd5e6c1051958134",
   "outputs": [],
   "execution_count": null
  },
  {
   "metadata": {},
   "cell_type": "code",
   "source": "monthly_summary",
   "id": "5ab1e72372ba45e2",
   "outputs": [],
   "execution_count": null
  },
  {
   "metadata": {},
   "cell_type": "code",
   "source": [
    "plt.figure(figsize=CFG.fig_size)\n",
    "plt.plot(southside_df['Date'], southside_df['Account Balance'], marker='o', linestyle='-')\n",
    "plt.title('Southside Account Balance')\n",
    "plt.xlabel('Date')\n",
    "plt.ylabel('Account Balance')\n",
    "plt.grid(True)\n",
    "plt.show()\n",
    "# todo: add trend line"
   ],
   "id": "5ec661965bfaba0a",
   "outputs": [],
   "execution_count": null
  },
  {
   "metadata": {},
   "cell_type": "code",
   "source": [
    "# plotting monthly income and expenses with net cash line\n",
    "fig, ax1 = plt.subplots(figsize=CFG.fig_size)\n",
    "\n",
    "monthly_summary[['Credit', 'Debit']].plot(kind='bar', stacked=True, ax=ax1)\n",
    "ax1.set_title('Monthly Trading')\n",
    "ax1.set_xlabel('Month')\n",
    "ax1.set_ylabel('Amount')\n",
    "ax1.grid(True)\n",
    "\n",
    "# Plot net cash line\n",
    "ax2 = ax1.twinx()\n",
    "ax2.plot(monthly_summary.index.astype(str), monthly_summary['Net Cash'], color='red', marker='o', linestyle='-', label='Net Cash')\n",
    "ax2.set_ylabel('Net Cash')\n",
    "\n",
    "# Combine legends\n",
    "lines, labels = ax1.get_legend_handles_labels()\n",
    "lines2, labels2 = ax2.get_legend_handles_labels()\n",
    "ax1.legend(lines + lines2, labels + labels2, loc='upper left')\n",
    "\n",
    "plt.show()"
   ],
   "id": "3beba407ad4b317a",
   "outputs": [],
   "execution_count": null
  },
  {
   "metadata": {},
   "cell_type": "code",
   "source": [
    "# Detect anomalies in transaction values MPL\n",
    "southside_df['Transaction Value'].plot(kind='box', figsize=CFG.fig_size)\n",
    "plt.title('Distribution of Transaction Values')\n",
    "plt.ylabel('Transaction Value')\n",
    "plt.show()"
   ],
   "id": "9b3fd99bfbf3c8c5",
   "outputs": [],
   "execution_count": null
  },
  {
   "metadata": {},
   "cell_type": "code",
   "source": [
    "fig = px.box(southside_df, y='Transaction Value', points=\"all\", hover_data=['Date', 'Narration', 'Transaction Value'])\n",
    "fig.update_layout(\n",
    "    title='SB distn of Transaction Values',\n",
    "    yaxis_title='Transaction Value'\n",
    ")\n",
    "fig.show()"
   ],
   "id": "b080f491f0400d5b",
   "outputs": [],
   "execution_count": null
  },
  {
   "metadata": {},
   "cell_type": "code",
   "source": [
    "# identify \"Square\" transactions and create a new column\n",
    "southside_df['Narration Group'] = southside_df['Narration'].apply(lambda x: 'Square' if 'square' in x.lower() else x)"
   ],
   "id": "a62a0a867b913b94",
   "outputs": [],
   "execution_count": null
  },
  {
   "metadata": {},
   "cell_type": "code",
   "source": [
    "# categorize transactions into Credit and Debit based on account balance changes\n",
    "southside_df = southside_df.sort_values(by='Date').reset_index(drop=True)\n",
    "southside_df['Balance Change'] = brisbane_df['Account Balance'].diff()\n",
    "southside_df['Category'] = southside_df['Balance Change'].apply(lambda x: 'Credit' if x > 0 else 'Debit')"
   ],
   "id": "748baf791eea0350",
   "outputs": [],
   "execution_count": null
  },
  {
   "metadata": {},
   "cell_type": "code",
   "source": [
    "# filter out negative values and select only expenses\n",
    "expense_df = southside_df[southside_df['Category'] == 'Debit']\n",
    "income_df = expense_df[expense_df['Transaction Value'] > 0]"
   ],
   "id": "1a4410e34c92624b",
   "outputs": [],
   "execution_count": null
  },
  {
   "metadata": {},
   "cell_type": "code",
   "source": [
    "# group by 'Narration Group' and sum the 'Transaction Value'\n",
    "income_breakdown = income_df.groupby('Narration Group')['Transaction Value'].sum()"
   ],
   "id": "166c116f110516b1",
   "outputs": [],
   "execution_count": null
  },
  {
   "metadata": {},
   "cell_type": "code",
   "source": [
    "# get the top 10 expense categories and group the rest into 'Other'\n",
    "top_expense_breakdown = income_breakdown.nlargest(10)\n",
    "other_expenses = income_breakdown.sum() - top_expense_breakdown.sum()\n",
    "top_expense_breakdown['Other'] = other_expenses"
   ],
   "id": "d2c6695cb8af2ed8",
   "outputs": [],
   "execution_count": null
  },
  {
   "metadata": {},
   "cell_type": "code",
   "source": [
    "# plot expense breakdown\n",
    "top_expense_breakdown.plot(kind='pie', autopct='%1.1f%%', figsize=CFG.fig_size)\n",
    "plt.title('Top 10 Expense Breakdown')\n",
    "plt.ylabel('')\n",
    "plt.show()"
   ],
   "id": "18dfa9bf42a7f1d7",
   "outputs": [],
   "execution_count": null
  },
  {
   "metadata": {},
   "cell_type": "markdown",
   "source": "# Cairns",
   "id": "3ce325d50cf44c06"
  },
  {
   "metadata": {},
   "cell_type": "code",
   "source": [
    "cairns_df = pd.read_csv(\n",
    "    os.path.join(CFG.data_path, 'Cairns.csv'),\n",
    "    names=CFG.column_names\n",
    ")\n",
    "cairns_df.head(CFG.n_rows)"
   ],
   "id": "f3703af2f32d1f9d",
   "outputs": [],
   "execution_count": null
  },
  {
   "metadata": {},
   "cell_type": "code",
   "source": [
    "cairns_df['Date'] = pd.to_datetime(\n",
    "    cairns_df['Date'], \n",
    "    dayfirst=True, \n",
    "    errors='coerce'\n",
    ")\n",
    "cairns_df.dtypes"
   ],
   "id": "26f849dd8ebac1cd",
   "outputs": [],
   "execution_count": null
  },
  {
   "metadata": {},
   "cell_type": "code",
   "source": "cairns_df.info()",
   "id": "8caf3859a769947a",
   "outputs": [],
   "execution_count": null
  },
  {
   "metadata": {},
   "cell_type": "code",
   "source": "cairns_df.describe()",
   "id": "caf9341a7597f9de",
   "outputs": [],
   "execution_count": null
  },
  {
   "metadata": {},
   "cell_type": "code",
   "source": "cairns_df.isnull().sum()",
   "id": "5b1b94e552d1dbef",
   "outputs": [],
   "execution_count": null
  },
  {
   "metadata": {},
   "cell_type": "code",
   "source": [
    "plt.figure(figsize=CFG.fig_size)\n",
    "plt.plot(cairns_df['Date'], cairns_df['Account Balance'], marker='o', linestyle='-')\n",
    "plt.title('Cairns Account Balance')\n",
    "plt.xlabel('Date')\n",
    "plt.ylabel('Account Balance')\n",
    "plt.grid(True)\n",
    "plt.show()\n",
    "# todo: add trend line"
   ],
   "id": "a9a6685fdc388d2b",
   "outputs": [],
   "execution_count": null
  },
  {
   "metadata": {},
   "cell_type": "markdown",
   "source": "# Mackay",
   "id": "60bcc8b715463fa9"
  },
  {
   "metadata": {},
   "cell_type": "code",
   "source": [
    "mackay_df = pd.read_csv(\n",
    "    os.path.join(CFG.data_path, 'Mackay.csv'),\n",
    "    names=CFG.column_names\n",
    ")\n",
    "mackay_df.head(CFG.n_rows)"
   ],
   "id": "4e7cb51220b4f3a3",
   "outputs": [],
   "execution_count": null
  },
  {
   "metadata": {},
   "cell_type": "code",
   "source": [
    "mackay_df['Date'] = pd.to_datetime(\n",
    "    mackay_df['Date'], \n",
    "    dayfirst=True, \n",
    "    errors='coerce'\n",
    ")\n",
    "mackay_df.dtypes"
   ],
   "id": "3723139f298ccdf5",
   "outputs": [],
   "execution_count": null
  },
  {
   "metadata": {},
   "cell_type": "code",
   "source": "mackay_df.info()",
   "id": "5160cf3d99cbdf28",
   "outputs": [],
   "execution_count": null
  },
  {
   "metadata": {},
   "cell_type": "code",
   "source": "mackay_df.describe()",
   "id": "e9858862c5ea74f9",
   "outputs": [],
   "execution_count": null
  },
  {
   "metadata": {},
   "cell_type": "code",
   "source": "mackay_df.isnull().sum()",
   "id": "f1212eb65fdd359b",
   "outputs": [],
   "execution_count": null
  },
  {
   "metadata": {},
   "cell_type": "code",
   "source": [
    "plt.figure(figsize=CFG.fig_size)\n",
    "plt.plot(mackay_df['Date'], mackay_df['Account Balance'], marker='o', linestyle='-')\n",
    "plt.title('Mackay Account Balance')\n",
    "plt.xlabel('Date')\n",
    "plt.ylabel('Account Balance')\n",
    "plt.grid(True)\n",
    "plt.show()\n",
    "# todo: add trend line"
   ],
   "id": "997afc1697d44810",
   "outputs": [],
   "execution_count": null
  },
  {
   "metadata": {},
   "cell_type": "markdown",
   "source": "# Gold Coast",
   "id": "75bfba73d79313f1"
  },
  {
   "metadata": {},
   "cell_type": "code",
   "source": [
    "gc_df = pd.read_csv(\n",
    "    os.path.join(CFG.data_path, 'LilleyBuddy.csv'),\n",
    "    names=CFG.column_names\n",
    ")\n",
    "gc_df.head(CFG.n_rows)"
   ],
   "id": "427d6d8a537fc16f",
   "outputs": [],
   "execution_count": null
  },
  {
   "metadata": {},
   "cell_type": "code",
   "source": [
    "gc_df['Date'] = pd.to_datetime(\n",
    "    mackay_df['Date'], \n",
    "    dayfirst=True, \n",
    "    errors='coerce'\n",
    ")\n",
    "gc_df.dtypes"
   ],
   "id": "1ef3325150ddc04d",
   "outputs": [],
   "execution_count": null
  },
  {
   "metadata": {},
   "cell_type": "code",
   "source": "gc_df.info()",
   "id": "161e0b33d3832d6d",
   "outputs": [],
   "execution_count": null
  },
  {
   "metadata": {},
   "cell_type": "code",
   "source": "gc_df.describe()",
   "id": "ad2c3178f26660b1",
   "outputs": [],
   "execution_count": null
  },
  {
   "metadata": {},
   "cell_type": "code",
   "source": "gc_df.isnull().sum()",
   "id": "1ef0bea776b0fe7b",
   "outputs": [],
   "execution_count": null
  },
  {
   "metadata": {},
   "cell_type": "code",
   "source": [
    "plt.figure(figsize=CFG.fig_size)\n",
    "plt.plot(gc_df['Date'], gc_df['Account Balance'], marker='o', linestyle='-')\n",
    "plt.title('Gold Coast Account Balance')\n",
    "plt.xlabel('Date')\n",
    "plt.ylabel('Account Balance')\n",
    "plt.grid(True)\n",
    "plt.show()\n",
    "# todo: add trend line"
   ],
   "id": "87619eaaba4db48e",
   "outputs": [],
   "execution_count": null
  }
 ],
 "metadata": {
  "kernelspec": {
   "display_name": "Python 3",
   "language": "python",
   "name": "python3"
  },
  "language_info": {
   "codemirror_mode": {
    "name": "ipython",
    "version": 2
   },
   "file_extension": ".py",
   "mimetype": "text/x-python",
   "name": "python",
   "nbconvert_exporter": "python",
   "pygments_lexer": "ipython2",
   "version": "2.7.6"
  }
 },
 "nbformat": 4,
 "nbformat_minor": 5
}
