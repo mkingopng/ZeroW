{
 "cells": [
  {
   "cell_type": "code",
   "id": "initial_id",
   "metadata": {
    "collapsed": true,
    "ExecuteTime": {
     "end_time": "2024-06-05T05:17:46.383041Z",
     "start_time": "2024-06-05T05:17:46.380372Z"
    }
   },
   "source": [
    "import pandas as pd\n",
    "import matplotlib.pyplot as plt\n",
    "import plotly.graph_objects as go\n",
    "import plotly.express as px"
   ],
   "outputs": [],
   "execution_count": 634
  },
  {
   "metadata": {
    "ExecuteTime": {
     "end_time": "2024-06-05T05:17:46.999217Z",
     "start_time": "2024-06-05T05:17:46.995466Z"
    }
   },
   "cell_type": "code",
   "source": [
    "# Categorize transactions into Income and Expenses\n",
    "def categorize_transaction(narration):\n",
    "    if 'credit' in narration.lower():\n",
    "        return 'Income'\n",
    "    else:\n",
    "        return 'Expense'"
   ],
   "id": "330bc808aa79f611",
   "outputs": [],
   "execution_count": 635
  },
  {
   "metadata": {},
   "cell_type": "markdown",
   "source": "# Brisbane",
   "id": "3a2d5963ae43558c"
  },
  {
   "metadata": {
    "ExecuteTime": {
     "end_time": "2024-06-05T05:17:47.077934Z",
     "start_time": "2024-06-05T05:17:47.060532Z"
    }
   },
   "cell_type": "code",
   "source": [
    "brisbane_df = pd.read_csv(\n",
    "    'data/bank_statements/Brisbane.csv',\n",
    "    names=['Date', 'Transaction Value', 'Narration', 'Account Balance']\n",
    ")\n",
    "brisbane_df.head()"
   ],
   "id": "d1c1691dd3a4696c",
   "outputs": [
    {
     "data": {
      "text/plain": [
       "         Date  Transaction Value                              Narration  \\\n",
       "0  30/06/2023              46.00                    POS 26652200 30 JUN   \n",
       "1  30/06/2023             903.29  Direct Credit 485450 SQUARE AU PTY LT   \n",
       "2  29/06/2023              26.00                    POS 26652200 29 JUN   \n",
       "3  29/06/2023             948.77  Direct Credit 485450 SQUARE AU PTY LT   \n",
       "4  28/06/2023             169.00                    POS 26652200 28 JUN   \n",
       "\n",
       "   Account Balance  \n",
       "0         28039.26  \n",
       "1         27993.26  \n",
       "2         27089.97  \n",
       "3         27063.97  \n",
       "4         26115.20  "
      ],
      "text/html": [
       "<div>\n",
       "<style scoped>\n",
       "    .dataframe tbody tr th:only-of-type {\n",
       "        vertical-align: middle;\n",
       "    }\n",
       "\n",
       "    .dataframe tbody tr th {\n",
       "        vertical-align: top;\n",
       "    }\n",
       "\n",
       "    .dataframe thead th {\n",
       "        text-align: right;\n",
       "    }\n",
       "</style>\n",
       "<table border=\"1\" class=\"dataframe\">\n",
       "  <thead>\n",
       "    <tr style=\"text-align: right;\">\n",
       "      <th></th>\n",
       "      <th>Date</th>\n",
       "      <th>Transaction Value</th>\n",
       "      <th>Narration</th>\n",
       "      <th>Account Balance</th>\n",
       "    </tr>\n",
       "  </thead>\n",
       "  <tbody>\n",
       "    <tr>\n",
       "      <th>0</th>\n",
       "      <td>30/06/2023</td>\n",
       "      <td>46.00</td>\n",
       "      <td>POS 26652200 30 JUN</td>\n",
       "      <td>28039.26</td>\n",
       "    </tr>\n",
       "    <tr>\n",
       "      <th>1</th>\n",
       "      <td>30/06/2023</td>\n",
       "      <td>903.29</td>\n",
       "      <td>Direct Credit 485450 SQUARE AU PTY LT</td>\n",
       "      <td>27993.26</td>\n",
       "    </tr>\n",
       "    <tr>\n",
       "      <th>2</th>\n",
       "      <td>29/06/2023</td>\n",
       "      <td>26.00</td>\n",
       "      <td>POS 26652200 29 JUN</td>\n",
       "      <td>27089.97</td>\n",
       "    </tr>\n",
       "    <tr>\n",
       "      <th>3</th>\n",
       "      <td>29/06/2023</td>\n",
       "      <td>948.77</td>\n",
       "      <td>Direct Credit 485450 SQUARE AU PTY LT</td>\n",
       "      <td>27063.97</td>\n",
       "    </tr>\n",
       "    <tr>\n",
       "      <th>4</th>\n",
       "      <td>28/06/2023</td>\n",
       "      <td>169.00</td>\n",
       "      <td>POS 26652200 28 JUN</td>\n",
       "      <td>26115.20</td>\n",
       "    </tr>\n",
       "  </tbody>\n",
       "</table>\n",
       "</div>"
      ]
     },
     "execution_count": 636,
     "metadata": {},
     "output_type": "execute_result"
    }
   ],
   "execution_count": 636
  },
  {
   "metadata": {
    "ExecuteTime": {
     "end_time": "2024-06-05T05:17:47.161037Z",
     "start_time": "2024-06-05T05:17:47.150923Z"
    }
   },
   "cell_type": "code",
   "source": [
    "brisbane_df['Date'] = pd.to_datetime(brisbane_df['Date'], dayfirst=True, errors='coerce')\n",
    "brisbane_df.dtypes"
   ],
   "id": "607601c1795f79c",
   "outputs": [
    {
     "data": {
      "text/plain": [
       "Date                 datetime64[ns]\n",
       "Transaction Value           float64\n",
       "Narration                    object\n",
       "Account Balance             float64\n",
       "dtype: object"
      ]
     },
     "execution_count": 637,
     "metadata": {},
     "output_type": "execute_result"
    }
   ],
   "execution_count": 637
  },
  {
   "metadata": {
    "ExecuteTime": {
     "end_time": "2024-06-05T05:17:47.217789Z",
     "start_time": "2024-06-05T05:17:47.205969Z"
    }
   },
   "cell_type": "code",
   "source": [
    "# Display basic information about the dataset\n",
    "brisbane_df.info()"
   ],
   "id": "8e3aed54e437ea94",
   "outputs": [
    {
     "name": "stdout",
     "output_type": "stream",
     "text": [
      "<class 'pandas.core.frame.DataFrame'>\n",
      "RangeIndex: 600 entries, 0 to 599\n",
      "Data columns (total 4 columns):\n",
      " #   Column             Non-Null Count  Dtype         \n",
      "---  ------             --------------  -----         \n",
      " 0   Date               600 non-null    datetime64[ns]\n",
      " 1   Transaction Value  600 non-null    float64       \n",
      " 2   Narration          600 non-null    object        \n",
      " 3   Account Balance    600 non-null    float64       \n",
      "dtypes: datetime64[ns](1), float64(2), object(1)\n",
      "memory usage: 18.9+ KB\n"
     ]
    }
   ],
   "execution_count": 638
  },
  {
   "metadata": {
    "ExecuteTime": {
     "end_time": "2024-06-05T05:17:47.309742Z",
     "start_time": "2024-06-05T05:17:47.288087Z"
    }
   },
   "cell_type": "code",
   "source": [
    "# Summary statistics\n",
    "brisbane_df.describe()"
   ],
   "id": "c5f93256a918b22d",
   "outputs": [
    {
     "data": {
      "text/plain": [
       "                      Date  Transaction Value  Account Balance\n",
       "count                  600         600.000000       600.000000\n",
       "mean   2023-03-26 06:48:00          25.976183     20181.530483\n",
       "min    2022-12-18 00:00:00      -10200.000000      1755.930000\n",
       "25%    2023-02-06 00:00:00         -58.440000     14267.565000\n",
       "50%    2023-03-27 00:00:00          93.000000     19151.435000\n",
       "75%    2023-05-13 06:00:00         509.870000     23569.042500\n",
       "max    2023-06-30 00:00:00        7000.000000     44448.620000\n",
       "std                    NaN        1463.827134      9457.760861"
      ],
      "text/html": [
       "<div>\n",
       "<style scoped>\n",
       "    .dataframe tbody tr th:only-of-type {\n",
       "        vertical-align: middle;\n",
       "    }\n",
       "\n",
       "    .dataframe tbody tr th {\n",
       "        vertical-align: top;\n",
       "    }\n",
       "\n",
       "    .dataframe thead th {\n",
       "        text-align: right;\n",
       "    }\n",
       "</style>\n",
       "<table border=\"1\" class=\"dataframe\">\n",
       "  <thead>\n",
       "    <tr style=\"text-align: right;\">\n",
       "      <th></th>\n",
       "      <th>Date</th>\n",
       "      <th>Transaction Value</th>\n",
       "      <th>Account Balance</th>\n",
       "    </tr>\n",
       "  </thead>\n",
       "  <tbody>\n",
       "    <tr>\n",
       "      <th>count</th>\n",
       "      <td>600</td>\n",
       "      <td>600.000000</td>\n",
       "      <td>600.000000</td>\n",
       "    </tr>\n",
       "    <tr>\n",
       "      <th>mean</th>\n",
       "      <td>2023-03-26 06:48:00</td>\n",
       "      <td>25.976183</td>\n",
       "      <td>20181.530483</td>\n",
       "    </tr>\n",
       "    <tr>\n",
       "      <th>min</th>\n",
       "      <td>2022-12-18 00:00:00</td>\n",
       "      <td>-10200.000000</td>\n",
       "      <td>1755.930000</td>\n",
       "    </tr>\n",
       "    <tr>\n",
       "      <th>25%</th>\n",
       "      <td>2023-02-06 00:00:00</td>\n",
       "      <td>-58.440000</td>\n",
       "      <td>14267.565000</td>\n",
       "    </tr>\n",
       "    <tr>\n",
       "      <th>50%</th>\n",
       "      <td>2023-03-27 00:00:00</td>\n",
       "      <td>93.000000</td>\n",
       "      <td>19151.435000</td>\n",
       "    </tr>\n",
       "    <tr>\n",
       "      <th>75%</th>\n",
       "      <td>2023-05-13 06:00:00</td>\n",
       "      <td>509.870000</td>\n",
       "      <td>23569.042500</td>\n",
       "    </tr>\n",
       "    <tr>\n",
       "      <th>max</th>\n",
       "      <td>2023-06-30 00:00:00</td>\n",
       "      <td>7000.000000</td>\n",
       "      <td>44448.620000</td>\n",
       "    </tr>\n",
       "    <tr>\n",
       "      <th>std</th>\n",
       "      <td>NaN</td>\n",
       "      <td>1463.827134</td>\n",
       "      <td>9457.760861</td>\n",
       "    </tr>\n",
       "  </tbody>\n",
       "</table>\n",
       "</div>"
      ]
     },
     "execution_count": 639,
     "metadata": {},
     "output_type": "execute_result"
    }
   ],
   "execution_count": 639
  },
  {
   "metadata": {
    "ExecuteTime": {
     "end_time": "2024-06-05T05:17:47.415538Z",
     "start_time": "2024-06-05T05:17:47.409399Z"
    }
   },
   "cell_type": "code",
   "source": [
    "# Check for missing values\n",
    "brisbane_df.isnull().sum()"
   ],
   "id": "79abf6a386475d7c",
   "outputs": [
    {
     "data": {
      "text/plain": [
       "Date                 0\n",
       "Transaction Value    0\n",
       "Narration            0\n",
       "Account Balance      0\n",
       "dtype: int64"
      ]
     },
     "execution_count": 640,
     "metadata": {},
     "output_type": "execute_result"
    }
   ],
   "execution_count": 640
  },
  {
   "metadata": {
    "ExecuteTime": {
     "end_time": "2024-06-05T05:17:47.583327Z",
     "start_time": "2024-06-05T05:17:47.569626Z"
    }
   },
   "cell_type": "code",
   "source": [
    "brisbane_df['Category'] = brisbane_df['Narration'].apply(categorize_transaction)\n",
    "\n",
    "# Display the first few rows to confirm the changes\n",
    "brisbane_df.head()  # fix_me "
   ],
   "id": "6a5131e8b85d51eb",
   "outputs": [
    {
     "data": {
      "text/plain": [
       "        Date  Transaction Value                              Narration  \\\n",
       "0 2023-06-30              46.00                    POS 26652200 30 JUN   \n",
       "1 2023-06-30             903.29  Direct Credit 485450 SQUARE AU PTY LT   \n",
       "2 2023-06-29              26.00                    POS 26652200 29 JUN   \n",
       "3 2023-06-29             948.77  Direct Credit 485450 SQUARE AU PTY LT   \n",
       "4 2023-06-28             169.00                    POS 26652200 28 JUN   \n",
       "\n",
       "   Account Balance Category  \n",
       "0         28039.26  Expense  \n",
       "1         27993.26   Income  \n",
       "2         27089.97  Expense  \n",
       "3         27063.97   Income  \n",
       "4         26115.20  Expense  "
      ],
      "text/html": [
       "<div>\n",
       "<style scoped>\n",
       "    .dataframe tbody tr th:only-of-type {\n",
       "        vertical-align: middle;\n",
       "    }\n",
       "\n",
       "    .dataframe tbody tr th {\n",
       "        vertical-align: top;\n",
       "    }\n",
       "\n",
       "    .dataframe thead th {\n",
       "        text-align: right;\n",
       "    }\n",
       "</style>\n",
       "<table border=\"1\" class=\"dataframe\">\n",
       "  <thead>\n",
       "    <tr style=\"text-align: right;\">\n",
       "      <th></th>\n",
       "      <th>Date</th>\n",
       "      <th>Transaction Value</th>\n",
       "      <th>Narration</th>\n",
       "      <th>Account Balance</th>\n",
       "      <th>Category</th>\n",
       "    </tr>\n",
       "  </thead>\n",
       "  <tbody>\n",
       "    <tr>\n",
       "      <th>0</th>\n",
       "      <td>2023-06-30</td>\n",
       "      <td>46.00</td>\n",
       "      <td>POS 26652200 30 JUN</td>\n",
       "      <td>28039.26</td>\n",
       "      <td>Expense</td>\n",
       "    </tr>\n",
       "    <tr>\n",
       "      <th>1</th>\n",
       "      <td>2023-06-30</td>\n",
       "      <td>903.29</td>\n",
       "      <td>Direct Credit 485450 SQUARE AU PTY LT</td>\n",
       "      <td>27993.26</td>\n",
       "      <td>Income</td>\n",
       "    </tr>\n",
       "    <tr>\n",
       "      <th>2</th>\n",
       "      <td>2023-06-29</td>\n",
       "      <td>26.00</td>\n",
       "      <td>POS 26652200 29 JUN</td>\n",
       "      <td>27089.97</td>\n",
       "      <td>Expense</td>\n",
       "    </tr>\n",
       "    <tr>\n",
       "      <th>3</th>\n",
       "      <td>2023-06-29</td>\n",
       "      <td>948.77</td>\n",
       "      <td>Direct Credit 485450 SQUARE AU PTY LT</td>\n",
       "      <td>27063.97</td>\n",
       "      <td>Income</td>\n",
       "    </tr>\n",
       "    <tr>\n",
       "      <th>4</th>\n",
       "      <td>2023-06-28</td>\n",
       "      <td>169.00</td>\n",
       "      <td>POS 26652200 28 JUN</td>\n",
       "      <td>26115.20</td>\n",
       "      <td>Expense</td>\n",
       "    </tr>\n",
       "  </tbody>\n",
       "</table>\n",
       "</div>"
      ]
     },
     "execution_count": 641,
     "metadata": {},
     "output_type": "execute_result"
    }
   ],
   "execution_count": 641
  },
  {
   "metadata": {
    "ExecuteTime": {
     "end_time": "2024-06-05T05:17:47.764917Z",
     "start_time": "2024-06-05T05:17:47.760461Z"
    }
   },
   "cell_type": "code",
   "source": [
    "# Sort by date to ensure correct sequential processing\n",
    "brisbane_df = brisbane_df.sort_values(by='Date').reset_index(drop=True)"
   ],
   "id": "53c5d473f44b622e",
   "outputs": [],
   "execution_count": 642
  },
  {
   "metadata": {
    "ExecuteTime": {
     "end_time": "2024-06-05T05:17:47.827221Z",
     "start_time": "2024-06-05T05:17:47.822474Z"
    }
   },
   "cell_type": "code",
   "source": [
    "# Calculate the change in account balance for each transaction\n",
    "brisbane_df['Balance Change'] = brisbane_df['Account Balance'].diff()"
   ],
   "id": "601651ed7044dd97",
   "outputs": [],
   "execution_count": 643
  },
  {
   "metadata": {
    "ExecuteTime": {
     "end_time": "2024-06-05T05:17:48.140764Z",
     "start_time": "2024-06-05T05:17:48.120799Z"
    }
   },
   "cell_type": "code",
   "source": [
    "# Classify transactions based on the change in account balance\n",
    "brisbane_df['Category'] = brisbane_df['Balance Change'].apply(lambda x: 'Credit' if x > 0 else 'Debit')\n",
    "\n",
    "# Display the first few rows to confirm the changes\n",
    "brisbane_df.head()"
   ],
   "id": "2e0d03e0c4d59c43",
   "outputs": [
    {
     "data": {
      "text/plain": [
       "        Date  Transaction Value                                Narration  \\\n",
       "0 2022-12-18             -33.10  BUNNINGS 556000 NEWSTEAD AU Card xx8568   \n",
       "1 2022-12-18             -16.47  BUNNINGS 556000 NEWSTEAD AU Card xx8568   \n",
       "2 2022-12-18              22.00                      POS 26652200 18 DEC   \n",
       "3 2022-12-19              69.98    Direct Credit 485450 SQUARE AU PTY LT   \n",
       "4 2022-12-19              98.00                      POS 26652200 19 DEC   \n",
       "\n",
       "   Account Balance Category  Balance Change  \n",
       "0         12420.45    Debit             NaN  \n",
       "1         12403.98    Debit          -16.47  \n",
       "2         12425.98   Credit           22.00  \n",
       "3         12495.96   Credit           69.98  \n",
       "4         12593.96   Credit           98.00  "
      ],
      "text/html": [
       "<div>\n",
       "<style scoped>\n",
       "    .dataframe tbody tr th:only-of-type {\n",
       "        vertical-align: middle;\n",
       "    }\n",
       "\n",
       "    .dataframe tbody tr th {\n",
       "        vertical-align: top;\n",
       "    }\n",
       "\n",
       "    .dataframe thead th {\n",
       "        text-align: right;\n",
       "    }\n",
       "</style>\n",
       "<table border=\"1\" class=\"dataframe\">\n",
       "  <thead>\n",
       "    <tr style=\"text-align: right;\">\n",
       "      <th></th>\n",
       "      <th>Date</th>\n",
       "      <th>Transaction Value</th>\n",
       "      <th>Narration</th>\n",
       "      <th>Account Balance</th>\n",
       "      <th>Category</th>\n",
       "      <th>Balance Change</th>\n",
       "    </tr>\n",
       "  </thead>\n",
       "  <tbody>\n",
       "    <tr>\n",
       "      <th>0</th>\n",
       "      <td>2022-12-18</td>\n",
       "      <td>-33.10</td>\n",
       "      <td>BUNNINGS 556000 NEWSTEAD AU Card xx8568</td>\n",
       "      <td>12420.45</td>\n",
       "      <td>Debit</td>\n",
       "      <td>NaN</td>\n",
       "    </tr>\n",
       "    <tr>\n",
       "      <th>1</th>\n",
       "      <td>2022-12-18</td>\n",
       "      <td>-16.47</td>\n",
       "      <td>BUNNINGS 556000 NEWSTEAD AU Card xx8568</td>\n",
       "      <td>12403.98</td>\n",
       "      <td>Debit</td>\n",
       "      <td>-16.47</td>\n",
       "    </tr>\n",
       "    <tr>\n",
       "      <th>2</th>\n",
       "      <td>2022-12-18</td>\n",
       "      <td>22.00</td>\n",
       "      <td>POS 26652200 18 DEC</td>\n",
       "      <td>12425.98</td>\n",
       "      <td>Credit</td>\n",
       "      <td>22.00</td>\n",
       "    </tr>\n",
       "    <tr>\n",
       "      <th>3</th>\n",
       "      <td>2022-12-19</td>\n",
       "      <td>69.98</td>\n",
       "      <td>Direct Credit 485450 SQUARE AU PTY LT</td>\n",
       "      <td>12495.96</td>\n",
       "      <td>Credit</td>\n",
       "      <td>69.98</td>\n",
       "    </tr>\n",
       "    <tr>\n",
       "      <th>4</th>\n",
       "      <td>2022-12-19</td>\n",
       "      <td>98.00</td>\n",
       "      <td>POS 26652200 19 DEC</td>\n",
       "      <td>12593.96</td>\n",
       "      <td>Credit</td>\n",
       "      <td>98.00</td>\n",
       "    </tr>\n",
       "  </tbody>\n",
       "</table>\n",
       "</div>"
      ]
     },
     "execution_count": 644,
     "metadata": {},
     "output_type": "execute_result"
    }
   ],
   "execution_count": 644
  },
  {
   "metadata": {
    "ExecuteTime": {
     "end_time": "2024-06-05T05:17:48.226884Z",
     "start_time": "2024-06-05T05:17:48.216288Z"
    }
   },
   "cell_type": "code",
   "source": [
    "# Monthly summary of transactions\n",
    "monthly_summary = brisbane_df.groupby([brisbane_df['Date'].dt.to_period('M'), 'Category'])['Transaction Value'].sum().unstack().fillna(0)"
   ],
   "id": "790c75e76beb40e0",
   "outputs": [],
   "execution_count": 645
  },
  {
   "metadata": {
    "ExecuteTime": {
     "end_time": "2024-06-05T05:17:48.393128Z",
     "start_time": "2024-06-05T05:17:48.389387Z"
    }
   },
   "cell_type": "code",
   "source": [
    "# Calculate net balance for each month\n",
    "monthly_summary['Net Cash'] = monthly_summary['Credit'] + monthly_summary['Debit']"
   ],
   "id": "39a6f22fddc46669",
   "outputs": [],
   "execution_count": 646
  },
  {
   "metadata": {
    "ExecuteTime": {
     "end_time": "2024-06-05T05:17:48.568811Z",
     "start_time": "2024-06-05T05:17:48.561615Z"
    }
   },
   "cell_type": "code",
   "source": [
    "# Calculate total income, total expenses, and net balance\n",
    "total_income = brisbane_df[brisbane_df['Category'] == 'Credit']['Transaction Value'].sum()\n",
    "total_expenses = brisbane_df[brisbane_df['Category'] == 'Debit']['Transaction Value'].sum()\n",
    "net_balance = total_income + total_expenses"
   ],
   "id": "94212b4f9c37073d",
   "outputs": [],
   "execution_count": 647
  },
  {
   "metadata": {
    "ExecuteTime": {
     "end_time": "2024-06-05T05:17:48.713435Z",
     "start_time": "2024-06-05T05:17:48.708171Z"
    }
   },
   "cell_type": "code",
   "source": [
    "# Print key metrics\n",
    "print(f\"Total Income: {total_income}\")\n",
    "print(f\"Total Expenses: {total_expenses}\")\n",
    "print(f\"Net Balance: {round(net_balance, 2)}\")"
   ],
   "id": "d837816ca7c7e7c7",
   "outputs": [
    {
     "name": "stdout",
     "output_type": "stream",
     "text": [
      "Total Income: 162875.28\n",
      "Total Expenses: -147289.57\n",
      "Net Balance: 15585.71\n"
     ]
    }
   ],
   "execution_count": 648
  },
  {
   "metadata": {
    "ExecuteTime": {
     "end_time": "2024-06-05T05:17:48.962805Z",
     "start_time": "2024-06-05T05:17:48.948805Z"
    }
   },
   "cell_type": "code",
   "source": [
    "# Display monthly summary\n",
    "monthly_summary"
   ],
   "id": "6caba7a2aa95865c",
   "outputs": [
    {
     "data": {
      "text/plain": [
       "Category    Credit     Debit  Net Cash\n",
       "Date                                  \n",
       "2022-12    7518.97  -9242.65  -1723.68\n",
       "2023-01   27558.03 -23332.82   4225.21\n",
       "2023-02   23328.31 -25572.61  -2244.30\n",
       "2023-03   19567.91 -12279.34   7288.57\n",
       "2023-04   24688.94 -19599.13   5089.81\n",
       "2023-05   32476.78 -40253.49  -7776.71\n",
       "2023-06   27736.34 -17009.53  10726.81"
      ],
      "text/html": [
       "<div>\n",
       "<style scoped>\n",
       "    .dataframe tbody tr th:only-of-type {\n",
       "        vertical-align: middle;\n",
       "    }\n",
       "\n",
       "    .dataframe tbody tr th {\n",
       "        vertical-align: top;\n",
       "    }\n",
       "\n",
       "    .dataframe thead th {\n",
       "        text-align: right;\n",
       "    }\n",
       "</style>\n",
       "<table border=\"1\" class=\"dataframe\">\n",
       "  <thead>\n",
       "    <tr style=\"text-align: right;\">\n",
       "      <th>Category</th>\n",
       "      <th>Credit</th>\n",
       "      <th>Debit</th>\n",
       "      <th>Net Cash</th>\n",
       "    </tr>\n",
       "    <tr>\n",
       "      <th>Date</th>\n",
       "      <th></th>\n",
       "      <th></th>\n",
       "      <th></th>\n",
       "    </tr>\n",
       "  </thead>\n",
       "  <tbody>\n",
       "    <tr>\n",
       "      <th>2022-12</th>\n",
       "      <td>7518.97</td>\n",
       "      <td>-9242.65</td>\n",
       "      <td>-1723.68</td>\n",
       "    </tr>\n",
       "    <tr>\n",
       "      <th>2023-01</th>\n",
       "      <td>27558.03</td>\n",
       "      <td>-23332.82</td>\n",
       "      <td>4225.21</td>\n",
       "    </tr>\n",
       "    <tr>\n",
       "      <th>2023-02</th>\n",
       "      <td>23328.31</td>\n",
       "      <td>-25572.61</td>\n",
       "      <td>-2244.30</td>\n",
       "    </tr>\n",
       "    <tr>\n",
       "      <th>2023-03</th>\n",
       "      <td>19567.91</td>\n",
       "      <td>-12279.34</td>\n",
       "      <td>7288.57</td>\n",
       "    </tr>\n",
       "    <tr>\n",
       "      <th>2023-04</th>\n",
       "      <td>24688.94</td>\n",
       "      <td>-19599.13</td>\n",
       "      <td>5089.81</td>\n",
       "    </tr>\n",
       "    <tr>\n",
       "      <th>2023-05</th>\n",
       "      <td>32476.78</td>\n",
       "      <td>-40253.49</td>\n",
       "      <td>-7776.71</td>\n",
       "    </tr>\n",
       "    <tr>\n",
       "      <th>2023-06</th>\n",
       "      <td>27736.34</td>\n",
       "      <td>-17009.53</td>\n",
       "      <td>10726.81</td>\n",
       "    </tr>\n",
       "  </tbody>\n",
       "</table>\n",
       "</div>"
      ]
     },
     "execution_count": 649,
     "metadata": {},
     "output_type": "execute_result"
    }
   ],
   "execution_count": 649
  },
  {
   "metadata": {
    "ExecuteTime": {
     "end_time": "2024-06-05T05:17:49.397841Z",
     "start_time": "2024-06-05T05:17:49.075835Z"
    }
   },
   "cell_type": "code",
   "source": [
    "plt.figure(figsize=(10, 5))\n",
    "plt.plot(brisbane_df['Date'], brisbane_df['Account Balance'], marker='o', linestyle='-')\n",
    "plt.title('Brisbane Account Balance')\n",
    "plt.xlabel('Date')\n",
    "plt.ylabel('Account Balance')\n",
    "plt.grid(True)\n",
    "plt.show()"
   ],
   "id": "d30fc35bb7eaef33",
   "outputs": [
    {
     "data": {
      "text/plain": [
       "<Figure size 1000x500 with 1 Axes>"
      ],
      "image/png": "[encoded data removed]"
     },
     "metadata": {},
     "output_type": "display_data"
    }
   ],
   "execution_count": 650
  },
  {
   "metadata": {
    "ExecuteTime": {
     "end_time": "2024-06-05T05:17:49.900537Z",
     "start_time": "2024-06-05T05:17:49.401296Z"
    }
   },
   "cell_type": "code",
   "source": [
    "# plotting monthly income and expenses with net cash line\n",
    "fig, ax1 = plt.subplots(figsize=(12, 6))\n",
    "\n",
    "monthly_summary[['Credit', 'Debit']].plot(kind='bar', stacked=True, ax=ax1)\n",
    "ax1.set_title('Monthly Income and Expenses')\n",
    "ax1.set_xlabel('Month')\n",
    "ax1.set_ylabel('Amount')\n",
    "ax1.grid(True)\n",
    "\n",
    "# Plot net cash line\n",
    "ax2 = ax1.twinx()\n",
    "ax2.plot(monthly_summary.index.astype(str), monthly_summary['Net Cash'], color='red', marker='o', linestyle='-', label='Net Cash')\n",
    "ax2.set_ylabel('Net Cash')\n",
    "\n",
    "# Combine legends\n",
    "lines, labels = ax1.get_legend_handles_labels()\n",
    "lines2, labels2 = ax2.get_legend_handles_labels()\n",
    "ax1.legend(lines + lines2, labels + labels2, loc='upper left')\n",
    "\n",
    "plt.show()"
   ],
   "id": "b109f879bc9487be",
   "outputs": [
    {
     "data": {
      "text/plain": [
       "<Figure size 1200x600 with 2 Axes>"
      ],
      "image/png": "[encoded data removed]"
     },
     "metadata": {},
     "output_type": "display_data"
    }
   ],
   "execution_count": 651
  },
  {
   "metadata": {
    "ExecuteTime": {
     "end_time": "2024-06-05T05:17:50.075952Z",
     "start_time": "2024-06-05T05:17:49.903091Z"
    }
   },
   "cell_type": "code",
   "source": [
    "# Detect anomalies in transaction values\n",
    "brisbane_df['Transaction Value'].plot(kind='box', figsize=(8, 6))\n",
    "plt.title('Box Plot of Transaction Values')\n",
    "plt.ylabel('Transaction Value')\n",
    "plt.show()"
   ],
   "id": "a958c7dcba6f7848",
   "outputs": [
    {
     "data": {
      "text/plain": [
       "<Figure size 800x600 with 1 Axes>"
      ],
      "image/png": "[encoded data removed]"
     },
     "metadata": {},
     "output_type": "display_data"
    }
   ],
   "execution_count": 652
  },
  {
   "metadata": {
    "ExecuteTime": {
     "end_time": "2024-06-05T05:17:50.138124Z",
     "start_time": "2024-06-05T05:17:50.077551Z"
    }
   },
   "cell_type": "code",
   "source": [
    "# Interactive box plot using plotly\n",
    "fig = px.box(brisbane_df, y='Transaction Value', points=\"all\", hover_data=['Date', 'Narration', 'Transaction Value'])\n",
    "fig.update_layout(\n",
    "    title='Box Plot of Transaction Values with Hover Text',\n",
    "    yaxis_title='Transaction Value'\n",
    ")\n",
    "fig.show()"
   ],
   "id": "f9560c5dbf92294",
   "outputs": [
    {
     "data": {
      "application/vnd.plotly.v1+json": {
       "data": [
        {
         "alignmentgroup": "True",
         "boxpoints": "all",
         "customdata": [
          [
           "2022-12-18T00:00:00",
           "BUNNINGS 556000 NEWSTEAD AU Card xx8568"
          ],
          [
           "2022-12-18T00:00:00",
           "BUNNINGS 556000 NEWSTEAD AU Card xx8568"
          ],
          [
           "2022-12-18T00:00:00",
           "POS 26652200 18 DEC"
          ],
          [
           "2022-12-19T00:00:00",
           "Direct Credit 485450 SQUARE AU PTY LT"
          ],
          [
           "2022-12-19T00:00:00",
           "POS 26652200 19 DEC"
          ],
          [
           "2022-12-20T00:00:00",
           "Transfer To Gimanana Pty Ltd CommBank App 222306zer"
          ],
          [
           "2022-12-20T00:00:00",
           "Transfer To Leisa Ohl CommBank App wages"
          ],
          [
           "2022-12-20T00:00:00",
           "Transfer To Jamie Timms CommBank App wages"
          ],
          [
           "2022-12-20T00:00:00",
           "POS 26652200 20 DEC"
          ],
          [
           "2022-12-20T00:00:00",
           "WOOLWORTHS/MT GRAVATT PLZ MT GRAVATT AU Card xx8568 Value Date: 16/12/2022"
          ],
          [
           "2022-12-20T00:00:00",
           "Fast Transfer From BENJAMEN MAYFIELD-SMI rent per client Matter Athletica"
          ],
          [
           "2022-12-20T00:00:00",
           "Direct Credit 485450 SQUARE AU PTY LT"
          ],
          [
           "2022-12-20T00:00:00",
           "Direct Debit 507156 XEROAUSTRALIAPTY XeroAUINV_N1uzrrJK"
          ],
          [
           "2022-12-20T00:00:00",
           "Fast Transfer From BENJAMEN MAYFIELD-SMI rent per client Matter Athletica"
          ],
          [
           "2022-12-21T00:00:00",
           "AMAZON AU SYDNEY SOUTH AU Card xx8568 Value Date: 18/12/2022"
          ],
          [
           "2022-12-21T00:00:00",
           "Direct Credit 485450 SQUARE AU PTY LT"
          ],
          [
           "2022-12-21T00:00:00",
           "POS 26652200 21 DEC"
          ],
          [
           "2022-12-22T00:00:00",
           "FACEBK TW2FZLB9Q2 fb.me/ads IE Card xx8568 AUD 44.61 Value Date: 20/12/2022"
          ],
          [
           "2022-12-22T00:00:00",
           "Direct Credit 485450 SQUARE AU PTY LT"
          ],
          [
           "2022-12-22T00:00:00",
           "POS 26652200 22 DEC"
          ],
          [
           "2022-12-23T00:00:00",
           "Direct Credit 485450 SQUARE AU PTY LT"
          ],
          [
           "2022-12-23T00:00:00",
           "POS 26652200 23 DEC"
          ],
          [
           "2022-12-24T00:00:00",
           "Fast Transfer From Square Australia Pty CREDIT TO ACCOUNT T200546954256"
          ],
          [
           "2022-12-24T00:00:00",
           "POS 26652200 24 DEC"
          ],
          [
           "2022-12-25T00:00:00",
           "POS 26652200 25 DEC"
          ],
          [
           "2022-12-25T00:00:00",
           "Fast Transfer From Square Australia Pty CREDIT TO ACCOUNT T200547144835"
          ],
          [
           "2022-12-26T00:00:00",
           "POS 26652200 26 DEC"
          ],
          [
           "2022-12-27T00:00:00",
           "POS 26652200 27 DEC"
          ],
          [
           "2022-12-28T00:00:00",
           "Transfer To Jamie Timms CommBank App wages"
          ],
          [
           "2022-12-28T00:00:00",
           "Transfer To Leisa Ohl CommBank App wages"
          ],
          [
           "2022-12-28T00:00:00",
           "Direct Credit 485450 SQUARE AU PTY LT"
          ],
          [
           "2022-12-28T00:00:00",
           "Direct Credit 485450 SQUARE AU PTY LT"
          ],
          [
           "2022-12-28T00:00:00",
           "Direct Credit 485450 SQUARE AU PTY LT"
          ],
          [
           "2022-12-28T00:00:00",
           "POS 26652200 28 DEC"
          ],
          [
           "2022-12-29T00:00:00",
           "Direct Credit 485450 SQUARE AU PTY LT"
          ],
          [
           "2022-12-29T00:00:00",
           "POS 26652200 29 DEC"
          ],
          [
           "2022-12-30T00:00:00",
           "Transfer To Frucor CommBank App 695260"
          ],
          [
           "2022-12-30T00:00:00",
           "Fast Transfer From MATTHEW STENZEL January January axiom"
          ],
          [
           "2022-12-30T00:00:00",
           "Direct Credit 485450 SQUARE AU PTY LT"
          ],
          [
           "2022-12-30T00:00:00",
           "POS 26652200 30 DEC"
          ],
          [
           "2022-12-31T00:00:00",
           "Fast Transfer From Square Australia Pty CREDIT TO ACCOUNT T200548984146"
          ],
          [
           "2022-12-31T00:00:00",
           "POS 26652200 31 DEC"
          ],
          [
           "2023-01-01T00:00:00",
           "Fast Transfer From Square Australia Pty CREDIT TO ACCOUNT T200549164454"
          ],
          [
           "2023-01-01T00:00:00",
           "POS 26652200 01 JAN"
          ],
          [
           "2023-01-02T00:00:00",
           "POS 26652200 02 JAN"
          ],
          [
           "2023-01-02T00:00:00",
           "CBA MERCHANT FEE 5353109492238548 Value Date: 31/12/2022"
          ],
          [
           "2023-01-03T00:00:00",
           "Direct Credit 485450 SQUARE AU PTY LT"
          ],
          [
           "2023-01-03T00:00:00",
           "Direct Credit 485450 SQUARE AU PTY LT"
          ],
          [
           "2023-01-03T00:00:00",
           "Transfer To Jamie Timms CommBank App wages"
          ],
          [
           "2023-01-03T00:00:00",
           "Transfer To Leisa Ohl CommBank App wages"
          ],
          [
           "2023-01-03T00:00:00",
           "POS 26652200 03 JAN"
          ],
          [
           "2023-01-04T00:00:00",
           "COLES 4450 LUTWYCHE AU Card xx8568 Value Date: 02/01/2023"
          ],
          [
           "2023-01-04T00:00:00",
           "FACEBK 2A5BHLB8Q2 fb.me/ads IE Card xx8568 AUD 385.00 Value Date: 31/12/2022"
          ],
          [
           "2023-01-04T00:00:00",
           "Direct Credit 485450 SQUARE AU PTY LT"
          ],
          [
           "2023-01-04T00:00:00",
           "POS 26652200 04 JAN"
          ],
          [
           "2023-01-05T00:00:00",
           "Direct Credit 485450 SQUARE AU PTY LT"
          ],
          [
           "2023-01-05T00:00:00",
           "POS 26652200 05 JAN"
          ],
          [
           "2023-01-06T00:00:00",
           "POS 26652200 06 JAN"
          ],
          [
           "2023-01-06T00:00:00",
           "Direct Credit 485450 SQUARE AU PTY LT"
          ],
          [
           "2023-01-07T00:00:00",
           "Fast Transfer From Square Australia Pty CREDIT TO ACCOUNT T200551508136"
          ],
          [
           "2023-01-07T00:00:00",
           "POS 26652200 07 JAN"
          ],
          [
           "2023-01-08T00:00:00",
           "Fast Transfer From Square Australia Pty CREDIT TO ACCOUNT T200551709704"
          ],
          [
           "2023-01-09T00:00:00",
           "Direct Credit 485450 SQUARE AU PTY LT"
          ],
          [
           "2023-01-09T00:00:00",
           "POS 26652200 09 JAN"
          ],
          [
           "2023-01-10T00:00:00",
           "WOOLWORTHS/543 LUTWYCHE R LUTWYCHE AU Card xx8568 Value Date: 08/01/2023"
          ],
          [
           "2023-01-10T00:00:00",
           "Transfer To Jamie Timms CommBank App wages"
          ],
          [
           "2023-01-10T00:00:00",
           "Transfer To Leisa Ohl CommBank App wages"
          ],
          [
           "2023-01-10T00:00:00",
           "Transfer To Coastal Oak Accounting CommBank App zerowbr"
          ],
          [
           "2023-01-10T00:00:00",
           "Transfer To Frucor CommBank App 695260"
          ],
          [
           "2023-01-10T00:00:00",
           "Direct Credit 485450 SQUARE AU PTY LT"
          ],
          [
           "2023-01-10T00:00:00",
           "POS 26652200 10 JAN"
          ],
          [
           "2023-01-10T00:00:00",
           "TAX OFFICE PAYMENTS CommBank app BPAY 75556 003005991430841721 super"
          ],
          [
           "2023-01-11T00:00:00",
           "POS 26652200 11 JAN"
          ],
          [
           "2023-01-11T00:00:00",
           "Transfer to CBA A/c CommBank app invzb1101"
          ],
          [
           "2023-01-11T00:00:00",
           "Direct Credit 485450 SQUARE AU PTY LT"
          ],
          [
           "2023-01-12T00:00:00",
           "POS 26652200 12 JAN"
          ],
          [
           "2023-01-12T00:00:00",
           "Transfer from CommBank app cash float"
          ],
          [
           "2023-01-12T00:00:00",
           "Direct Credit 485450 SQUARE AU PTY LT"
          ],
          [
           "2023-01-13T00:00:00",
           "POS 26652200 13 JAN"
          ],
          [
           "2023-01-13T00:00:00",
           "Direct Credit 485450 SQUARE AU PTY LT"
          ],
          [
           "2023-01-14T00:00:00",
           "Fast Transfer From Square Australia Pty CREDIT TO ACCOUNT T200553868599"
          ],
          [
           "2023-01-14T00:00:00",
           "POS 26652200 14 JAN"
          ],
          [
           "2023-01-15T00:00:00",
           "Fast Transfer From Square Australia Pty CREDIT TO ACCOUNT T200554084304"
          ],
          [
           "2023-01-15T00:00:00",
           "POS 26652200 15 JAN"
          ],
          [
           "2023-01-16T00:00:00",
           "Direct Credit 485450 SQUARE AU PTY LT"
          ],
          [
           "2023-01-16T00:00:00",
           "POS 26652200 16 JAN"
          ],
          [
           "2023-01-17T00:00:00",
           "WOOLWORTHS/MT GRAVATT PLZ MT GRAVATT AU Card xx8568 Value Date: 14/01/2023"
          ],
          [
           "2023-01-17T00:00:00",
           "Transfer To Jamie Timms CommBank App wages"
          ],
          [
           "2023-01-17T00:00:00",
           "Transfer To Leisa Ohl CommBank App wages"
          ],
          [
           "2023-01-17T00:00:00",
           "TELSTRA CommBank app BPAY 23796 2000724466519 zerow internet"
          ],
          [
           "2023-01-17T00:00:00",
           "Direct Credit 485450 SQUARE AU PTY LT"
          ],
          [
           "2023-01-17T00:00:00",
           "Fast Transfer From BENJAMEN MAYFIELD-SMI Matter Athletica"
          ],
          [
           "2023-01-17T00:00:00",
           "POS 26652200 17 JAN"
          ],
          [
           "2023-01-18T00:00:00",
           "POS 26652200 18 JAN"
          ],
          [
           "2023-01-18T00:00:00",
           "Direct Credit 485450 SQUARE AU PTY LT"
          ],
          [
           "2023-01-18T00:00:00",
           "Transfer To Red Octopus PTY LTD CommBank App ZeroW shirt order"
          ],
          [
           "2023-01-19T00:00:00",
           "Direct Credit 485450 SQUARE AU PTY LT"
          ],
          [
           "2023-01-19T00:00:00",
           "POS 26652200 19 JAN"
          ],
          [
           "2023-01-20T00:00:00",
           "Direct Credit 485450 SQUARE AU PTY LT"
          ],
          [
           "2023-01-20T00:00:00",
           "Direct Debit 507156 XEROAUSTRALIAPTY XeroAUINV_NCV19Z8y"
          ],
          [
           "2023-01-20T00:00:00",
           "POS 26652200 20 JAN"
          ],
          [
           "2023-01-21T00:00:00",
           "Fast Transfer From Square Australia Pty CREDIT TO ACCOUNT T200556212529"
          ],
          [
           "2023-01-21T00:00:00",
           "POS 26652200 21 JAN"
          ],
          [
           "2023-01-22T00:00:00",
           "Fast Transfer From Square Australia Pty CREDIT TO ACCOUNT T200556462252"
          ],
          [
           "2023-01-23T00:00:00",
           "Transfer To Better Water CommBank App INV-10932"
          ],
          [
           "2023-01-23T00:00:00",
           "Direct Credit 485450 SQUARE AU PTY LT"
          ],
          [
           "2023-01-23T00:00:00",
           "POS 26652200 23 JAN"
          ],
          [
           "2023-01-24T00:00:00",
           "Direct Credit 485450 SQUARE AU PTY LT"
          ],
          [
           "2023-01-24T00:00:00",
           "Transfer To Leisa Ohl CommBank App wages"
          ],
          [
           "2023-01-24T00:00:00",
           "POS 26652200 24 JAN"
          ],
          [
           "2023-01-24T00:00:00",
           "FACEBK W9L3TMB9Q2 fb.me/ads IE Card xx8568 AUD 76.99 Value Date: 20/01/2023"
          ],
          [
           "2023-01-24T00:00:00",
           "Transfer To Jamie Timms CommBank App wages"
          ],
          [
           "2023-01-24T00:00:00",
           "Direct Credit 452940 EDUCATION DETRCWSLOHL"
          ],
          [
           "2023-01-24T00:00:00",
           "Direct Debit 481471 SuperChoice P/L PC240123-199523381"
          ],
          [
           "2023-01-24T00:00:00",
           "Direct Credit 452940 EDUCATION DETRCWSJTIMMS"
          ],
          [
           "2023-01-25T00:00:00",
           "Transfer To Gimanana Pty Ltd CommBank App 222307Zer"
          ],
          [
           "2023-01-25T00:00:00",
           "Direct Credit 485450 SQUARE AU PTY LT"
          ],
          [
           "2023-01-26T00:00:00",
           "POS 26652200 25 JAN Value Date: 25/01/2023"
          ],
          [
           "2023-01-26T00:00:00",
           "WOOLWORTHS/MT GRAVATT PLZ MT GRAVATT AU Card xx8568 Value Date: 24/01/2023"
          ],
          [
           "2023-01-26T00:00:00",
           "POS 26652200 26 JAN"
          ],
          [
           "2023-01-27T00:00:00",
           "Direct Credit 485450 SQUARE AU PTY LT"
          ],
          [
           "2023-01-27T00:00:00",
           "Direct Credit 485450 SQUARE AU PTY LT"
          ],
          [
           "2023-01-27T00:00:00",
           "POS 26652200 27 JAN"
          ],
          [
           "2023-01-28T00:00:00",
           "POS 26652200 28 JAN"
          ],
          [
           "2023-01-28T00:00:00",
           "OFFICEWORKS 0437 WILSTON AU Card xx8568 Value Date: 25/01/2023"
          ],
          [
           "2023-01-28T00:00:00",
           "Fast Transfer From Square Australia Pty CREDIT TO ACCOUNT T200558621522"
          ],
          [
           "2023-01-29T00:00:00",
           "Fast Transfer From Square Australia Pty CREDIT TO ACCOUNT T200558856729"
          ],
          [
           "2023-01-29T00:00:00",
           "POS 26652200 29 JAN"
          ],
          [
           "2023-01-30T00:00:00",
           "Direct Credit 485450 SQUARE AU PTY LT"
          ],
          [
           "2023-01-30T00:00:00",
           "POS 26652200 30 JAN"
          ],
          [
           "2023-01-31T00:00:00",
           "POS 26652200 31 JAN"
          ],
          [
           "2023-01-31T00:00:00",
           "Fast Transfer From BENJAMEN MAYFIELD-SMI matter athletica clients"
          ],
          [
           "2023-01-31T00:00:00",
           "Direct Credit 485450 SQUARE AU PTY LT"
          ],
          [
           "2023-01-31T00:00:00",
           "Transfer To Leisa Ohl CommBank App wages"
          ],
          [
           "2023-01-31T00:00:00",
           "Direct Debit 481471 SuperChoice P/L PC310123-100672531"
          ],
          [
           "2023-01-31T00:00:00",
           "Transfer To Jamie Timms CommBank App wages"
          ],
          [
           "2023-02-01T00:00:00",
           "Direct Credit 485450 SQUARE AU PTY LT"
          ],
          [
           "2023-02-01T00:00:00",
           "POS 26652200 01 FEB"
          ],
          [
           "2023-02-02T00:00:00",
           "Transfer To Frucor CommBank App 695260"
          ],
          [
           "2023-02-02T00:00:00",
           "Direct Credit 485450 SQUARE AU PTY LT"
          ],
          [
           "2023-02-02T00:00:00",
           "CBA MERCHANT FEE 5353109492238548 Value Date: 31/01/2023"
          ],
          [
           "2023-02-02T00:00:00",
           "POS 26652200 02 FEB"
          ],
          [
           "2023-02-03T00:00:00",
           "Direct Credit 485450 SQUARE AU PTY LT"
          ],
          [
           "2023-02-03T00:00:00",
           "POS 26652200 03 FEB"
          ],
          [
           "2023-02-04T00:00:00",
           "Fast Transfer From Square Australia Pty CREDIT TO ACCOUNT T200561480494"
          ],
          [
           "2023-02-04T00:00:00",
           "POS 26652200 04 FEB"
          ],
          [
           "2023-02-05T00:00:00",
           "POS 26652200 05 FEB"
          ],
          [
           "2023-02-05T00:00:00",
           "ORIGIN ENERGY CommBank app BPAY 130112 786863031500 brisbane power"
          ],
          [
           "2023-02-05T00:00:00",
           "Fast Transfer From Square Australia Pty CREDIT TO ACCOUNT T200561696447"
          ],
          [
           "2023-02-06T00:00:00",
           "POS 26652200 06 FEB"
          ],
          [
           "2023-02-06T00:00:00",
           "Direct Credit 485450 SQUARE AU PTY LT"
          ],
          [
           "2023-02-06T00:00:00",
           "Direct Debit 537033 Paypa Plane PpSoftwr 1KL4XLOY"
          ],
          [
           "2023-02-07T00:00:00",
           "Transfer To Leisa Ohl CommBank App wages"
          ],
          [
           "2023-02-07T00:00:00",
           "Direct Credit 485450 SQUARE AU PTY LT"
          ],
          [
           "2023-02-07T00:00:00",
           "POS 26652200 07 FEB"
          ],
          [
           "2023-02-07T00:00:00",
           "Transfer To Jamie Timms CommBank App wages"
          ],
          [
           "2023-02-08T00:00:00",
           "The Green Edge Windsor AU Card xx8568 Value Date: 06/02/2023"
          ],
          [
           "2023-02-08T00:00:00",
           "WOOLWORTHS/ARA ST & THOMA CAMP HILL AU Card xx8568 Value Date: 06/02/2023"
          ],
          [
           "2023-02-08T00:00:00",
           "Direct Credit 485450 SQUARE AU PTY LT"
          ],
          [
           "2023-02-08T00:00:00",
           "Direct Debit 481471 SuperChoice P/L PC070223-165349321"
          ],
          [
           "2023-02-08T00:00:00",
           "POS 26652200 08 FEB"
          ],
          [
           "2023-02-09T00:00:00",
           "Fast Transfer From MATTHEW STENZEL Axiom rent Axiom"
          ],
          [
           "2023-02-09T00:00:00",
           "Direct Credit 485450 SQUARE AU PTY LT"
          ],
          [
           "2023-02-09T00:00:00",
           "POS 26652200 09 FEB"
          ],
          [
           "2023-02-10T00:00:00",
           "Direct Credit 485450 SQUARE AU PTY LT"
          ],
          [
           "2023-02-10T00:00:00",
           "POS 26652200 10 FEB"
          ],
          [
           "2023-02-11T00:00:00",
           "Fast Transfer From Square Australia Pty CREDIT TO ACCOUNT T200564057219"
          ],
          [
           "2023-02-11T00:00:00",
           "POS 26652200 11 FEB"
          ],
          [
           "2023-02-12T00:00:00",
           "POS 26652200 12 FEB"
          ],
          [
           "2023-02-12T00:00:00",
           "Fast Transfer From Square Australia Pty CREDIT TO ACCOUNT T200564322611"
          ],
          [
           "2023-02-13T00:00:00",
           "Transfer to CBA A/c CommBank app vacuumlaptop"
          ],
          [
           "2023-02-13T00:00:00",
           "Direct Credit 485450 SQUARE AU PTY LT"
          ],
          [
           "2023-02-13T00:00:00",
           "POS 26652200 13 FEB"
          ],
          [
           "2023-02-14T00:00:00",
           "Transfer To Jamie Timms CommBank App wages"
          ],
          [
           "2023-02-14T00:00:00",
           "Transfer To Leisa Ohl CommBank App wages"
          ],
          [
           "2023-02-14T00:00:00",
           "Direct Credit 485450 SQUARE AU PTY LT"
          ],
          [
           "2023-02-14T00:00:00",
           "POS 26652200 14 FEB"
          ],
          [
           "2023-02-15T00:00:00",
           "KMART 1275 STAFFORD AU Card xx8568 Value Date: 13/02/2023"
          ],
          [
           "2023-02-15T00:00:00",
           "Direct Credit 485450 SQUARE AU PTY LT"
          ],
          [
           "2023-02-15T00:00:00",
           "POS 26652200 15 FEB"
          ],
          [
           "2023-02-16T00:00:00",
           "CHEMIST WAREHOUSE WINDSOR AU Card xx8568 Value Date: 13/02/2023"
          ],
          [
           "2023-02-16T00:00:00",
           "Transfer To Gimanana Pty Ltd CommBank App 222308Zer"
          ],
          [
           "2023-02-16T00:00:00",
           "Direct Credit 485450 SQUARE AU PTY LT"
          ],
          [
           "2023-02-16T00:00:00",
           "POS 26652200 16 FEB"
          ],
          [
           "2023-02-17T00:00:00",
           "Direct Debit 064563 CommBank G'TEE FEE 00705441"
          ],
          [
           "2023-02-17T00:00:00",
           "POS 26652200 17 FEB"
          ],
          [
           "2023-02-17T00:00:00",
           "ORIGIN ENERGY CommBank app BPAY 130112 786863031500 power"
          ],
          [
           "2023-02-17T00:00:00",
           "Direct Credit 485450 SQUARE AU PTY LT"
          ],
          [
           "2023-02-18T00:00:00",
           "POS 26652200 18 FEB"
          ],
          [
           "2023-02-18T00:00:00",
           "Fast Transfer From Square Australia Pty CREDIT TO ACCOUNT T200566646797"
          ],
          [
           "2023-02-19T00:00:00",
           "Fast Transfer From Square Australia Pty CREDIT TO ACCOUNT T200566907975"
          ],
          [
           "2023-02-19T00:00:00",
           "POS 26652200 19 FEB"
          ],
          [
           "2023-02-20T00:00:00",
           "Direct Credit 485450 SQUARE AU PTY LT"
          ],
          [
           "2023-02-20T00:00:00",
           "Direct Debit 507156 XEROAUSTRALIAPTY XeroAUINV_NP4XQ8HX"
          ],
          [
           "2023-02-20T00:00:00",
           "POS 26652200 20 FEB"
          ],
          [
           "2023-02-21T00:00:00",
           "Transfer To Leisa Ohl CommBank App wages"
          ],
          [
           "2023-02-21T00:00:00",
           "Direct Credit 485450 SQUARE AU PTY LT"
          ],
          [
           "2023-02-21T00:00:00",
           "Transfer To Fab signs CommBank App INV-15003"
          ],
          [
           "2023-02-21T00:00:00",
           "Direct Debit 481471 SuperChoice P/L PC210223-116137523"
          ],
          [
           "2023-02-21T00:00:00",
           "POS 26652200 21 FEB"
          ],
          [
           "2023-02-21T00:00:00",
           "Transfer To Jamie Timms CommBank App wages"
          ],
          [
           "2023-02-22T00:00:00",
           "Direct Credit 485450 SQUARE AU PTY LT"
          ],
          [
           "2023-02-22T00:00:00",
           "POS 26652200 22 FEB"
          ],
          [
           "2023-02-23T00:00:00",
           "POS 26652200 23 FEB"
          ],
          [
           "2023-02-23T00:00:00",
           "Direct Credit 485450 SQUARE AU PTY LT"
          ],
          [
           "2023-02-23T00:00:00",
           "WOOLWORTHS/MT GRAVATT PLZ MT GRAVATT AU Card xx8568 Value Date: 21/02/2023"
          ],
          [
           "2023-02-24T00:00:00",
           "Direct Credit 485450 SQUARE AU PTY LT"
          ],
          [
           "2023-02-24T00:00:00",
           "POS 26652200 24 FEB"
          ],
          [
           "2023-02-25T00:00:00",
           "The Green Edge Windsor AU Card xx8568 Value Date: 23/02/2023"
          ],
          [
           "2023-02-25T00:00:00",
           "Fast Transfer From Square Australia Pty CREDIT TO ACCOUNT T200569196777"
          ],
          [
           "2023-02-25T00:00:00",
           "POS 26652200 25 FEB"
          ],
          [
           "2023-02-26T00:00:00",
           "Fast Transfer From Square Australia Pty CREDIT TO ACCOUNT T200569420671"
          ],
          [
           "2023-02-26T00:00:00",
           "POS 26652200 26 FEB"
          ],
          [
           "2023-02-26T00:00:00",
           "TAX OFFICE PAYMENTS CommBank app BPAY 75556 002546508512197060 tax"
          ],
          [
           "2023-02-26T00:00:00",
           "Transfer To Coastal Oak Accounting CommBank App zerowbr"
          ],
          [
           "2023-02-27T00:00:00",
           "Direct Credit 485450 SQUARE AU PTY LT"
          ],
          [
           "2023-02-27T00:00:00",
           "POS 26652200 27 FEB"
          ],
          [
           "2023-02-28T00:00:00",
           "Transfer To Jamie Timms CommBank App wages"
          ],
          [
           "2023-02-28T00:00:00",
           "Transfer To Leisa Ohl CommBank App wages"
          ],
          [
           "2023-02-28T00:00:00",
           "Direct Credit 485450 SQUARE AU PTY LT"
          ],
          [
           "2023-02-28T00:00:00",
           "POS 26652200 28 FEB"
          ],
          [
           "2023-03-01T00:00:00",
           "POS 26652200 01 MAR"
          ],
          [
           "2023-03-01T00:00:00",
           "Direct Debit 537033 Paypa Plane PpSoftwr Y03W9OMY"
          ],
          [
           "2023-03-01T00:00:00",
           "Direct Credit 485450 SQUARE AU PTY LT"
          ],
          [
           "2023-03-01T00:00:00",
           "Fast Transfer From BENJAMEN MAYFIELD-SMI feb training MA004"
          ],
          [
           "2023-03-01T00:00:00",
           "BLOCK HOUSE COFFEE AND NUNDAH AU Card xx8568 Value Date: 26/02/2023"
          ],
          [
           "2023-03-02T00:00:00",
           "Direct Credit 485450 SQUARE AU PTY LT"
          ],
          [
           "2023-03-02T00:00:00",
           "POS 26652200 02 MAR"
          ],
          [
           "2023-03-03T00:00:00",
           "CBA MERCHANT FEE 5353109492238548 Value Date: 28/02/2023"
          ],
          [
           "2023-03-03T00:00:00",
           "TELSTRA CommBank app BPAY 23796 2000724466519 Zerow"
          ],
          [
           "2023-03-03T00:00:00",
           "Direct Credit 485450 SQUARE AU PTY LT"
          ],
          [
           "2023-03-03T00:00:00",
           "POS 26652200 03 MAR"
          ],
          [
           "2023-03-04T00:00:00",
           "Fast Transfer From Square Australia Pty CREDIT TO ACCOUNT T200572293711"
          ],
          [
           "2023-03-04T00:00:00",
           "POS 26652200 04 MAR"
          ],
          [
           "2023-03-05T00:00:00",
           "Fast Transfer From Square Australia Pty CREDIT TO ACCOUNT T200572581799"
          ],
          [
           "2023-03-05T00:00:00",
           "POS 26652200 05 MAR"
          ],
          [
           "2023-03-06T00:00:00",
           "POS 26652200 06 MAR"
          ],
          [
           "2023-03-06T00:00:00",
           "Direct Debit 316623 Telstra DDebit 2000724466519"
          ],
          [
           "2023-03-06T00:00:00",
           "Direct Credit 485450 SQUARE AU PTY LT"
          ],
          [
           "2023-03-07T00:00:00",
           "Direct Credit 485450 SQUARE AU PTY LT"
          ],
          [
           "2023-03-07T00:00:00",
           "Transfer To Jamie Timms CommBank App wages"
          ],
          [
           "2023-03-07T00:00:00",
           "Transfer To Leisa Ohl CommBank App wages"
          ],
          [
           "2023-03-07T00:00:00",
           "Transfer To Frucor CommBank App 695260zerow"
          ],
          [
           "2023-03-07T00:00:00",
           "POS 26652200 07 MAR"
          ],
          [
           "2023-03-08T00:00:00",
           "POS 26652200 08 MAR"
          ],
          [
           "2023-03-08T00:00:00",
           "Direct Debit 481471 SuperChoice P/L PC070323-154449116"
          ],
          [
           "2023-03-08T00:00:00",
           "CHEMIST WAREHOUSE WINDSOR AU Card xx8568 Value Date: 03/03/2023"
          ],
          [
           "2023-03-08T00:00:00",
           "COLES 4450 LUTWYCHE AU Card xx8568 Value Date: 06/03/2023"
          ],
          [
           "2023-03-08T00:00:00",
           "Direct Credit 485450 SQUARE AU PTY LT"
          ],
          [
           "2023-03-09T00:00:00",
           "Direct Credit 485450 SQUARE AU PTY LT"
          ],
          [
           "2023-03-09T00:00:00",
           "POS 26652200 09 MAR"
          ],
          [
           "2023-03-10T00:00:00",
           "Direct Credit 485450 SQUARE AU PTY LT"
          ],
          [
           "2023-03-10T00:00:00",
           "POS 26652200 10 MAR"
          ],
          [
           "2023-03-11T00:00:00",
           "Fast Transfer From Square Australia Pty CREDIT TO ACCOUNT T200575139914"
          ],
          [
           "2023-03-11T00:00:00",
           "POS 26652200 11 MAR"
          ],
          [
           "2023-03-12T00:00:00",
           "Fast Transfer From Square Australia Pty CREDIT TO ACCOUNT T200575395513"
          ],
          [
           "2023-03-12T00:00:00",
           "POS 26652200 12 MAR"
          ],
          [
           "2023-03-13T00:00:00",
           "Direct Credit 485450 SQUARE AU PTY LT"
          ],
          [
           "2023-03-13T00:00:00",
           "Direct Debit 537033 Paypa Plane PpSoftwr YJN38225"
          ],
          [
           "2023-03-13T00:00:00",
           "POS 26652200 13 MAR"
          ],
          [
           "2023-03-14T00:00:00",
           "POS 26652200 14 MAR"
          ],
          [
           "2023-03-14T00:00:00",
           "Transfer from NetBank"
          ],
          [
           "2023-03-14T00:00:00",
           "Direct Credit 485450 SQUARE AU PTY LT"
          ],
          [
           "2023-03-14T00:00:00",
           "Transfer To Jamie Timms CommBank App wages"
          ],
          [
           "2023-03-14T00:00:00",
           "Transfer To Leisa Ohl CommBank App wages"
          ],
          [
           "2023-03-14T00:00:00",
           "WOOLWORTHS/ARA ST & THOMA CAMP HILL AU Card xx8568 Value Date: 10/03/2023"
          ],
          [
           "2023-03-15T00:00:00",
           "Direct Credit 485450 SQUARE AU PTY LT"
          ],
          [
           "2023-03-15T00:00:00",
           "POS 26652200 15 MAR"
          ],
          [
           "2023-03-16T00:00:00",
           "Direct Credit 485450 SQUARE AU PTY LT"
          ],
          [
           "2023-03-16T00:00:00",
           "POS 26652200 16 MAR"
          ],
          [
           "2023-03-17T00:00:00",
           "Transfer To Gimanana Pty Ltd CommBank App 222309Zer"
          ],
          [
           "2023-03-17T00:00:00",
           "Direct Credit 485450 SQUARE AU PTY LT"
          ],
          [
           "2023-03-17T00:00:00",
           "POS 26652200 17 MAR"
          ],
          [
           "2023-03-18T00:00:00",
           "Fast Transfer From Square Australia Pty CREDIT TO ACCOUNT T200578163138"
          ],
          [
           "2023-03-18T00:00:00",
           "POS 26652200 18 MAR"
          ],
          [
           "2023-03-19T00:00:00",
           "Fast Transfer From Square Australia Pty CREDIT TO ACCOUNT T200578435391"
          ],
          [
           "2023-03-20T00:00:00",
           "Direct Credit 485450 SQUARE AU PTY LT"
          ],
          [
           "2023-03-20T00:00:00",
           "Direct Debit 507156 XEROAUSTRALIAPTY XeroAUINV_NYYiWKzc"
          ],
          [
           "2023-03-20T00:00:00",
           "POS 26652200 20 MAR"
          ],
          [
           "2023-03-21T00:00:00",
           "POS 26652200 21 MAR"
          ],
          [
           "2023-03-21T00:00:00",
           "Direct Debit 481471 SuperChoice P/L PC210323-155945229"
          ],
          [
           "2023-03-21T00:00:00",
           "Direct Credit 485450 SQUARE AU PTY LT"
          ],
          [
           "2023-03-21T00:00:00",
           "Transfer to CBA A/c CommBank app zwsb1704"
          ],
          [
           "2023-03-21T00:00:00",
           "Transfer To Jamie Timms CommBank App wages"
          ],
          [
           "2023-03-21T00:00:00",
           "AJG Insurance Broker CommBank app BPAY 43984 41007661943"
          ],
          [
           "2023-03-21T00:00:00",
           "Transfer To Leisa Ohl CommBank App wages"
          ],
          [
           "2023-03-22T00:00:00",
           "Direct Credit 485450 SQUARE AU PTY LT"
          ],
          [
           "2023-03-22T00:00:00",
           "POS 26652200 22 MAR"
          ],
          [
           "2023-03-23T00:00:00",
           "WOOLWORTHS/MT GRAVATT PLZ MT GRAVATT AU Card xx8568 Value Date: 21/03/2023"
          ],
          [
           "2023-03-23T00:00:00",
           "Direct Credit 485450 SQUARE AU PTY LT"
          ],
          [
           "2023-03-23T00:00:00",
           "POS 26652200 23 MAR"
          ],
          [
           "2023-03-24T00:00:00",
           "Direct Credit 485450 SQUARE AU PTY LT"
          ],
          [
           "2023-03-24T00:00:00",
           "POS 26652200 24 MAR"
          ],
          [
           "2023-03-24T00:00:00",
           "JB HI FI MOUNT GRAVA MT GRAVATT AU Card xx8568 Value Date: 21/03/2023"
          ],
          [
           "2023-03-25T00:00:00",
           "BUNNINGS 333000 MT GRAVATT AU Card xx8568 Value Date: 21/03/2023"
          ],
          [
           "2023-03-25T00:00:00",
           "Fast Transfer From Square Australia Pty CREDIT TO ACCOUNT T200581330545"
          ],
          [
           "2023-03-25T00:00:00",
           "POS 26652200 25 MAR"
          ],
          [
           "2023-03-26T00:00:00",
           "Fast Transfer From Square Australia Pty CREDIT TO ACCOUNT T200581596034"
          ],
          [
           "2023-03-26T00:00:00",
           "POS 26652200 26 MAR"
          ],
          [
           "2023-03-27T00:00:00",
           "Direct Credit 485450 SQUARE AU PTY LT"
          ],
          [
           "2023-03-27T00:00:00",
           "POS 26652200 27 MAR"
          ],
          [
           "2023-03-28T00:00:00",
           "POS 26652200 28 MAR"
          ],
          [
           "2023-03-28T00:00:00",
           "Direct Credit 485450 SQUARE AU PTY LT"
          ],
          [
           "2023-03-29T00:00:00",
           "Transfer To Leisa Ohl CommBank App wages"
          ],
          [
           "2023-03-29T00:00:00",
           "POS 26652200 29 MAR"
          ],
          [
           "2023-03-29T00:00:00",
           "Transfer To Jamie Timms CommBank App wages"
          ],
          [
           "2023-03-29T00:00:00",
           "Direct Credit 485450 SQUARE AU PTY LT"
          ],
          [
           "2023-03-30T00:00:00",
           "Direct Credit 485450 SQUARE AU PTY LT"
          ],
          [
           "2023-03-30T00:00:00",
           "POS 26652200 30 MAR"
          ],
          [
           "2023-03-31T00:00:00",
           "Direct Credit 485450 SQUARE AU PTY LT"
          ],
          [
           "2023-03-31T00:00:00",
           "POS 26652200 31 MAR"
          ],
          [
           "2023-04-01T00:00:00",
           "Fast Transfer From Square Australia Pty CREDIT TO ACCOUNT T200584534063"
          ],
          [
           "2023-04-01T00:00:00",
           "POS 26652200 01 APR"
          ],
          [
           "2023-04-02T00:00:00",
           "Fast Transfer From Square Australia Pty CREDIT TO ACCOUNT T200584884408"
          ],
          [
           "2023-04-02T00:00:00",
           "CBA MERCHANT FEE 5353109492238548 Value Date: 31/03/2023"
          ],
          [
           "2023-04-02T00:00:00",
           "POS 26652200 02 APR"
          ],
          [
           "2023-04-03T00:00:00",
           "Fast Transfer From Ronan K Petersen ronan Zero 10/02-24/02"
          ],
          [
           "2023-04-03T00:00:00",
           "Direct Credit 485450 SQUARE AU PTY LT"
          ],
          [
           "2023-04-03T00:00:00",
           "Fast Transfer From BENJAMEN MAYFIELD-SMI inv MA006"
          ],
          [
           "2023-04-03T00:00:00",
           "POS 26652200 03 APR"
          ],
          [
           "2023-04-04T00:00:00",
           "Transfer To Leisa Ohl CommBank App wages"
          ],
          [
           "2023-04-04T00:00:00",
           "POS 26652200 04 APR"
          ],
          [
           "2023-04-04T00:00:00",
           "Direct Credit 485450 SQUARE AU PTY LT"
          ],
          [
           "2023-04-04T00:00:00",
           "Transfer To Frucor CommBank App 695260"
          ],
          [
           "2023-04-04T00:00:00",
           "Transfer To Jamie Timms CommBank App wages"
          ],
          [
           "2023-04-05T00:00:00",
           "AJG Insurance Broker CommBank app BPAY 43984 41007661943"
          ],
          [
           "2023-04-05T00:00:00",
           "AJG Insurance Broker CommBank app BPAY 43984 41007679836"
          ],
          [
           "2023-04-05T00:00:00",
           "Direct Credit 485450 SQUARE AU PTY LT"
          ],
          [
           "2023-04-05T00:00:00",
           "POS 26652200 05 APR"
          ],
          [
           "2023-04-06T00:00:00",
           "Direct Credit 485450 SQUARE AU PTY LT"
          ],
          [
           "2023-04-06T00:00:00",
           "POS 26652200 06 APR"
          ],
          [
           "2023-04-07T00:00:00",
           "POS 26652200 07 APR"
          ],
          [
           "2023-04-08T00:00:00",
           "POS 26652200 08 APR"
          ],
          [
           "2023-04-08T00:00:00",
           "Fast Transfer From Square Australia Pty CREDIT TO ACCOUNT T200588189399"
          ],
          [
           "2023-04-09T00:00:00",
           "Fast Transfer From Square Australia Pty CREDIT TO ACCOUNT T200588420682"
          ],
          [
           "2023-04-09T00:00:00",
           "POS 26652200 09 APR"
          ],
          [
           "2023-04-10T00:00:00",
           "POS 26652200 10 APR"
          ],
          [
           "2023-04-11T00:00:00",
           "POS 26652200 11 APR"
          ],
          [
           "2023-04-11T00:00:00",
           "Direct Debit 481471 SuperChoice P/L PC110423-159416510"
          ],
          [
           "2023-04-11T00:00:00",
           "Direct Credit 485450 SQUARE AU PTY LT"
          ],
          [
           "2023-04-11T00:00:00",
           "Direct Credit 485450 SQUARE AU PTY LT"
          ],
          [
           "2023-04-11T00:00:00",
           "Transfer To Leisa Ohl CommBank App wages"
          ],
          [
           "2023-04-11T00:00:00",
           "Direct Credit 485450 SQUARE AU PTY LT"
          ],
          [
           "2023-04-11T00:00:00",
           "Transfer To Jamie Timms CommBank App wages"
          ],
          [
           "2023-04-12T00:00:00",
           "BUNNINGS 556000 NEWSTEAD AU Card xx8568 Value Date: 05/04/2023"
          ],
          [
           "2023-04-12T00:00:00",
           "WOOLWORTHS/MT GRAVATT PLZ MT GRAVATT AU Card xx8568 Value Date: 06/04/2023"
          ],
          [
           "2023-04-12T00:00:00",
           "Direct Credit 485450 SQUARE AU PTY LT"
          ],
          [
           "2023-04-12T00:00:00",
           "Direct Debit 537033 Paypa Plane PpSoftwr 1ODNZRGY"
          ],
          [
           "2023-04-12T00:00:00",
           "POS 26652200 12 APR"
          ],
          [
           "2023-04-13T00:00:00",
           "Transfer to CBA A/c CommBank app cpr"
          ],
          [
           "2023-04-13T00:00:00",
           "Transfer from CommBank app Axiom April"
          ],
          [
           "2023-04-13T00:00:00",
           "Direct Credit 485450 SQUARE AU PTY LT"
          ],
          [
           "2023-04-13T00:00:00",
           "POS 26652200 13 APR"
          ],
          [
           "2023-04-14T00:00:00",
           "WOOLWORTHS/ARA ST & THOMA CAMP HILL AU Card xx8568 Value Date: 12/04/2023"
          ],
          [
           "2023-04-14T00:00:00",
           "Direct Credit 485450 SQUARE AU PTY LT"
          ],
          [
           "2023-04-14T00:00:00",
           "POS 26652200 14 APR"
          ],
          [
           "2023-04-15T00:00:00",
           "Fast Transfer From Square Australia Pty CREDIT TO ACCOUNT T200591341058"
          ],
          [
           "2023-04-15T00:00:00",
           "POS 26652200 15 APR"
          ],
          [
           "2023-04-16T00:00:00",
           "POS 26652200 16 APR"
          ],
          [
           "2023-04-16T00:00:00",
           "Fast Transfer From Square Australia Pty CREDIT TO ACCOUNT T200591635529"
          ],
          [
           "2023-04-17T00:00:00",
           "Transfer To Collaboration Learning CommBank App 33496"
          ],
          [
           "2023-04-17T00:00:00",
           "Direct Credit 485450 SQUARE AU PTY LT"
          ],
          [
           "2023-04-17T00:00:00",
           "POS 26652200 17 APR"
          ],
          [
           "2023-04-18T00:00:00",
           "Transfer To Frucor CommBank App 695260"
          ],
          [
           "2023-04-18T00:00:00",
           "Transfer To Gimanana Pty Ltd CommBank App 222307Zer"
          ],
          [
           "2023-04-18T00:00:00",
           "Direct Credit 485450 SQUARE AU PTY LT"
          ],
          [
           "2023-04-18T00:00:00",
           "Transfer To Jamie Timms CommBank App wages"
          ],
          [
           "2023-04-18T00:00:00",
           "Transfer To Leisa Ohl CommBank App wages"
          ],
          [
           "2023-04-18T00:00:00",
           "POS 26652200 18 APR"
          ],
          [
           "2023-04-19T00:00:00",
           "WOOLWORTHS/MT GRAVATT PLZ MT GRAVATT AU Card xx8568 Value Date: 17/04/2023"
          ],
          [
           "2023-04-19T00:00:00",
           "Direct Credit 485450 SQUARE AU PTY LT"
          ],
          [
           "2023-04-19T00:00:00",
           "BPAY Biller Refund AJG Insurance Broker"
          ],
          [
           "2023-04-19T00:00:00",
           "Direct Debit 481471 SuperChoice P/L PC180423-160868429"
          ],
          [
           "2023-04-19T00:00:00",
           "POS 26652200 19 APR"
          ],
          [
           "2023-04-20T00:00:00",
           "POS 26652200 20 APR"
          ],
          [
           "2023-04-20T00:00:00",
           "Direct Debit 507156 XEROAUSTRALIAPTY XeroAUINV_NkF1WJuA"
          ],
          [
           "2023-04-20T00:00:00",
           "Direct Credit 485450 SQUARE AU PTY LT"
          ],
          [
           "2023-04-21T00:00:00",
           "Direct Credit 485450 SQUARE AU PTY LT"
          ],
          [
           "2023-04-21T00:00:00",
           "POS 26652200 21 APR"
          ],
          [
           "2023-04-22T00:00:00",
           "WOOLWORTHS/543 LUTWYCHE R LUTWYCHE AU Card xx8568 Value Date: 20/04/2023"
          ],
          [
           "2023-04-22T00:00:00",
           "Fast Transfer From Square Australia Pty CREDIT TO ACCOUNT T200594461893"
          ],
          [
           "2023-04-22T00:00:00",
           "POS 26652200 22 APR"
          ],
          [
           "2023-04-23T00:00:00",
           "Fast Transfer From Square Australia Pty CREDIT TO ACCOUNT T200594633766"
          ],
          [
           "2023-04-23T00:00:00",
           "POS 26652200 23 APR"
          ],
          [
           "2023-04-24T00:00:00",
           "POS 26652200 24 APR"
          ],
          [
           "2023-04-24T00:00:00",
           "Direct Credit 485450 SQUARE AU PTY LT"
          ],
          [
           "2023-04-25T00:00:00",
           "Transfer To Jamie Timms CommBank App wages"
          ],
          [
           "2023-04-25T00:00:00",
           "Transfer To Leisa Ohl CommBank App wages"
          ],
          [
           "2023-04-25T00:00:00",
           "POS 26652200 25 APR"
          ],
          [
           "2023-04-26T00:00:00",
           "POS 26652200 26 APR"
          ],
          [
           "2023-04-26T00:00:00",
           "Direct Credit 485450 SQUARE AU PTY LT"
          ],
          [
           "2023-04-26T00:00:00",
           "Direct Credit 485450 SQUARE AU PTY LT"
          ],
          [
           "2023-04-26T00:00:00",
           "Direct Debit 481471 SuperChoice P/L PC260423-190998083"
          ],
          [
           "2023-04-27T00:00:00",
           "Direct Credit 485450 SQUARE AU PTY LT"
          ],
          [
           "2023-04-27T00:00:00",
           "POS 26652200 27 APR"
          ],
          [
           "2023-04-28T00:00:00",
           "Direct Credit 485450 SQUARE AU PTY LT"
          ],
          [
           "2023-04-28T00:00:00",
           "POS 26652200 28 APR"
          ],
          [
           "2023-04-29T00:00:00",
           "Fast Transfer From Square Australia Pty CREDIT TO ACCOUNT T200597327142"
          ],
          [
           "2023-04-29T00:00:00",
           "POS 26652200 29 APR"
          ],
          [
           "2023-04-30T00:00:00",
           "Fast Transfer From Square Australia Pty CREDIT TO ACCOUNT T200597540521"
          ],
          [
           "2023-04-30T00:00:00",
           "POS 26652200 30 APR"
          ],
          [
           "2023-05-01T00:00:00",
           "POS 26652200 01 MAY"
          ],
          [
           "2023-05-01T00:00:00",
           "Direct Credit 485450 SQUARE AU PTY LT"
          ],
          [
           "2023-05-01T00:00:00",
           "Direct Credit 452940 EDUCATION DETRCWSLOHL"
          ],
          [
           "2023-05-01T00:00:00",
           "Direct Credit 452940 EDUCATION DETRCWSJTIMMS"
          ],
          [
           "2023-05-02T00:00:00",
           "Transfer To Frucor CommBank App 695260"
          ],
          [
           "2023-05-02T00:00:00",
           "Transfer To Jamie Timms CommBank App wages"
          ],
          [
           "2023-05-02T00:00:00",
           "Transfer To Leisa Ohl CommBank App wages"
          ],
          [
           "2023-05-02T00:00:00",
           "Direct Credit 485450 SQUARE AU PTY LT"
          ],
          [
           "2023-05-02T00:00:00",
           "POS 26652200 02 MAY"
          ],
          [
           "2023-05-03T00:00:00",
           "Direct Debit 481471 SuperChoice P/L PC030523-193749957"
          ],
          [
           "2023-05-03T00:00:00",
           "POS 26652200 03 MAY"
          ],
          [
           "2023-05-03T00:00:00",
           "Transfer To Frucor CommBank App 695260"
          ],
          [
           "2023-05-03T00:00:00",
           "Direct Credit 485450 SQUARE AU PTY LT"
          ],
          [
           "2023-05-04T00:00:00",
           "Transfer to CBA A/c CommBank app tablet"
          ],
          [
           "2023-05-04T00:00:00",
           "Direct Credit 485450 SQUARE AU PTY LT"
          ],
          [
           "2023-05-04T00:00:00",
           "CBA MERCHANT FEE 5353109492238548 Value Date: 30/04/2023"
          ],
          [
           "2023-05-04T00:00:00",
           "Transfer to CBA A/c CommBank app meat wood"
          ],
          [
           "2023-05-04T00:00:00",
           "POS 26652200 04 MAY"
          ],
          [
           "2023-05-05T00:00:00",
           "Transfer To Frucor CommBank App 695260"
          ],
          [
           "2023-05-05T00:00:00",
           "Direct Credit 485450 SQUARE AU PTY LT"
          ],
          [
           "2023-05-05T00:00:00",
           "Fast Transfer From BENJAMEN MAYFIELD-SMI invoice 006/007"
          ],
          [
           "2023-05-05T00:00:00",
           "POS 26652200 05 MAY"
          ],
          [
           "2023-05-06T00:00:00",
           "POS 26652200 06 MAY"
          ],
          [
           "2023-05-06T00:00:00",
           "Fast Transfer From Square Australia Pty CREDIT TO ACCOUNT T200600778545"
          ],
          [
           "2023-05-06T00:00:00",
           "WILSON PARKING AUSTRALIA BRISBANE AU Card xx8568 Value Date: 03/05/2023"
          ],
          [
           "2023-05-07T00:00:00",
           "Transfer To Thomas J Lilley CommBank App monitor"
          ],
          [
           "2023-05-07T00:00:00",
           "Fast Transfer From Square Australia Pty CREDIT TO ACCOUNT T200601008716"
          ],
          [
           "2023-05-07T00:00:00",
           "POS 26652200 07 MAY"
          ],
          [
           "2023-05-08T00:00:00",
           "Direct Credit 485450 SQUARE AU PTY LT"
          ],
          [
           "2023-05-08T00:00:00",
           "POS 26652200 08 MAY"
          ],
          [
           "2023-05-09T00:00:00",
           "POS 26652200 09 MAY"
          ],
          [
           "2023-05-09T00:00:00",
           "Direct Debit 481471 SuperChoice P/L PC090523-194767175"
          ],
          [
           "2023-05-09T00:00:00",
           "Direct Credit 485450 SQUARE AU PTY LT"
          ],
          [
           "2023-05-09T00:00:00",
           "Transfer To Coastal Oak Accounting CommBank App zerowbr"
          ],
          [
           "2023-05-09T00:00:00",
           "WOOLWORTHS/543 LUTWYCHE R LUTWYCHE AU Card xx8568 Value Date: 05/05/2023"
          ],
          [
           "2023-05-09T00:00:00",
           "Transfer To Coastal Oak Accounting CommBank App zerowbr"
          ],
          [
           "2023-05-09T00:00:00",
           "Transfer To Leisa Ohl CommBank App wages"
          ],
          [
           "2023-05-09T00:00:00",
           "Transfer To Jamie Timms CommBank App wages"
          ],
          [
           "2023-05-09T00:00:00",
           "TAX OFFICE PAYMENTS CommBank app BPAY 75556 002546508512197060 bas"
          ],
          [
           "2023-05-10T00:00:00",
           "Direct Credit 485450 SQUARE AU PTY LT"
          ],
          [
           "2023-05-10T00:00:00",
           "POS 26652200 10 MAY"
          ],
          [
           "2023-05-11T00:00:00",
           "CHEMIST WAREHOUSE WINDSOR AU Card xx8568 Value Date: 08/05/2023"
          ],
          [
           "2023-05-11T00:00:00",
           "Direct Credit 485450 SQUARE AU PTY LT"
          ],
          [
           "2023-05-11T00:00:00",
           "POS 26652200 11 MAY"
          ],
          [
           "2023-05-12T00:00:00",
           "Direct Credit 485450 SQUARE AU PTY LT"
          ],
          [
           "2023-05-12T00:00:00",
           "POS 26652200 12 MAY"
          ],
          [
           "2023-05-13T00:00:00",
           "WOOLWORTHS/MT GRAVATT PLZ MT GRAVATT AU Card xx8568 Value Date: 11/05/2023"
          ],
          [
           "2023-05-13T00:00:00",
           "Fast Transfer From Square Australia Pty CREDIT TO ACCOUNT T200603815839"
          ],
          [
           "2023-05-13T00:00:00",
           "POS 26652200 13 MAY"
          ],
          [
           "2023-05-14T00:00:00",
           "POS 26652200 14 MAY"
          ],
          [
           "2023-05-14T00:00:00",
           "Fast Transfer From Square Australia Pty CREDIT TO ACCOUNT T200604010407"
          ],
          [
           "2023-05-15T00:00:00",
           "Direct Credit 485450 SQUARE AU PTY LT"
          ],
          [
           "2023-05-15T00:00:00",
           "POS 26652200 15 MAY"
          ],
          [
           "2023-05-16T00:00:00",
           "Direct Credit 485450 SQUARE AU PTY LT"
          ],
          [
           "2023-05-16T00:00:00",
           "Transfer To Jamie Timms CommBank App wages"
          ],
          [
           "2023-05-16T00:00:00",
           "Transfer To Leisa Ohl CommBank App wages"
          ],
          [
           "2023-05-16T00:00:00",
           "Direct Debit 316623 Telstra DDebit 2000724466519"
          ],
          [
           "2023-05-16T00:00:00",
           "POS 26652200 16 MAY"
          ],
          [
           "2023-05-17T00:00:00",
           "Direct Credit 485450 SQUARE AU PTY LT"
          ],
          [
           "2023-05-17T00:00:00",
           "Transfer To Frucor CommBank App 695260zerow"
          ],
          [
           "2023-05-17T00:00:00",
           "POS 26652200 17 MAY"
          ],
          [
           "2023-05-18T00:00:00",
           "Fast Transfer From MATTHEW STENZEL Axiom rent June June axiom"
          ],
          [
           "2023-05-18T00:00:00",
           "Direct Credit 485450 SQUARE AU PTY LT"
          ],
          [
           "2023-05-18T00:00:00",
           "POS 26652200 18 MAY"
          ],
          [
           "2023-05-19T00:00:00",
           "Direct Credit 485450 SQUARE AU PTY LT"
          ],
          [
           "2023-05-19T00:00:00",
           "POS 26652200 19 MAY"
          ],
          [
           "2023-05-20T00:00:00",
           "Fast Transfer From Square Australia Pty CREDIT TO ACCOUNT T200606653216"
          ],
          [
           "2023-05-20T00:00:00",
           "POS 26652200 20 MAY"
          ],
          [
           "2023-05-21T00:00:00",
           "POS 26652200 21 MAY"
          ],
          [
           "2023-05-21T00:00:00",
           "Fast Transfer From Square Australia Pty CREDIT TO ACCOUNT T200606845792"
          ],
          [
           "2023-05-22T00:00:00",
           "Direct Credit 485450 SQUARE AU PTY LT"
          ],
          [
           "2023-05-22T00:00:00",
           "Direct Debit 507156 XEROAUSTRALIAPTY XeroAUINV_NvVVmZeM"
          ],
          [
           "2023-05-22T00:00:00",
           "POS 26652200 22 MAY"
          ],
          [
           "2023-05-23T00:00:00",
           "Transfer To Jamie Timms CommBank App wages"
          ],
          [
           "2023-05-23T00:00:00",
           "Transfer To Leisa Ohl CommBank App wages"
          ],
          [
           "2023-05-23T00:00:00",
           "Direct Credit 485450 SQUARE AU PTY LT"
          ],
          [
           "2023-05-23T00:00:00",
           "POS 26652200 23 MAY"
          ],
          [
           "2023-05-24T00:00:00",
           "Direct Credit 485450 SQUARE AU PTY LT"
          ],
          [
           "2023-05-24T00:00:00",
           "POS 26652200 24 MAY"
          ],
          [
           "2023-05-25T00:00:00",
           "WOOLWORTHS/MT GRAVATT PLZ MT GRAVATT AU Card xx8568 Value Date: 23/05/2023"
          ],
          [
           "2023-05-25T00:00:00",
           "Transfer to CBA A/c CommBank app zwsb2506"
          ],
          [
           "2023-05-25T00:00:00",
           "Direct Credit 485450 SQUARE AU PTY LT"
          ],
          [
           "2023-05-25T00:00:00",
           "Transfer To Daniel Carpenter CommBank App loanrepay"
          ],
          [
           "2023-05-25T00:00:00",
           "Transfer to CBA A/c CommBank app loanrepay"
          ],
          [
           "2023-05-25T00:00:00",
           "POS 26652200 25 MAY"
          ],
          [
           "2023-05-26T00:00:00",
           "Transfer To Gimanana Pty Ltd CommBank App 222311Zer Value Date: 27/05/2023"
          ],
          [
           "2023-05-26T00:00:00",
           "Direct Credit 485450 SQUARE AU PTY LT"
          ],
          [
           "2023-05-26T00:00:00",
           "POS 26652200 26 MAY"
          ],
          [
           "2023-05-27T00:00:00",
           "POS 26652200 27 MAY"
          ],
          [
           "2023-05-27T00:00:00",
           "Fast Transfer From Square Australia Pty CREDIT TO ACCOUNT T200609422667"
          ],
          [
           "2023-05-28T00:00:00",
           "Transfer To axiom CommBank App loanrepay"
          ],
          [
           "2023-05-28T00:00:00",
           "Fast Transfer From Square Australia Pty CREDIT TO ACCOUNT T200609610328"
          ],
          [
           "2023-05-28T00:00:00",
           "POS 26652200 28 MAY"
          ],
          [
           "2023-05-29T00:00:00",
           "Direct Credit 485450 SQUARE AU PTY LT"
          ],
          [
           "2023-05-29T00:00:00",
           "POS 26652200 29 MAY"
          ],
          [
           "2023-05-30T00:00:00",
           "Direct Credit 485450 SQUARE AU PTY LT"
          ],
          [
           "2023-05-30T00:00:00",
           "Transfer To Jamie Timms CommBank App wages"
          ],
          [
           "2023-05-30T00:00:00",
           "Transfer To Leisa Ohl CommBank App wages"
          ],
          [
           "2023-05-30T00:00:00",
           "POS 26652200 30 MAY"
          ],
          [
           "2023-05-30T00:00:00",
           "COLES 4584 HELENSVALE AU Card xx8568 Value Date: 26/05/2023"
          ],
          [
           "2023-05-31T00:00:00",
           "POS 26652200 31 MAY"
          ],
          [
           "2023-05-31T00:00:00",
           "COLES 4450 LUTWYCHE AU Card xx8568 Value Date: 29/05/2023"
          ],
          [
           "2023-05-31T00:00:00",
           "Transfer To Frucor CommBank App 695260zerow"
          ],
          [
           "2023-05-31T00:00:00",
           "Direct Credit 485450 SQUARE AU PTY LT"
          ],
          [
           "2023-06-01T00:00:00",
           "POS 26652200 01 JUN"
          ],
          [
           "2023-06-01T00:00:00",
           "Direct Credit 485450 SQUARE AU PTY LT"
          ],
          [
           "2023-06-02T00:00:00",
           "BUNNINGS 556000 NEWSTEAD AU Card xx8568 Value Date: 29/05/2023"
          ],
          [
           "2023-06-02T00:00:00",
           "Transfer to CBA A/c CommBank app 0193 shipping"
          ],
          [
           "2023-06-02T00:00:00",
           "Direct Credit 485450 SQUARE AU PTY LT"
          ],
          [
           "2023-06-02T00:00:00",
           "CBA MERCHANT FEE 5353109492238548 Value Date: 31/05/2023"
          ],
          [
           "2023-06-02T00:00:00",
           "POS 26652200 02 JUN"
          ],
          [
           "2023-06-03T00:00:00",
           "Fast Transfer From Square Australia Pty CREDIT TO ACCOUNT T200612751085"
          ],
          [
           "2023-06-03T00:00:00",
           "POS 26652200 03 JUN"
          ],
          [
           "2023-06-04T00:00:00",
           "POS 26652200 04 JUN"
          ],
          [
           "2023-06-04T00:00:00",
           "Fast Transfer From Square Australia Pty CREDIT TO ACCOUNT T200612965379"
          ],
          [
           "2023-06-05T00:00:00",
           "Direct Credit 485450 SQUARE AU PTY LT"
          ],
          [
           "2023-06-05T00:00:00",
           "POS 26652200 05 JUN"
          ],
          [
           "2023-06-06T00:00:00",
           "ROGUEAUSTRALIA 0414983101 AU Card xx8568 Value Date: 02/06/2023"
          ],
          [
           "2023-06-06T00:00:00",
           "Direct Credit 485450 SQUARE AU PTY LT"
          ],
          [
           "2023-06-06T00:00:00",
           "Transfer To Jamie Timms CommBank App wages"
          ],
          [
           "2023-06-06T00:00:00",
           "Transfer To Leisa Ohl CommBank App wages"
          ],
          [
           "2023-06-06T00:00:00",
           "POS 26652200 06 JUN"
          ],
          [
           "2023-06-07T00:00:00",
           "Direct Debit 481471 SuperChoice P/L PC060623-182791873"
          ],
          [
           "2023-06-07T00:00:00",
           "POS 26652200 07 JUN"
          ],
          [
           "2023-06-07T00:00:00",
           "COLES 4450 LUTWYCHE AU Card xx8568 Value Date: 05/06/2023"
          ],
          [
           "2023-06-07T00:00:00",
           "Direct Credit 485450 SQUARE AU PTY LT"
          ],
          [
           "2023-06-08T00:00:00",
           "Transfer from CommBank app Axiom Rent June"
          ],
          [
           "2023-06-08T00:00:00",
           "Direct Credit 485450 SQUARE AU PTY LT"
          ],
          [
           "2023-06-08T00:00:00",
           "POS 26652200 08 JUN"
          ],
          [
           "2023-06-08T00:00:00",
           "Transfer to CBA A/c CommBank app Origin Energy Bill"
          ],
          [
           "2023-06-09T00:00:00",
           "Direct Credit 485450 SQUARE AU PTY LT"
          ],
          [
           "2023-06-09T00:00:00",
           "POS 26652200 09 JUN"
          ],
          [
           "2023-06-10T00:00:00",
           "Fast Transfer From Square Australia Pty CREDIT TO ACCOUNT T200615987018"
          ],
          [
           "2023-06-10T00:00:00",
           "POS 26652200 10 JUN"
          ],
          [
           "2023-06-11T00:00:00",
           "POS 26652200 11 JUN"
          ],
          [
           "2023-06-11T00:00:00",
           "Fast Transfer From BENJAMEN MAYFIELD-SMI coaching zerow inv ma009"
          ],
          [
           "2023-06-11T00:00:00",
           "Fast Transfer From Square Australia Pty CREDIT TO ACCOUNT T200616180140"
          ],
          [
           "2023-06-12T00:00:00",
           "POS 26652200 12 JUN"
          ],
          [
           "2023-06-13T00:00:00",
           "Direct Credit 485450 SQUARE AU PTY LT"
          ],
          [
           "2023-06-13T00:00:00",
           "Transfer To Frucor CommBank App 695260"
          ],
          [
           "2023-06-13T00:00:00",
           "Direct Credit 485450 SQUARE AU PTY LT"
          ],
          [
           "2023-06-13T00:00:00",
           "Transfer To Jamie Timms CommBank App wages"
          ],
          [
           "2023-06-13T00:00:00",
           "Transfer To Leisa Ohl CommBank App wages"
          ],
          [
           "2023-06-13T00:00:00",
           "POS 26652200 13 JUN"
          ],
          [
           "2023-06-14T00:00:00",
           "Direct Credit 485450 SQUARE AU PTY LT"
          ],
          [
           "2023-06-14T00:00:00",
           "POS 26652200 14 JUN"
          ],
          [
           "2023-06-15T00:00:00",
           "Direct Credit 485450 SQUARE AU PTY LT"
          ],
          [
           "2023-06-15T00:00:00",
           "Direct Debit 316623 Telstra DDebit 2000724466519"
          ],
          [
           "2023-06-15T00:00:00",
           "POS 26652200 15 JUN"
          ],
          [
           "2023-06-16T00:00:00",
           "COLES 4595 UPP MT GRVT AU Card xx8568 Value Date: 14/06/2023"
          ],
          [
           "2023-06-16T00:00:00",
           "Direct Credit 485450 SQUARE AU PTY LT"
          ],
          [
           "2023-06-16T00:00:00",
           "Direct Debit 537033 Paypa Plane PpSoftwr P1WOWR36Y"
          ],
          [
           "2023-06-16T00:00:00",
           "POS 26652200 16 JUN"
          ],
          [
           "2023-06-17T00:00:00",
           "POS 26652200 17 JUN"
          ],
          [
           "2023-06-17T00:00:00",
           "PACK & SEND ALBION BOWEN HILLS AU Card xx8568 Value Date: 14/06/2023"
          ],
          [
           "2023-06-17T00:00:00",
           "Fast Transfer From Square Australia Pty CREDIT TO ACCOUNT T200619086896"
          ],
          [
           "2023-06-18T00:00:00",
           "Fast Transfer From Square Australia Pty CREDIT TO ACCOUNT T200619304067"
          ],
          [
           "2023-06-18T00:00:00",
           "POS 26652200 18 JUN"
          ],
          [
           "2023-06-19T00:00:00",
           "Transfer To Gimanana Pty Ltd CommBank App 222311Zer"
          ],
          [
           "2023-06-19T00:00:00",
           "Direct Credit 485450 SQUARE AU PTY LT"
          ],
          [
           "2023-06-19T00:00:00",
           "POS 26652200 19 JUN"
          ],
          [
           "2023-06-20T00:00:00",
           "POS 26652200 20 JUN"
          ],
          [
           "2023-06-20T00:00:00",
           "Direct Debit 507156 XEROAUSTRALIAPTY XeroAUINV_P74JyWzX"
          ],
          [
           "2023-06-20T00:00:00",
           "Transfer To Leisa Ohl CommBank App wages"
          ],
          [
           "2023-06-20T00:00:00",
           "WOOLWORTHS/543 LUTWYCHE R LUTWYCHE AU Card xx8568 Value Date: 15/06/2023"
          ],
          [
           "2023-06-20T00:00:00",
           "Direct Credit 485450 SQUARE AU PTY LT"
          ],
          [
           "2023-06-20T00:00:00",
           "Transfer To Jamie Timms CommBank App wages"
          ],
          [
           "2023-06-20T00:00:00",
           "SQ *MOONSHINE COFFEE Kangaroo Poin AU Card xx8568 Value Date: 17/06/2023"
          ],
          [
           "2023-06-21T00:00:00",
           "ASIC CommBank app BPAY 17301 2296508512193 asic"
          ],
          [
           "2023-06-21T00:00:00",
           "Transfer To Coastal Oak Accounting CommBank App zerowbr"
          ],
          [
           "2023-06-21T00:00:00",
           "Direct Credit 485450 SQUARE AU PTY LT"
          ],
          [
           "2023-06-21T00:00:00",
           "Direct Debit 481471 SuperChoice P/L PC200623-104432260"
          ],
          [
           "2023-06-21T00:00:00",
           "POS 26652200 21 JUN"
          ],
          [
           "2023-06-22T00:00:00",
           "Direct Credit 485450 SQUARE AU PTY LT"
          ],
          [
           "2023-06-22T00:00:00",
           "POS 26652200 22 JUN"
          ],
          [
           "2023-06-22T00:00:00",
           "Terminal Rental Fee Fee Refund"
          ],
          [
           "2023-06-23T00:00:00",
           "COLES 4595 UPP MT GRVT AU Card xx8568 Value Date: 21/06/2023"
          ],
          [
           "2023-06-23T00:00:00",
           "OFFICEWORKS 0437 WILSTON AU Card xx8568 Value Date: 21/06/2023"
          ],
          [
           "2023-06-23T00:00:00",
           "Direct Credit 485450 SQUARE AU PTY LT"
          ],
          [
           "2023-06-23T00:00:00",
           "POS 26652200 23 JUN"
          ],
          [
           "2023-06-24T00:00:00",
           "POS 26652200 24 JUN"
          ],
          [
           "2023-06-24T00:00:00",
           "Fast Transfer From Square Australia Pty CREDIT TO ACCOUNT T200622106872"
          ],
          [
           "2023-06-25T00:00:00",
           "Fast Transfer From Square Australia Pty CREDIT TO ACCOUNT T200622324749"
          ],
          [
           "2023-06-25T00:00:00",
           "POS 26652200 25 JUN"
          ],
          [
           "2023-06-26T00:00:00",
           "Direct Credit 485450 SQUARE AU PTY LT"
          ],
          [
           "2023-06-26T00:00:00",
           "POS 26652200 26 JUN"
          ],
          [
           "2023-06-27T00:00:00",
           "Transfer To Frucor CommBank App 695260"
          ],
          [
           "2023-06-27T00:00:00",
           "Transfer To Jamie Timms CommBank App wages"
          ],
          [
           "2023-06-27T00:00:00",
           "Transfer To Leisa Ohl CommBank App wages"
          ],
          [
           "2023-06-27T00:00:00",
           "Direct Credit 485450 SQUARE AU PTY LT"
          ],
          [
           "2023-06-27T00:00:00",
           "Direct Debit 481471 SuperChoice P/L PC270623-145428808"
          ],
          [
           "2023-06-27T00:00:00",
           "POS 26652200 27 JUN"
          ],
          [
           "2023-06-28T00:00:00",
           "Transfer to xx1247 CommBank app thiccmats"
          ],
          [
           "2023-06-28T00:00:00",
           "Direct Credit 485450 SQUARE AU PTY LT"
          ],
          [
           "2023-06-28T00:00:00",
           "POS 26652200 28 JUN"
          ],
          [
           "2023-06-29T00:00:00",
           "Direct Credit 485450 SQUARE AU PTY LT"
          ],
          [
           "2023-06-29T00:00:00",
           "POS 26652200 29 JUN"
          ],
          [
           "2023-06-30T00:00:00",
           "Direct Credit 485450 SQUARE AU PTY LT"
          ],
          [
           "2023-06-30T00:00:00",
           "POS 26652200 30 JUN"
          ]
         ],
         "hovertemplate": "Transaction Value=%{y}<br>Date=%{customdata[0]}<br>Narration=%{customdata[1]}<extra></extra>",
         "legendgroup": "",
         "marker": {
          "color": "#636efa"
         },
         "name": "",
         "notched": false,
         "offsetgroup": "",
         "orientation": "v",
         "showlegend": false,
         "x0": " ",
         "xaxis": "x",
         "y": [
          -33.1,
          -16.47,
          22.0,
          69.98,
          98.0,
          -8433.34,
          -901.15,
          -901.15,
          156.0,
          -58.0,
          40.0,
          1199.73,
          -56.05,
          120.0,
          -37.83,
          324.92,
          46.0,
          -44.61,
          1252.72,
          152.0,
          644.83,
          12.0,
          688.81,
          96.0,
          4.0,
          178.96,
          76.0,
          121.0,
          -901.15,
          -901.15,
          384.9,
          69.98,
          1129.75,
          14.0,
          742.84,
          20.0,
          -195.69,
          1295.0,
          730.81,
          60.0,
          857.78,
          148.0,
          318.93,
          48.0,
          72.0,
          -47.9,
          1129.75,
          104.97,
          -901.15,
          -901.15,
          256.0,
          -20.2,
          -385.0,
          279.92,
          89.0,
          908.81,
          166.0,
          18.0,
          238.9,
          1166.45,
          170.0,
          178.96,
          69.98,
          119.0,
          -92.0,
          -901.15,
          -901.15,
          -50.0,
          -292.46,
          1090.75,
          108.0,
          -5985.2,
          60.0,
          -5030.0,
          314.91,
          274.0,
          220.0,
          952.79,
          80.0,
          775.81,
          1096.47,
          82.0,
          178.96,
          4.0,
          104.97,
          186.0,
          -24.0,
          -901.15,
          -901.15,
          -85.0,
          1154.73,
          140.0,
          123.0,
          43.0,
          483.87,
          -1897.8,
          789.82,
          80.0,
          701.83,
          -72.2,
          74.0,
          962.5,
          279.0,
          691.86,
          -800.0,
          69.98,
          158.0,
          1134.73,
          -901.15,
          24.0,
          -76.99,
          -901.15,
          7000.0,
          -460.4,
          7000.0,
          -8433.34,
          490.88,
          32.0,
          -113.8,
          34.0,
          1010.78,
          901.79,
          130.0,
          92.0,
          -10.0,
          1032.48,
          382.91,
          14.0,
          69.98,
          28.0,
          84.0,
          112.0,
          1154.73,
          -901.15,
          -230.2,
          -901.15,
          549.86,
          10.0,
          -225.14,
          983.78,
          -56.67,
          818.0,
          1010.77,
          596.0,
          988.75,
          232.0,
          20.0,
          -1375.69,
          512.87,
          127.0,
          69.98,
          -100.78,
          -901.15,
          1224.71,
          78.0,
          -901.15,
          -13.11,
          -19.7,
          645.83,
          -230.2,
          67.0,
          1200.0,
          901.79,
          176.0,
          975.78,
          42.0,
          1023.73,
          176.0,
          18.0,
          343.91,
          -1390.0,
          133.97,
          182.0,
          -901.15,
          -901.15,
          1160.72,
          291.0,
          -18.0,
          438.89,
          315.0,
          -32.48,
          -8686.34,
          919.8,
          120.0,
          -316.25,
          18.0,
          -2759.17,
          1144.74,
          30.0,
          1058.73,
          542.87,
          14.0,
          133.97,
          -72.2,
          137.0,
          -901.15,
          1140.72,
          -484.0,
          -460.4,
          154.0,
          -901.15,
          610.85,
          32.0,
          144.0,
          907.78,
          -40.8,
          1049.76,
          369.0,
          -9.07,
          994.74,
          154.0,
          273.93,
          10.0,
          -5412.0,
          -250.0,
          98.98,
          129.0,
          -901.15,
          -901.15,
          1255.69,
          160.0,
          106.0,
          -106.88,
          654.85,
          64.0,
          -19.37,
          1053.76,
          54.0,
          -75.33,
          -185.0,
          950.78,
          42.0,
          959.74,
          202.0,
          452.89,
          8.0,
          94.0,
          -85.0,
          232.95,
          1105.73,
          -901.15,
          -901.15,
          -278.52,
          68.0,
          294.0,
          -460.4,
          -35.98,
          -31.1,
          575.85,
          936.78,
          152.0,
          711.82,
          156.0,
          994.74,
          152.0,
          592.87,
          8.0,
          168.96,
          -109.59,
          174.0,
          266.0,
          1280.0,
          1153.72,
          -901.15,
          -901.15,
          -45.25,
          536.87,
          8.0,
          1018.77,
          28.0,
          -8686.34,
          606.85,
          52.0,
          1029.72,
          92.0,
          487.89,
          168.96,
          -72.2,
          118.0,
          143.0,
          -460.4,
          1140.72,
          -695.0,
          -901.15,
          -1872.08,
          -901.15,
          754.82,
          58.0,
          -72.8,
          738.82,
          156.0,
          711.82,
          310.0,
          -54.9,
          -3.5,
          1128.71,
          116.0,
          417.9,
          14.0,
          168.96,
          82.0,
          152.0,
          1309.68,
          -901.15,
          40.0,
          -901.15,
          658.85,
          945.79,
          282.0,
          641.84,
          64.0,
          1054.72,
          48.0,
          417.9,
          -62.88,
          8.0,
          70.0,
          203.95,
          84.0,
          130.0,
          -901.15,
          104.0,
          1469.65,
          -337.24,
          -901.15,
          -1872.08,
          -1280.0,
          610.84,
          8.0,
          1026.77,
          154.0,
          66.0,
          50.0,
          1024.73,
          283.93,
          8.0,
          38.0,
          174.0,
          -690.6,
          1242.71,
          366.92,
          -901.15,
          711.82,
          -901.15,
          -43.92,
          -45.4,
          614.84,
          -116.88,
          212.0,
          -50.0,
          1280.0,
          1009.78,
          86.0,
          -9.5,
          763.32,
          36.0,
          1212.2,
          268.0,
          28.0,
          487.88,
          -4000.0,
          267.94,
          84.0,
          -175.04,
          -8686.34,
          1342.68,
          -901.15,
          -901.15,
          32.0,
          -26.8,
          820.8,
          1872.08,
          -230.2,
          12.0,
          81.0,
          -72.2,
          898.79,
          1171.25,
          64.0,
          -49.9,
          1107.22,
          70.0,
          423.89,
          9.0,
          120.0,
          337.92,
          -901.15,
          -901.15,
          24.0,
          89.0,
          619.84,
          1725.62,
          -230.2,
          875.81,
          154.0,
          862.3,
          149.0,
          1072.23,
          43.0,
          576.86,
          18.0,
          56.0,
          372.91,
          6428.31,
          6428.31,
          -308.15,
          -901.15,
          -901.15,
          1887.59,
          80.0,
          -230.2,
          28.0,
          -246.6,
          680.82,
          -199.0,
          828.81,
          -50.55,
          -300.0,
          66.0,
          -352.11,
          1002.27,
          104.0,
          138.0,
          141.0,
          1092.22,
          -65.0,
          -85.0,
          477.88,
          53.0,
          302.93,
          76.0,
          132.0,
          -230.2,
          1782.61,
          -750.0,
          -218.2,
          -250.0,
          -901.15,
          -901.15,
          -7877.0,
          619.85,
          26.0,
          -2.99,
          994.78,
          79.0,
          798.31,
          258.0,
          -85.7,
          1166.2,
          217.0,
          38.0,
          448.89,
          302.93,
          99.0,
          1782.61,
          -901.15,
          -901.15,
          -85.0,
          213.0,
          709.82,
          -270.04,
          38.0,
          1280.0,
          1003.76,
          100.0,
          932.28,
          339.0,
          1067.23,
          100.0,
          12.0,
          378.9,
          337.92,
          -72.2,
          175.0,
          -901.15,
          -901.15,
          1846.6,
          72.0,
          549.86,
          102.0,
          -36.7,
          -3074.0,
          895.8,
          -4400.0,
          -10200.0,
          44.0,
          -8686.34,
          1037.25,
          128.0,
          122.0,
          1272.18,
          -5400.0,
          547.87,
          10.0,
          302.93,
          44.0,
          1852.58,
          -901.15,
          -901.15,
          40.0,
          -18.2,
          179.0,
          -49.25,
          -590.82,
          645.83,
          297.0,
          933.78,
          -8.98,
          -100.0,
          1107.23,
          -59.76,
          253.0,
          1171.8,
          184.0,
          44.0,
          442.89,
          337.92,
          373.0,
          -288.77,
          1782.6,
          -901.15,
          -901.15,
          207.0,
          -920.8,
          52.0,
          -18.0,
          549.86,
          1280.0,
          930.79,
          157.0,
          -2641.95,
          1008.26,
          237.0,
          1447.16,
          115.0,
          4.0,
          68.0,
          477.88,
          127.0,
          267.94,
          -380.04,
          1543.64,
          -901.15,
          -901.15,
          498.0,
          645.83,
          97.0,
          968.77,
          -85.0,
          317.0,
          -13.75,
          973.27,
          -133.62,
          187.0,
          90.0,
          -343.05,
          1272.19,
          343.91,
          146.0,
          -8686.34,
          302.93,
          534.0,
          271.0,
          -72.2,
          -901.15,
          -42.5,
          1578.63,
          -901.15,
          -11.1,
          -290.0,
          -148.0,
          508.87,
          -460.4,
          57.0,
          1085.75,
          36.0,
          152.85,
          -36.0,
          -16.4,
          903.28,
          188.0,
          197.0,
          1032.24,
          407.9,
          4.0,
          302.93,
          290.0,
          -242.74,
          -901.15,
          -901.15,
          1786.6,
          -230.2,
          119.0,
          -200.0,
          575.85,
          169.0,
          948.77,
          26.0,
          903.29,
          46.0
         ],
         "y0": " ",
         "yaxis": "y",
         "type": "box"
        }
       ],
       "layout": {
        "template": {
         "data": {
          "histogram2dcontour": [
           {
            "type": "histogram2dcontour",
            "colorbar": {
             "outlinewidth": 0,
             "ticks": ""
            },
            "colorscale": [
             [
              0.0,
              "#0d0887"
             ],
             [
              0.1111111111111111,
              "#46039f"
             ],
             [
              0.2222222222222222,
              "#7201a8"
             ],
             [
              0.3333333333333333,
              "#9c179e"
             ],
             [
              0.4444444444444444,
              "#bd3786"
             ],
             [
              0.5555555555555556,
              "#d8576b"
             ],
             [
              0.6666666666666666,
              "#ed7953"
             ],
             [
              0.7777777777777778,
              "#fb9f3a"
             ],
             [
              0.8888888888888888,
              "#fdca26"
             ],
             [
              1.0,
              "#f0f921"
             ]
            ]
           }
          ],
          "choropleth": [
           {
            "type": "choropleth",
            "colorbar": {
             "outlinewidth": 0,
             "ticks": ""
            }
           }
          ],
          "histogram2d": [
           {
            "type": "histogram2d",
            "colorbar": {
             "outlinewidth": 0,
             "ticks": ""
            },
            "colorscale": [
             [
              0.0,
              "#0d0887"
             ],
             [
              0.1111111111111111,
              "#46039f"
             ],
             [
              0.2222222222222222,
              "#7201a8"
             ],
             [
              0.3333333333333333,
              "#9c179e"
             ],
             [
              0.4444444444444444,
              "#bd3786"
             ],
             [
              0.5555555555555556,
              "#d8576b"
             ],
             [
              0.6666666666666666,
              "#ed7953"
             ],
             [
              0.7777777777777778,
              "#fb9f3a"
             ],
             [
              0.8888888888888888,
              "#fdca26"
             ],
             [
              1.0,
              "#f0f921"
             ]
            ]
           }
          ],
          "heatmap": [
           {
            "type": "heatmap",
            "colorbar": {
             "outlinewidth": 0,
             "ticks": ""
            },
            "colorscale": [
             [
              0.0,
              "#0d0887"
             ],
             [
              0.1111111111111111,
              "#46039f"
             ],
             [
              0.2222222222222222,
              "#7201a8"
             ],
             [
              0.3333333333333333,
              "#9c179e"
             ],
             [
              0.4444444444444444,
              "#bd3786"
             ],
             [
              0.5555555555555556,
              "#d8576b"
             ],
             [
              0.6666666666666666,
              "#ed7953"
             ],
             [
              0.7777777777777778,
              "#fb9f3a"
             ],
             [
              0.8888888888888888,
              "#fdca26"
             ],
             [
              1.0,
              "#f0f921"
             ]
            ]
           }
          ],
          "heatmapgl": [
           {
            "type": "heatmapgl",
            "colorbar": {
             "outlinewidth": 0,
             "ticks": ""
            },
            "colorscale": [
             [
              0.0,
              "#0d0887"
             ],
             [
              0.1111111111111111,
              "#46039f"
             ],
             [
              0.2222222222222222,
              "#7201a8"
             ],
             [
              0.3333333333333333,
              "#9c179e"
             ],
             [
              0.4444444444444444,
              "#bd3786"
             ],
             [
              0.5555555555555556,
              "#d8576b"
             ],
             [
              0.6666666666666666,
              "#ed7953"
             ],
             [
              0.7777777777777778,
              "#fb9f3a"
             ],
             [
              0.8888888888888888,
              "#fdca26"
             ],
             [
              1.0,
              "#f0f921"
             ]
            ]
           }
          ],
          "contourcarpet": [
           {
            "type": "contourcarpet",
            "colorbar": {
             "outlinewidth": 0,
             "ticks": ""
            }
           }
          ],
          "contour": [
           {
            "type": "contour",
            "colorbar": {
             "outlinewidth": 0,
             "ticks": ""
            },
            "colorscale": [
             [
              0.0,
              "#0d0887"
             ],
             [
              0.1111111111111111,
              "#46039f"
             ],
             [
              0.2222222222222222,
              "#7201a8"
             ],
             [
              0.3333333333333333,
              "#9c179e"
             ],
             [
              0.4444444444444444,
              "#bd3786"
             ],
             [
              0.5555555555555556,
              "#d8576b"
             ],
             [
              0.6666666666666666,
              "#ed7953"
             ],
             [
              0.7777777777777778,
              "#fb9f3a"
             ],
             [
              0.8888888888888888,
              "#fdca26"
             ],
             [
              1.0,
              "#f0f921"
             ]
            ]
           }
          ],
          "surface": [
           {
            "type": "surface",
            "colorbar": {
             "outlinewidth": 0,
             "ticks": ""
            },
            "colorscale": [
             [
              0.0,
              "#0d0887"
             ],
             [
              0.1111111111111111,
              "#46039f"
             ],
             [
              0.2222222222222222,
              "#7201a8"
             ],
             [
              0.3333333333333333,
              "#9c179e"
             ],
             [
              0.4444444444444444,
              "#bd3786"
             ],
             [
              0.5555555555555556,
              "#d8576b"
             ],
             [
              0.6666666666666666,
              "#ed7953"
             ],
             [
              0.7777777777777778,
              "#fb9f3a"
             ],
             [
              0.8888888888888888,
              "#fdca26"
             ],
             [
              1.0,
              "#f0f921"
             ]
            ]
           }
          ],
          "mesh3d": [
           {
            "type": "mesh3d",
            "colorbar": {
             "outlinewidth": 0,
             "ticks": ""
            }
           }
          ],
          "scatter": [
           {
            "fillpattern": {
             "fillmode": "overlay",
             "size": 10,
             "solidity": 0.2
            },
            "type": "scatter"
           }
          ],
          "parcoords": [
           {
            "type": "parcoords",
            "line": {
             "colorbar": {
              "outlinewidth": 0,
              "ticks": ""
             }
            }
           }
          ],
          "scatterpolargl": [
           {
            "type": "scatterpolargl",
            "marker": {
             "colorbar": {
              "outlinewidth": 0,
              "ticks": ""
             }
            }
           }
          ],
          "bar": [
           {
            "error_x": {
             "color": "#2a3f5f"
            },
            "error_y": {
             "color": "#2a3f5f"
            },
            "marker": {
             "line": {
              "color": "#E5ECF6",
              "width": 0.5
             },
             "pattern": {
              "fillmode": "overlay",
              "size": 10,
              "solidity": 0.2
             }
            },
            "type": "bar"
           }
          ],
          "scattergeo": [
           {
            "type": "scattergeo",
            "marker": {
             "colorbar": {
              "outlinewidth": 0,
              "ticks": ""
             }
            }
           }
          ],
          "scatterpolar": [
           {
            "type": "scatterpolar",
            "marker": {
             "colorbar": {
              "outlinewidth": 0,
              "ticks": ""
             }
            }
           }
          ],
          "histogram": [
           {
            "marker": {
             "pattern": {
              "fillmode": "overlay",
              "size": 10,
              "solidity": 0.2
             }
            },
            "type": "histogram"
           }
          ],
          "scattergl": [
           {
            "type": "scattergl",
            "marker": {
             "colorbar": {
              "outlinewidth": 0,
              "ticks": ""
             }
            }
           }
          ],
          "scatter3d": [
           {
            "type": "scatter3d",
            "line": {
             "colorbar": {
              "outlinewidth": 0,
              "ticks": ""
             }
            },
            "marker": {
             "colorbar": {
              "outlinewidth": 0,
              "ticks": ""
             }
            }
           }
          ],
          "scattermapbox": [
           {
            "type": "scattermapbox",
            "marker": {
             "colorbar": {
              "outlinewidth": 0,
              "ticks": ""
             }
            }
           }
          ],
          "scatterternary": [
           {
            "type": "scatterternary",
            "marker": {
             "colorbar": {
              "outlinewidth": 0,
              "ticks": ""
             }
            }
           }
          ],
          "scattercarpet": [
           {
            "type": "scattercarpet",
            "marker": {
             "colorbar": {
              "outlinewidth": 0,
              "ticks": ""
             }
            }
           }
          ],
          "carpet": [
           {
            "aaxis": {
             "endlinecolor": "#2a3f5f",
             "gridcolor": "white",
             "linecolor": "white",
             "minorgridcolor": "white",
             "startlinecolor": "#2a3f5f"
            },
            "baxis": {
             "endlinecolor": "#2a3f5f",
             "gridcolor": "white",
             "linecolor": "white",
             "minorgridcolor": "white",
             "startlinecolor": "#2a3f5f"
            },
            "type": "carpet"
           }
          ],
          "table": [
           {
            "cells": {
             "fill": {
              "color": "#EBF0F8"
             },
             "line": {
              "color": "white"
             }
            },
            "header": {
             "fill": {
              "color": "#C8D4E3"
             },
             "line": {
              "color": "white"
             }
            },
            "type": "table"
           }
          ],
          "barpolar": [
           {
            "marker": {
             "line": {
              "color": "#E5ECF6",
              "width": 0.5
             },
             "pattern": {
              "fillmode": "overlay",
              "size": 10,
              "solidity": 0.2
             }
            },
            "type": "barpolar"
           }
          ],
          "pie": [
           {
            "automargin": true,
            "type": "pie"
           }
          ]
         },
         "layout": {
          "autotypenumbers": "strict",
          "colorway": [
           "#636efa",
           "#EF553B",
           "#00cc96",
           "#ab63fa",
           "#FFA15A",
           "#19d3f3",
           "#FF6692",
           "#B6E880",
           "#FF97FF",
           "#FECB52"
          ],
          "font": {
           "color": "#2a3f5f"
          },
          "hovermode": "closest",
          "hoverlabel": {
           "align": "left"
          },
          "paper_bgcolor": "white",
          "plot_bgcolor": "#E5ECF6",
          "polar": {
           "bgcolor": "#E5ECF6",
           "angularaxis": {
            "gridcolor": "white",
            "linecolor": "white",
            "ticks": ""
           },
           "radialaxis": {
            "gridcolor": "white",
            "linecolor": "white",
            "ticks": ""
           }
          },
          "ternary": {
           "bgcolor": "#E5ECF6",
           "aaxis": {
            "gridcolor": "white",
            "linecolor": "white",
            "ticks": ""
           },
           "baxis": {
            "gridcolor": "white",
            "linecolor": "white",
            "ticks": ""
           },
           "caxis": {
            "gridcolor": "white",
            "linecolor": "white",
            "ticks": ""
           }
          },
          "coloraxis": {
           "colorbar": {
            "outlinewidth": 0,
            "ticks": ""
           }
          },
          "colorscale": {
           "sequential": [
            [
             0.0,
             "#0d0887"
            ],
            [
             0.1111111111111111,
             "#46039f"
            ],
            [
             0.2222222222222222,
             "#7201a8"
            ],
            [
             0.3333333333333333,
             "#9c179e"
            ],
            [
             0.4444444444444444,
             "#bd3786"
            ],
            [
             0.5555555555555556,
             "#d8576b"
            ],
            [
             0.6666666666666666,
             "#ed7953"
            ],
            [
             0.7777777777777778,
             "#fb9f3a"
            ],
            [
             0.8888888888888888,
             "#fdca26"
            ],
            [
             1.0,
             "#f0f921"
            ]
           ],
           "sequentialminus": [
            [
             0.0,
             "#0d0887"
            ],
            [
             0.1111111111111111,
             "#46039f"
            ],
            [
             0.2222222222222222,
             "#7201a8"
            ],
            [
             0.3333333333333333,
             "#9c179e"
            ],
            [
             0.4444444444444444,
             "#bd3786"
            ],
            [
             0.5555555555555556,
             "#d8576b"
            ],
            [
             0.6666666666666666,
             "#ed7953"
            ],
            [
             0.7777777777777778,
             "#fb9f3a"
            ],
            [
             0.8888888888888888,
             "#fdca26"
            ],
            [
             1.0,
             "#f0f921"
            ]
           ],
           "diverging": [
            [
             0,
             "#8e0152"
            ],
            [
             0.1,
             "#c51b7d"
            ],
            [
             0.2,
             "#de77ae"
            ],
            [
             0.3,
             "#f1b6da"
            ],
            [
             0.4,
             "#fde0ef"
            ],
            [
             0.5,
             "#f7f7f7"
            ],
            [
             0.6,
             "#e6f5d0"
            ],
            [
             0.7,
             "#b8e186"
            ],
            [
             0.8,
             "#7fbc41"
            ],
            [
             0.9,
             "#4d9221"
            ],
            [
             1,
             "#276419"
            ]
           ]
          },
          "xaxis": {
           "gridcolor": "white",
           "linecolor": "white",
           "ticks": "",
           "title": {
            "standoff": 15
           },
           "zerolinecolor": "white",
           "automargin": true,
           "zerolinewidth": 2
          },
          "yaxis": {
           "gridcolor": "white",
           "linecolor": "white",
           "ticks": "",
           "title": {
            "standoff": 15
           },
           "zerolinecolor": "white",
           "automargin": true,
           "zerolinewidth": 2
          },
          "scene": {
           "xaxis": {
            "backgroundcolor": "#E5ECF6",
            "gridcolor": "white",
            "linecolor": "white",
            "showbackground": true,
            "ticks": "",
            "zerolinecolor": "white",
            "gridwidth": 2
           },
           "yaxis": {
            "backgroundcolor": "#E5ECF6",
            "gridcolor": "white",
            "linecolor": "white",
            "showbackground": true,
            "ticks": "",
            "zerolinecolor": "white",
            "gridwidth": 2
           },
           "zaxis": {
            "backgroundcolor": "#E5ECF6",
            "gridcolor": "white",
            "linecolor": "white",
            "showbackground": true,
            "ticks": "",
            "zerolinecolor": "white",
            "gridwidth": 2
           }
          },
          "shapedefaults": {
           "line": {
            "color": "#2a3f5f"
           }
          },
          "annotationdefaults": {
           "arrowcolor": "#2a3f5f",
           "arrowhead": 0,
           "arrowwidth": 1
          },
          "geo": {
           "bgcolor": "white",
           "landcolor": "#E5ECF6",
           "subunitcolor": "white",
           "showland": true,
           "showlakes": true,
           "lakecolor": "white"
          },
          "title": {
           "x": 0.05
          },
          "mapbox": {
           "style": "light"
          }
         }
        },
        "xaxis": {
         "anchor": "y",
         "domain": [
          0.0,
          1.0
         ]
        },
        "yaxis": {
         "anchor": "x",
         "domain": [
          0.0,
          1.0
         ],
         "title": {
          "text": "Transaction Value"
         }
        },
        "legend": {
         "tracegroupgap": 0
        },
        "margin": {
         "t": 60
        },
        "boxmode": "group",
        "title": {
         "text": "Box Plot of Transaction Values with Hover Text"
        }
       },
       "config": {
        "plotlyServerURL": "https://plot.ly"
       }
      },
      "text/html": [
       "<div>                            <div id=\"2dae5d0a-ffaf-4692-be81-73aef198721c\" class=\"plotly-graph-div\" style=\"height:525px; width:100%;\"></div>            <script type=\"text/javascript\">                require([\"plotly\"], function(Plotly) {                    window.PLOTLYENV=window.PLOTLYENV || {};                                    if (document.getElementById(\"2dae5d0a-ffaf-4692-be81-73aef198721c\")) {                    Plotly.newPlot(                        \"2dae5d0a-ffaf-4692-be81-73aef198721c\",                        [{\"alignmentgroup\":\"True\",\"boxpoints\":\"all\",\"customdata\":[[\"2022-12-18T00:00:00\",\"BUNNINGS 556000 NEWSTEAD AU Card xx8568\"],[\"2022-12-18T00:00:00\",\"BUNNINGS 556000 NEWSTEAD AU Card xx8568\"],[\"2022-12-18T00:00:00\",\"POS 26652200 18 DEC\"],[\"2022-12-19T00:00:00\",\"Direct Credit 485450 SQUARE AU PTY LT\"],[\"2022-12-19T00:00:00\",\"POS 26652200 19 DEC\"],[\"2022-12-20T00:00:00\",\"Transfer To Gimanana Pty Ltd CommBank App 222306zer\"],[\"2022-12-20T00:00:00\",\"Transfer To Leisa Ohl CommBank App wages\"],[\"2022-12-20T00:00:00\",\"Transfer To Jamie Timms CommBank App wages\"],[\"2022-12-20T00:00:00\",\"POS 26652200 20 DEC\"],[\"2022-12-20T00:00:00\",\"WOOLWORTHS\\u002fMT GRAVATT PLZ MT GRAVATT AU Card xx8568 Value Date: 16\\u002f12\\u002f2022\"],[\"2022-12-20T00:00:00\",\"Fast Transfer From BENJAMEN MAYFIELD-SMI rent per client Matter Athletica\"],[\"2022-12-20T00:00:00\",\"Direct Credit 485450 SQUARE AU PTY LT\"],[\"2022-12-20T00:00:00\",\"Direct Debit 507156 XEROAUSTRALIAPTY XeroAUINV_N1uzrrJK\"],[\"2022-12-20T00:00:00\",\"Fast Transfer From BENJAMEN MAYFIELD-SMI rent per client Matter Athletica\"],[\"2022-12-21T00:00:00\",\"AMAZON AU SYDNEY SOUTH AU Card xx8568 Value Date: 18\\u002f12\\u002f2022\"],[\"2022-12-21T00:00:00\",\"Direct Credit 485450 SQUARE AU PTY LT\"],[\"2022-12-21T00:00:00\",\"POS 26652200 21 DEC\"],[\"2022-12-22T00:00:00\",\"FACEBK TW2FZLB9Q2 fb.me\\u002fads IE Card xx8568 AUD 44.61 Value Date: 20\\u002f12\\u002f2022\"],[\"2022-12-22T00:00:00\",\"Direct Credit 485450 SQUARE AU PTY LT\"],[\"2022-12-22T00:00:00\",\"POS 26652200 22 DEC\"],[\"2022-12-23T00:00:00\",\"Direct Credit 485450 SQUARE AU PTY LT\"],[\"2022-12-23T00:00:00\",\"POS 26652200 23 DEC\"],[\"2022-12-24T00:00:00\",\"Fast Transfer From Square Australia Pty CREDIT TO ACCOUNT T200546954256\"],[\"2022-12-24T00:00:00\",\"POS 26652200 24 DEC\"],[\"2022-12-25T00:00:00\",\"POS 26652200 25 DEC\"],[\"2022-12-25T00:00:00\",\"Fast Transfer From Square Australia Pty CREDIT TO ACCOUNT T200547144835\"],[\"2022-12-26T00:00:00\",\"POS 26652200 26 DEC\"],[\"2022-12-27T00:00:00\",\"POS 26652200 27 DEC\"],[\"2022-12-28T00:00:00\",\"Transfer To Jamie Timms CommBank App wages\"],[\"2022-12-28T00:00:00\",\"Transfer To Leisa Ohl CommBank App wages\"],[\"2022-12-28T00:00:00\",\"Direct Credit 485450 SQUARE AU PTY LT\"],[\"2022-12-28T00:00:00\",\"Direct Credit 485450 SQUARE AU PTY LT\"],[\"2022-12-28T00:00:00\",\"Direct Credit 485450 SQUARE AU PTY LT\"],[\"2022-12-28T00:00:00\",\"POS 26652200 28 DEC\"],[\"2022-12-29T00:00:00\",\"Direct Credit 485450 SQUARE AU PTY LT\"],[\"2022-12-29T00:00:00\",\"POS 26652200 29 DEC\"],[\"2022-12-30T00:00:00\",\"Transfer To Frucor CommBank App 695260\"],[\"2022-12-30T00:00:00\",\"Fast Transfer From MATTHEW STENZEL January January axiom\"],[\"2022-12-30T00:00:00\",\"Direct Credit 485450 SQUARE AU PTY LT\"],[\"2022-12-30T00:00:00\",\"POS 26652200 30 DEC\"],[\"2022-12-31T00:00:00\",\"Fast Transfer From Square Australia Pty CREDIT TO ACCOUNT T200548984146\"],[\"2022-12-31T00:00:00\",\"POS 26652200 31 DEC\"],[\"2023-01-01T00:00:00\",\"Fast Transfer From Square Australia Pty CREDIT TO ACCOUNT T200549164454\"],[\"2023-01-01T00:00:00\",\"POS 26652200 01 JAN\"],[\"2023-01-02T00:00:00\",\"POS 26652200 02 JAN\"],[\"2023-01-02T00:00:00\",\"CBA MERCHANT FEE 5353109492238548 Value Date: 31\\u002f12\\u002f2022\"],[\"2023-01-03T00:00:00\",\"Direct Credit 485450 SQUARE AU PTY LT\"],[\"2023-01-03T00:00:00\",\"Direct Credit 485450 SQUARE AU PTY LT\"],[\"2023-01-03T00:00:00\",\"Transfer To Jamie Timms CommBank App wages\"],[\"2023-01-03T00:00:00\",\"Transfer To Leisa Ohl CommBank App wages\"],[\"2023-01-03T00:00:00\",\"POS 26652200 03 JAN\"],[\"2023-01-04T00:00:00\",\"COLES 4450 LUTWYCHE AU Card xx8568 Value Date: 02\\u002f01\\u002f2023\"],[\"2023-01-04T00:00:00\",\"FACEBK 2A5BHLB8Q2 fb.me\\u002fads IE Card xx8568 AUD 385.00 Value Date: 31\\u002f12\\u002f2022\"],[\"2023-01-04T00:00:00\",\"Direct Credit 485450 SQUARE AU PTY LT\"],[\"2023-01-04T00:00:00\",\"POS 26652200 04 JAN\"],[\"2023-01-05T00:00:00\",\"Direct Credit 485450 SQUARE AU PTY LT\"],[\"2023-01-05T00:00:00\",\"POS 26652200 05 JAN\"],[\"2023-01-06T00:00:00\",\"POS 26652200 06 JAN\"],[\"2023-01-06T00:00:00\",\"Direct Credit 485450 SQUARE AU PTY LT\"],[\"2023-01-07T00:00:00\",\"Fast Transfer From Square Australia Pty CREDIT TO ACCOUNT T200551508136\"],[\"2023-01-07T00:00:00\",\"POS 26652200 07 JAN\"],[\"2023-01-08T00:00:00\",\"Fast Transfer From Square Australia Pty CREDIT TO ACCOUNT T200551709704\"],[\"2023-01-09T00:00:00\",\"Direct Credit 485450 SQUARE AU PTY LT\"],[\"2023-01-09T00:00:00\",\"POS 26652200 09 JAN\"],[\"2023-01-10T00:00:00\",\"WOOLWORTHS\\u002f543 LUTWYCHE R LUTWYCHE AU Card xx8568 Value Date: 08\\u002f01\\u002f2023\"],[\"2023-01-10T00:00:00\",\"Transfer To Jamie Timms CommBank App wages\"],[\"2023-01-10T00:00:00\",\"Transfer To Leisa Ohl CommBank App wages\"],[\"2023-01-10T00:00:00\",\"Transfer To Coastal Oak Accounting CommBank App zerowbr\"],[\"2023-01-10T00:00:00\",\"Transfer To Frucor CommBank App 695260\"],[\"2023-01-10T00:00:00\",\"Direct Credit 485450 SQUARE AU PTY LT\"],[\"2023-01-10T00:00:00\",\"POS 26652200 10 JAN\"],[\"2023-01-10T00:00:00\",\"TAX OFFICE PAYMENTS CommBank app BPAY 75556 003005991430841721 super\"],[\"2023-01-11T00:00:00\",\"POS 26652200 11 JAN\"],[\"2023-01-11T00:00:00\",\"Transfer to CBA A\\u002fc CommBank app invzb1101\"],[\"2023-01-11T00:00:00\",\"Direct Credit 485450 SQUARE AU PTY LT\"],[\"2023-01-12T00:00:00\",\"POS 26652200 12 JAN\"],[\"2023-01-12T00:00:00\",\"Transfer from CommBank app cash float\"],[\"2023-01-12T00:00:00\",\"Direct Credit 485450 SQUARE AU PTY LT\"],[\"2023-01-13T00:00:00\",\"POS 26652200 13 JAN\"],[\"2023-01-13T00:00:00\",\"Direct Credit 485450 SQUARE AU PTY LT\"],[\"2023-01-14T00:00:00\",\"Fast Transfer From Square Australia Pty CREDIT TO ACCOUNT T200553868599\"],[\"2023-01-14T00:00:00\",\"POS 26652200 14 JAN\"],[\"2023-01-15T00:00:00\",\"Fast Transfer From Square Australia Pty CREDIT TO ACCOUNT T200554084304\"],[\"2023-01-15T00:00:00\",\"POS 26652200 15 JAN\"],[\"2023-01-16T00:00:00\",\"Direct Credit 485450 SQUARE AU PTY LT\"],[\"2023-01-16T00:00:00\",\"POS 26652200 16 JAN\"],[\"2023-01-17T00:00:00\",\"WOOLWORTHS\\u002fMT GRAVATT PLZ MT GRAVATT AU Card xx8568 Value Date: 14\\u002f01\\u002f2023\"],[\"2023-01-17T00:00:00\",\"Transfer To Jamie Timms CommBank App wages\"],[\"2023-01-17T00:00:00\",\"Transfer To Leisa Ohl CommBank App wages\"],[\"2023-01-17T00:00:00\",\"TELSTRA CommBank app BPAY 23796 2000724466519 zerow internet\"],[\"2023-01-17T00:00:00\",\"Direct Credit 485450 SQUARE AU PTY LT\"],[\"2023-01-17T00:00:00\",\"Fast Transfer From BENJAMEN MAYFIELD-SMI Matter Athletica\"],[\"2023-01-17T00:00:00\",\"POS 26652200 17 JAN\"],[\"2023-01-18T00:00:00\",\"POS 26652200 18 JAN\"],[\"2023-01-18T00:00:00\",\"Direct Credit 485450 SQUARE AU PTY LT\"],[\"2023-01-18T00:00:00\",\"Transfer To Red Octopus PTY LTD CommBank App ZeroW shirt order\"],[\"2023-01-19T00:00:00\",\"Direct Credit 485450 SQUARE AU PTY LT\"],[\"2023-01-19T00:00:00\",\"POS 26652200 19 JAN\"],[\"2023-01-20T00:00:00\",\"Direct Credit 485450 SQUARE AU PTY LT\"],[\"2023-01-20T00:00:00\",\"Direct Debit 507156 XEROAUSTRALIAPTY XeroAUINV_NCV19Z8y\"],[\"2023-01-20T00:00:00\",\"POS 26652200 20 JAN\"],[\"2023-01-21T00:00:00\",\"Fast Transfer From Square Australia Pty CREDIT TO ACCOUNT T200556212529\"],[\"2023-01-21T00:00:00\",\"POS 26652200 21 JAN\"],[\"2023-01-22T00:00:00\",\"Fast Transfer From Square Australia Pty CREDIT TO ACCOUNT T200556462252\"],[\"2023-01-23T00:00:00\",\"Transfer To Better Water CommBank App INV-10932\"],[\"2023-01-23T00:00:00\",\"Direct Credit 485450 SQUARE AU PTY LT\"],[\"2023-01-23T00:00:00\",\"POS 26652200 23 JAN\"],[\"2023-01-24T00:00:00\",\"Direct Credit 485450 SQUARE AU PTY LT\"],[\"2023-01-24T00:00:00\",\"Transfer To Leisa Ohl CommBank App wages\"],[\"2023-01-24T00:00:00\",\"POS 26652200 24 JAN\"],[\"2023-01-24T00:00:00\",\"FACEBK W9L3TMB9Q2 fb.me\\u002fads IE Card xx8568 AUD 76.99 Value Date: 20\\u002f01\\u002f2023\"],[\"2023-01-24T00:00:00\",\"Transfer To Jamie Timms CommBank App wages\"],[\"2023-01-24T00:00:00\",\"Direct Credit 452940 EDUCATION DETRCWSLOHL\"],[\"2023-01-24T00:00:00\",\"Direct Debit 481471 SuperChoice P\\u002fL PC240123-199523381\"],[\"2023-01-24T00:00:00\",\"Direct Credit 452940 EDUCATION DETRCWSJTIMMS\"],[\"2023-01-25T00:00:00\",\"Transfer To Gimanana Pty Ltd CommBank App 222307Zer\"],[\"2023-01-25T00:00:00\",\"Direct Credit 485450 SQUARE AU PTY LT\"],[\"2023-01-26T00:00:00\",\"POS 26652200 25 JAN Value Date: 25\\u002f01\\u002f2023\"],[\"2023-01-26T00:00:00\",\"WOOLWORTHS\\u002fMT GRAVATT PLZ MT GRAVATT AU Card xx8568 Value Date: 24\\u002f01\\u002f2023\"],[\"2023-01-26T00:00:00\",\"POS 26652200 26 JAN\"],[\"2023-01-27T00:00:00\",\"Direct Credit 485450 SQUARE AU PTY LT\"],[\"2023-01-27T00:00:00\",\"Direct Credit 485450 SQUARE AU PTY LT\"],[\"2023-01-27T00:00:00\",\"POS 26652200 27 JAN\"],[\"2023-01-28T00:00:00\",\"POS 26652200 28 JAN\"],[\"2023-01-28T00:00:00\",\"OFFICEWORKS 0437 WILSTON AU Card xx8568 Value Date: 25\\u002f01\\u002f2023\"],[\"2023-01-28T00:00:00\",\"Fast Transfer From Square Australia Pty CREDIT TO ACCOUNT T200558621522\"],[\"2023-01-29T00:00:00\",\"Fast Transfer From Square Australia Pty CREDIT TO ACCOUNT T200558856729\"],[\"2023-01-29T00:00:00\",\"POS 26652200 29 JAN\"],[\"2023-01-30T00:00:00\",\"Direct Credit 485450 SQUARE AU PTY LT\"],[\"2023-01-30T00:00:00\",\"POS 26652200 30 JAN\"],[\"2023-01-31T00:00:00\",\"POS 26652200 31 JAN\"],[\"2023-01-31T00:00:00\",\"Fast Transfer From BENJAMEN MAYFIELD-SMI matter athletica clients\"],[\"2023-01-31T00:00:00\",\"Direct Credit 485450 SQUARE AU PTY LT\"],[\"2023-01-31T00:00:00\",\"Transfer To Leisa Ohl CommBank App wages\"],[\"2023-01-31T00:00:00\",\"Direct Debit 481471 SuperChoice P\\u002fL PC310123-100672531\"],[\"2023-01-31T00:00:00\",\"Transfer To Jamie Timms CommBank App wages\"],[\"2023-02-01T00:00:00\",\"Direct Credit 485450 SQUARE AU PTY LT\"],[\"2023-02-01T00:00:00\",\"POS 26652200 01 FEB\"],[\"2023-02-02T00:00:00\",\"Transfer To Frucor CommBank App 695260\"],[\"2023-02-02T00:00:00\",\"Direct Credit 485450 SQUARE AU PTY LT\"],[\"2023-02-02T00:00:00\",\"CBA MERCHANT FEE 5353109492238548 Value Date: 31\\u002f01\\u002f2023\"],[\"2023-02-02T00:00:00\",\"POS 26652200 02 FEB\"],[\"2023-02-03T00:00:00\",\"Direct Credit 485450 SQUARE AU PTY LT\"],[\"2023-02-03T00:00:00\",\"POS 26652200 03 FEB\"],[\"2023-02-04T00:00:00\",\"Fast Transfer From Square Australia Pty CREDIT TO ACCOUNT T200561480494\"],[\"2023-02-04T00:00:00\",\"POS 26652200 04 FEB\"],[\"2023-02-05T00:00:00\",\"POS 26652200 05 FEB\"],[\"2023-02-05T00:00:00\",\"ORIGIN ENERGY CommBank app BPAY 130112 786863031500 brisbane power\"],[\"2023-02-05T00:00:00\",\"Fast Transfer From Square Australia Pty CREDIT TO ACCOUNT T200561696447\"],[\"2023-02-06T00:00:00\",\"POS 26652200 06 FEB\"],[\"2023-02-06T00:00:00\",\"Direct Credit 485450 SQUARE AU PTY LT\"],[\"2023-02-06T00:00:00\",\"Direct Debit 537033 Paypa Plane PpSoftwr 1KL4XLOY\"],[\"2023-02-07T00:00:00\",\"Transfer To Leisa Ohl CommBank App wages\"],[\"2023-02-07T00:00:00\",\"Direct Credit 485450 SQUARE AU PTY LT\"],[\"2023-02-07T00:00:00\",\"POS 26652200 07 FEB\"],[\"2023-02-07T00:00:00\",\"Transfer To Jamie Timms CommBank App wages\"],[\"2023-02-08T00:00:00\",\"The Green Edge Windsor AU Card xx8568 Value Date: 06\\u002f02\\u002f2023\"],[\"2023-02-08T00:00:00\",\"WOOLWORTHS\\u002fARA ST & THOMA CAMP HILL AU Card xx8568 Value Date: 06\\u002f02\\u002f2023\"],[\"2023-02-08T00:00:00\",\"Direct Credit 485450 SQUARE AU PTY LT\"],[\"2023-02-08T00:00:00\",\"Direct Debit 481471 SuperChoice P\\u002fL PC070223-165349321\"],[\"2023-02-08T00:00:00\",\"POS 26652200 08 FEB\"],[\"2023-02-09T00:00:00\",\"Fast Transfer From MATTHEW STENZEL Axiom rent Axiom\"],[\"2023-02-09T00:00:00\",\"Direct Credit 485450 SQUARE AU PTY LT\"],[\"2023-02-09T00:00:00\",\"POS 26652200 09 FEB\"],[\"2023-02-10T00:00:00\",\"Direct Credit 485450 SQUARE AU PTY LT\"],[\"2023-02-10T00:00:00\",\"POS 26652200 10 FEB\"],[\"2023-02-11T00:00:00\",\"Fast Transfer From Square Australia Pty CREDIT TO ACCOUNT T200564057219\"],[\"2023-02-11T00:00:00\",\"POS 26652200 11 FEB\"],[\"2023-02-12T00:00:00\",\"POS 26652200 12 FEB\"],[\"2023-02-12T00:00:00\",\"Fast Transfer From Square Australia Pty CREDIT TO ACCOUNT T200564322611\"],[\"2023-02-13T00:00:00\",\"Transfer to CBA A\\u002fc CommBank app vacuumlaptop\"],[\"2023-02-13T00:00:00\",\"Direct Credit 485450 SQUARE AU PTY LT\"],[\"2023-02-13T00:00:00\",\"POS 26652200 13 FEB\"],[\"2023-02-14T00:00:00\",\"Transfer To Jamie Timms CommBank App wages\"],[\"2023-02-14T00:00:00\",\"Transfer To Leisa Ohl CommBank App wages\"],[\"2023-02-14T00:00:00\",\"Direct Credit 485450 SQUARE AU PTY LT\"],[\"2023-02-14T00:00:00\",\"POS 26652200 14 FEB\"],[\"2023-02-15T00:00:00\",\"KMART 1275 STAFFORD AU Card xx8568 Value Date: 13\\u002f02\\u002f2023\"],[\"2023-02-15T00:00:00\",\"Direct Credit 485450 SQUARE AU PTY LT\"],[\"2023-02-15T00:00:00\",\"POS 26652200 15 FEB\"],[\"2023-02-16T00:00:00\",\"CHEMIST WAREHOUSE WINDSOR AU Card xx8568 Value Date: 13\\u002f02\\u002f2023\"],[\"2023-02-16T00:00:00\",\"Transfer To Gimanana Pty Ltd CommBank App 222308Zer\"],[\"2023-02-16T00:00:00\",\"Direct Credit 485450 SQUARE AU PTY LT\"],[\"2023-02-16T00:00:00\",\"POS 26652200 16 FEB\"],[\"2023-02-17T00:00:00\",\"Direct Debit 064563 CommBank G'TEE FEE 00705441\"],[\"2023-02-17T00:00:00\",\"POS 26652200 17 FEB\"],[\"2023-02-17T00:00:00\",\"ORIGIN ENERGY CommBank app BPAY 130112 786863031500 power\"],[\"2023-02-17T00:00:00\",\"Direct Credit 485450 SQUARE AU PTY LT\"],[\"2023-02-18T00:00:00\",\"POS 26652200 18 FEB\"],[\"2023-02-18T00:00:00\",\"Fast Transfer From Square Australia Pty CREDIT TO ACCOUNT T200566646797\"],[\"2023-02-19T00:00:00\",\"Fast Transfer From Square Australia Pty CREDIT TO ACCOUNT T200566907975\"],[\"2023-02-19T00:00:00\",\"POS 26652200 19 FEB\"],[\"2023-02-20T00:00:00\",\"Direct Credit 485450 SQUARE AU PTY LT\"],[\"2023-02-20T00:00:00\",\"Direct Debit 507156 XEROAUSTRALIAPTY XeroAUINV_NP4XQ8HX\"],[\"2023-02-20T00:00:00\",\"POS 26652200 20 FEB\"],[\"2023-02-21T00:00:00\",\"Transfer To Leisa Ohl CommBank App wages\"],[\"2023-02-21T00:00:00\",\"Direct Credit 485450 SQUARE AU PTY LT\"],[\"2023-02-21T00:00:00\",\"Transfer To Fab signs CommBank App INV-15003\"],[\"2023-02-21T00:00:00\",\"Direct Debit 481471 SuperChoice P\\u002fL PC210223-116137523\"],[\"2023-02-21T00:00:00\",\"POS 26652200 21 FEB\"],[\"2023-02-21T00:00:00\",\"Transfer To Jamie Timms CommBank App wages\"],[\"2023-02-22T00:00:00\",\"Direct Credit 485450 SQUARE AU PTY LT\"],[\"2023-02-22T00:00:00\",\"POS 26652200 22 FEB\"],[\"2023-02-23T00:00:00\",\"POS 26652200 23 FEB\"],[\"2023-02-23T00:00:00\",\"Direct Credit 485450 SQUARE AU PTY LT\"],[\"2023-02-23T00:00:00\",\"WOOLWORTHS\\u002fMT GRAVATT PLZ MT GRAVATT AU Card xx8568 Value Date: 21\\u002f02\\u002f2023\"],[\"2023-02-24T00:00:00\",\"Direct Credit 485450 SQUARE AU PTY LT\"],[\"2023-02-24T00:00:00\",\"POS 26652200 24 FEB\"],[\"2023-02-25T00:00:00\",\"The Green Edge Windsor AU Card xx8568 Value Date: 23\\u002f02\\u002f2023\"],[\"2023-02-25T00:00:00\",\"Fast Transfer From Square Australia Pty CREDIT TO ACCOUNT T200569196777\"],[\"2023-02-25T00:00:00\",\"POS 26652200 25 FEB\"],[\"2023-02-26T00:00:00\",\"Fast Transfer From Square Australia Pty CREDIT TO ACCOUNT T200569420671\"],[\"2023-02-26T00:00:00\",\"POS 26652200 26 FEB\"],[\"2023-02-26T00:00:00\",\"TAX OFFICE PAYMENTS CommBank app BPAY 75556 002546508512197060 tax\"],[\"2023-02-26T00:00:00\",\"Transfer To Coastal Oak Accounting CommBank App zerowbr\"],[\"2023-02-27T00:00:00\",\"Direct Credit 485450 SQUARE AU PTY LT\"],[\"2023-02-27T00:00:00\",\"POS 26652200 27 FEB\"],[\"2023-02-28T00:00:00\",\"Transfer To Jamie Timms CommBank App wages\"],[\"2023-02-28T00:00:00\",\"Transfer To Leisa Ohl CommBank App wages\"],[\"2023-02-28T00:00:00\",\"Direct Credit 485450 SQUARE AU PTY LT\"],[\"2023-02-28T00:00:00\",\"POS 26652200 28 FEB\"],[\"2023-03-01T00:00:00\",\"POS 26652200 01 MAR\"],[\"2023-03-01T00:00:00\",\"Direct Debit 537033 Paypa Plane PpSoftwr Y03W9OMY\"],[\"2023-03-01T00:00:00\",\"Direct Credit 485450 SQUARE AU PTY LT\"],[\"2023-03-01T00:00:00\",\"Fast Transfer From BENJAMEN MAYFIELD-SMI feb training MA004\"],[\"2023-03-01T00:00:00\",\"BLOCK HOUSE COFFEE AND NUNDAH AU Card xx8568 Value Date: 26\\u002f02\\u002f2023\"],[\"2023-03-02T00:00:00\",\"Direct Credit 485450 SQUARE AU PTY LT\"],[\"2023-03-02T00:00:00\",\"POS 26652200 02 MAR\"],[\"2023-03-03T00:00:00\",\"CBA MERCHANT FEE 5353109492238548 Value Date: 28\\u002f02\\u002f2023\"],[\"2023-03-03T00:00:00\",\"TELSTRA CommBank app BPAY 23796 2000724466519 Zerow\"],[\"2023-03-03T00:00:00\",\"Direct Credit 485450 SQUARE AU PTY LT\"],[\"2023-03-03T00:00:00\",\"POS 26652200 03 MAR\"],[\"2023-03-04T00:00:00\",\"Fast Transfer From Square Australia Pty CREDIT TO ACCOUNT T200572293711\"],[\"2023-03-04T00:00:00\",\"POS 26652200 04 MAR\"],[\"2023-03-05T00:00:00\",\"Fast Transfer From Square Australia Pty CREDIT TO ACCOUNT T200572581799\"],[\"2023-03-05T00:00:00\",\"POS 26652200 05 MAR\"],[\"2023-03-06T00:00:00\",\"POS 26652200 06 MAR\"],[\"2023-03-06T00:00:00\",\"Direct Debit 316623 Telstra DDebit 2000724466519\"],[\"2023-03-06T00:00:00\",\"Direct Credit 485450 SQUARE AU PTY LT\"],[\"2023-03-07T00:00:00\",\"Direct Credit 485450 SQUARE AU PTY LT\"],[\"2023-03-07T00:00:00\",\"Transfer To Jamie Timms CommBank App wages\"],[\"2023-03-07T00:00:00\",\"Transfer To Leisa Ohl CommBank App wages\"],[\"2023-03-07T00:00:00\",\"Transfer To Frucor CommBank App 695260zerow\"],[\"2023-03-07T00:00:00\",\"POS 26652200 07 MAR\"],[\"2023-03-08T00:00:00\",\"POS 26652200 08 MAR\"],[\"2023-03-08T00:00:00\",\"Direct Debit 481471 SuperChoice P\\u002fL PC070323-154449116\"],[\"2023-03-08T00:00:00\",\"CHEMIST WAREHOUSE WINDSOR AU Card xx8568 Value Date: 03\\u002f03\\u002f2023\"],[\"2023-03-08T00:00:00\",\"COLES 4450 LUTWYCHE AU Card xx8568 Value Date: 06\\u002f03\\u002f2023\"],[\"2023-03-08T00:00:00\",\"Direct Credit 485450 SQUARE AU PTY LT\"],[\"2023-03-09T00:00:00\",\"Direct Credit 485450 SQUARE AU PTY LT\"],[\"2023-03-09T00:00:00\",\"POS 26652200 09 MAR\"],[\"2023-03-10T00:00:00\",\"Direct Credit 485450 SQUARE AU PTY LT\"],[\"2023-03-10T00:00:00\",\"POS 26652200 10 MAR\"],[\"2023-03-11T00:00:00\",\"Fast Transfer From Square Australia Pty CREDIT TO ACCOUNT T200575139914\"],[\"2023-03-11T00:00:00\",\"POS 26652200 11 MAR\"],[\"2023-03-12T00:00:00\",\"Fast Transfer From Square Australia Pty CREDIT TO ACCOUNT T200575395513\"],[\"2023-03-12T00:00:00\",\"POS 26652200 12 MAR\"],[\"2023-03-13T00:00:00\",\"Direct Credit 485450 SQUARE AU PTY LT\"],[\"2023-03-13T00:00:00\",\"Direct Debit 537033 Paypa Plane PpSoftwr YJN38225\"],[\"2023-03-13T00:00:00\",\"POS 26652200 13 MAR\"],[\"2023-03-14T00:00:00\",\"POS 26652200 14 MAR\"],[\"2023-03-14T00:00:00\",\"Transfer from NetBank\"],[\"2023-03-14T00:00:00\",\"Direct Credit 485450 SQUARE AU PTY LT\"],[\"2023-03-14T00:00:00\",\"Transfer To Jamie Timms CommBank App wages\"],[\"2023-03-14T00:00:00\",\"Transfer To Leisa Ohl CommBank App wages\"],[\"2023-03-14T00:00:00\",\"WOOLWORTHS\\u002fARA ST & THOMA CAMP HILL AU Card xx8568 Value Date: 10\\u002f03\\u002f2023\"],[\"2023-03-15T00:00:00\",\"Direct Credit 485450 SQUARE AU PTY LT\"],[\"2023-03-15T00:00:00\",\"POS 26652200 15 MAR\"],[\"2023-03-16T00:00:00\",\"Direct Credit 485450 SQUARE AU PTY LT\"],[\"2023-03-16T00:00:00\",\"POS 26652200 16 MAR\"],[\"2023-03-17T00:00:00\",\"Transfer To Gimanana Pty Ltd CommBank App 222309Zer\"],[\"2023-03-17T00:00:00\",\"Direct Credit 485450 SQUARE AU PTY LT\"],[\"2023-03-17T00:00:00\",\"POS 26652200 17 MAR\"],[\"2023-03-18T00:00:00\",\"Fast Transfer From Square Australia Pty CREDIT TO ACCOUNT T200578163138\"],[\"2023-03-18T00:00:00\",\"POS 26652200 18 MAR\"],[\"2023-03-19T00:00:00\",\"Fast Transfer From Square Australia Pty CREDIT TO ACCOUNT T200578435391\"],[\"2023-03-20T00:00:00\",\"Direct Credit 485450 SQUARE AU PTY LT\"],[\"2023-03-20T00:00:00\",\"Direct Debit 507156 XEROAUSTRALIAPTY XeroAUINV_NYYiWKzc\"],[\"2023-03-20T00:00:00\",\"POS 26652200 20 MAR\"],[\"2023-03-21T00:00:00\",\"POS 26652200 21 MAR\"],[\"2023-03-21T00:00:00\",\"Direct Debit 481471 SuperChoice P\\u002fL PC210323-155945229\"],[\"2023-03-21T00:00:00\",\"Direct Credit 485450 SQUARE AU PTY LT\"],[\"2023-03-21T00:00:00\",\"Transfer to CBA A\\u002fc CommBank app zwsb1704\"],[\"2023-03-21T00:00:00\",\"Transfer To Jamie Timms CommBank App wages\"],[\"2023-03-21T00:00:00\",\"AJG Insurance Broker CommBank app BPAY 43984 41007661943\"],[\"2023-03-21T00:00:00\",\"Transfer To Leisa Ohl CommBank App wages\"],[\"2023-03-22T00:00:00\",\"Direct Credit 485450 SQUARE AU PTY LT\"],[\"2023-03-22T00:00:00\",\"POS 26652200 22 MAR\"],[\"2023-03-23T00:00:00\",\"WOOLWORTHS\\u002fMT GRAVATT PLZ MT GRAVATT AU Card xx8568 Value Date: 21\\u002f03\\u002f2023\"],[\"2023-03-23T00:00:00\",\"Direct Credit 485450 SQUARE AU PTY LT\"],[\"2023-03-23T00:00:00\",\"POS 26652200 23 MAR\"],[\"2023-03-24T00:00:00\",\"Direct Credit 485450 SQUARE AU PTY LT\"],[\"2023-03-24T00:00:00\",\"POS 26652200 24 MAR\"],[\"2023-03-24T00:00:00\",\"JB HI FI MOUNT GRAVA MT GRAVATT AU Card xx8568 Value Date: 21\\u002f03\\u002f2023\"],[\"2023-03-25T00:00:00\",\"BUNNINGS 333000 MT GRAVATT AU Card xx8568 Value Date: 21\\u002f03\\u002f2023\"],[\"2023-03-25T00:00:00\",\"Fast Transfer From Square Australia Pty CREDIT TO ACCOUNT T200581330545\"],[\"2023-03-25T00:00:00\",\"POS 26652200 25 MAR\"],[\"2023-03-26T00:00:00\",\"Fast Transfer From Square Australia Pty CREDIT TO ACCOUNT T200581596034\"],[\"2023-03-26T00:00:00\",\"POS 26652200 26 MAR\"],[\"2023-03-27T00:00:00\",\"Direct Credit 485450 SQUARE AU PTY LT\"],[\"2023-03-27T00:00:00\",\"POS 26652200 27 MAR\"],[\"2023-03-28T00:00:00\",\"POS 26652200 28 MAR\"],[\"2023-03-28T00:00:00\",\"Direct Credit 485450 SQUARE AU PTY LT\"],[\"2023-03-29T00:00:00\",\"Transfer To Leisa Ohl CommBank App wages\"],[\"2023-03-29T00:00:00\",\"POS 26652200 29 MAR\"],[\"2023-03-29T00:00:00\",\"Transfer To Jamie Timms CommBank App wages\"],[\"2023-03-29T00:00:00\",\"Direct Credit 485450 SQUARE AU PTY LT\"],[\"2023-03-30T00:00:00\",\"Direct Credit 485450 SQUARE AU PTY LT\"],[\"2023-03-30T00:00:00\",\"POS 26652200 30 MAR\"],[\"2023-03-31T00:00:00\",\"Direct Credit 485450 SQUARE AU PTY LT\"],[\"2023-03-31T00:00:00\",\"POS 26652200 31 MAR\"],[\"2023-04-01T00:00:00\",\"Fast Transfer From Square Australia Pty CREDIT TO ACCOUNT T200584534063\"],[\"2023-04-01T00:00:00\",\"POS 26652200 01 APR\"],[\"2023-04-02T00:00:00\",\"Fast Transfer From Square Australia Pty CREDIT TO ACCOUNT T200584884408\"],[\"2023-04-02T00:00:00\",\"CBA MERCHANT FEE 5353109492238548 Value Date: 31\\u002f03\\u002f2023\"],[\"2023-04-02T00:00:00\",\"POS 26652200 02 APR\"],[\"2023-04-03T00:00:00\",\"Fast Transfer From Ronan K Petersen ronan Zero 10\\u002f02-24\\u002f02\"],[\"2023-04-03T00:00:00\",\"Direct Credit 485450 SQUARE AU PTY LT\"],[\"2023-04-03T00:00:00\",\"Fast Transfer From BENJAMEN MAYFIELD-SMI inv MA006\"],[\"2023-04-03T00:00:00\",\"POS 26652200 03 APR\"],[\"2023-04-04T00:00:00\",\"Transfer To Leisa Ohl CommBank App wages\"],[\"2023-04-04T00:00:00\",\"POS 26652200 04 APR\"],[\"2023-04-04T00:00:00\",\"Direct Credit 485450 SQUARE AU PTY LT\"],[\"2023-04-04T00:00:00\",\"Transfer To Frucor CommBank App 695260\"],[\"2023-04-04T00:00:00\",\"Transfer To Jamie Timms CommBank App wages\"],[\"2023-04-05T00:00:00\",\"AJG Insurance Broker CommBank app BPAY 43984 41007661943\"],[\"2023-04-05T00:00:00\",\"AJG Insurance Broker CommBank app BPAY 43984 41007679836\"],[\"2023-04-05T00:00:00\",\"Direct Credit 485450 SQUARE AU PTY LT\"],[\"2023-04-05T00:00:00\",\"POS 26652200 05 APR\"],[\"2023-04-06T00:00:00\",\"Direct Credit 485450 SQUARE AU PTY LT\"],[\"2023-04-06T00:00:00\",\"POS 26652200 06 APR\"],[\"2023-04-07T00:00:00\",\"POS 26652200 07 APR\"],[\"2023-04-08T00:00:00\",\"POS 26652200 08 APR\"],[\"2023-04-08T00:00:00\",\"Fast Transfer From Square Australia Pty CREDIT TO ACCOUNT T200588189399\"],[\"2023-04-09T00:00:00\",\"Fast Transfer From Square Australia Pty CREDIT TO ACCOUNT T200588420682\"],[\"2023-04-09T00:00:00\",\"POS 26652200 09 APR\"],[\"2023-04-10T00:00:00\",\"POS 26652200 10 APR\"],[\"2023-04-11T00:00:00\",\"POS 26652200 11 APR\"],[\"2023-04-11T00:00:00\",\"Direct Debit 481471 SuperChoice P\\u002fL PC110423-159416510\"],[\"2023-04-11T00:00:00\",\"Direct Credit 485450 SQUARE AU PTY LT\"],[\"2023-04-11T00:00:00\",\"Direct Credit 485450 SQUARE AU PTY LT\"],[\"2023-04-11T00:00:00\",\"Transfer To Leisa Ohl CommBank App wages\"],[\"2023-04-11T00:00:00\",\"Direct Credit 485450 SQUARE AU PTY LT\"],[\"2023-04-11T00:00:00\",\"Transfer To Jamie Timms CommBank App wages\"],[\"2023-04-12T00:00:00\",\"BUNNINGS 556000 NEWSTEAD AU Card xx8568 Value Date: 05\\u002f04\\u002f2023\"],[\"2023-04-12T00:00:00\",\"WOOLWORTHS\\u002fMT GRAVATT PLZ MT GRAVATT AU Card xx8568 Value Date: 06\\u002f04\\u002f2023\"],[\"2023-04-12T00:00:00\",\"Direct Credit 485450 SQUARE AU PTY LT\"],[\"2023-04-12T00:00:00\",\"Direct Debit 537033 Paypa Plane PpSoftwr 1ODNZRGY\"],[\"2023-04-12T00:00:00\",\"POS 26652200 12 APR\"],[\"2023-04-13T00:00:00\",\"Transfer to CBA A\\u002fc CommBank app cpr\"],[\"2023-04-13T00:00:00\",\"Transfer from CommBank app Axiom April\"],[\"2023-04-13T00:00:00\",\"Direct Credit 485450 SQUARE AU PTY LT\"],[\"2023-04-13T00:00:00\",\"POS 26652200 13 APR\"],[\"2023-04-14T00:00:00\",\"WOOLWORTHS\\u002fARA ST & THOMA CAMP HILL AU Card xx8568 Value Date: 12\\u002f04\\u002f2023\"],[\"2023-04-14T00:00:00\",\"Direct Credit 485450 SQUARE AU PTY LT\"],[\"2023-04-14T00:00:00\",\"POS 26652200 14 APR\"],[\"2023-04-15T00:00:00\",\"Fast Transfer From Square Australia Pty CREDIT TO ACCOUNT T200591341058\"],[\"2023-04-15T00:00:00\",\"POS 26652200 15 APR\"],[\"2023-04-16T00:00:00\",\"POS 26652200 16 APR\"],[\"2023-04-16T00:00:00\",\"Fast Transfer From Square Australia Pty CREDIT TO ACCOUNT T200591635529\"],[\"2023-04-17T00:00:00\",\"Transfer To Collaboration Learning CommBank App 33496\"],[\"2023-04-17T00:00:00\",\"Direct Credit 485450 SQUARE AU PTY LT\"],[\"2023-04-17T00:00:00\",\"POS 26652200 17 APR\"],[\"2023-04-18T00:00:00\",\"Transfer To Frucor CommBank App 695260\"],[\"2023-04-18T00:00:00\",\"Transfer To Gimanana Pty Ltd CommBank App 222307Zer\"],[\"2023-04-18T00:00:00\",\"Direct Credit 485450 SQUARE AU PTY LT\"],[\"2023-04-18T00:00:00\",\"Transfer To Jamie Timms CommBank App wages\"],[\"2023-04-18T00:00:00\",\"Transfer To Leisa Ohl CommBank App wages\"],[\"2023-04-18T00:00:00\",\"POS 26652200 18 APR\"],[\"2023-04-19T00:00:00\",\"WOOLWORTHS\\u002fMT GRAVATT PLZ MT GRAVATT AU Card xx8568 Value Date: 17\\u002f04\\u002f2023\"],[\"2023-04-19T00:00:00\",\"Direct Credit 485450 SQUARE AU PTY LT\"],[\"2023-04-19T00:00:00\",\"BPAY Biller Refund AJG Insurance Broker\"],[\"2023-04-19T00:00:00\",\"Direct Debit 481471 SuperChoice P\\u002fL PC180423-160868429\"],[\"2023-04-19T00:00:00\",\"POS 26652200 19 APR\"],[\"2023-04-20T00:00:00\",\"POS 26652200 20 APR\"],[\"2023-04-20T00:00:00\",\"Direct Debit 507156 XEROAUSTRALIAPTY XeroAUINV_NkF1WJuA\"],[\"2023-04-20T00:00:00\",\"Direct Credit 485450 SQUARE AU PTY LT\"],[\"2023-04-21T00:00:00\",\"Direct Credit 485450 SQUARE AU PTY LT\"],[\"2023-04-21T00:00:00\",\"POS 26652200 21 APR\"],[\"2023-04-22T00:00:00\",\"WOOLWORTHS\\u002f543 LUTWYCHE R LUTWYCHE AU Card xx8568 Value Date: 20\\u002f04\\u002f2023\"],[\"2023-04-22T00:00:00\",\"Fast Transfer From Square Australia Pty CREDIT TO ACCOUNT T200594461893\"],[\"2023-04-22T00:00:00\",\"POS 26652200 22 APR\"],[\"2023-04-23T00:00:00\",\"Fast Transfer From Square Australia Pty CREDIT TO ACCOUNT T200594633766\"],[\"2023-04-23T00:00:00\",\"POS 26652200 23 APR\"],[\"2023-04-24T00:00:00\",\"POS 26652200 24 APR\"],[\"2023-04-24T00:00:00\",\"Direct Credit 485450 SQUARE AU PTY LT\"],[\"2023-04-25T00:00:00\",\"Transfer To Jamie Timms CommBank App wages\"],[\"2023-04-25T00:00:00\",\"Transfer To Leisa Ohl CommBank App wages\"],[\"2023-04-25T00:00:00\",\"POS 26652200 25 APR\"],[\"2023-04-26T00:00:00\",\"POS 26652200 26 APR\"],[\"2023-04-26T00:00:00\",\"Direct Credit 485450 SQUARE AU PTY LT\"],[\"2023-04-26T00:00:00\",\"Direct Credit 485450 SQUARE AU PTY LT\"],[\"2023-04-26T00:00:00\",\"Direct Debit 481471 SuperChoice P\\u002fL PC260423-190998083\"],[\"2023-04-27T00:00:00\",\"Direct Credit 485450 SQUARE AU PTY LT\"],[\"2023-04-27T00:00:00\",\"POS 26652200 27 APR\"],[\"2023-04-28T00:00:00\",\"Direct Credit 485450 SQUARE AU PTY LT\"],[\"2023-04-28T00:00:00\",\"POS 26652200 28 APR\"],[\"2023-04-29T00:00:00\",\"Fast Transfer From Square Australia Pty CREDIT TO ACCOUNT T200597327142\"],[\"2023-04-29T00:00:00\",\"POS 26652200 29 APR\"],[\"2023-04-30T00:00:00\",\"Fast Transfer From Square Australia Pty CREDIT TO ACCOUNT T200597540521\"],[\"2023-04-30T00:00:00\",\"POS 26652200 30 APR\"],[\"2023-05-01T00:00:00\",\"POS 26652200 01 MAY\"],[\"2023-05-01T00:00:00\",\"Direct Credit 485450 SQUARE AU PTY LT\"],[\"2023-05-01T00:00:00\",\"Direct Credit 452940 EDUCATION DETRCWSLOHL\"],[\"2023-05-01T00:00:00\",\"Direct Credit 452940 EDUCATION DETRCWSJTIMMS\"],[\"2023-05-02T00:00:00\",\"Transfer To Frucor CommBank App 695260\"],[\"2023-05-02T00:00:00\",\"Transfer To Jamie Timms CommBank App wages\"],[\"2023-05-02T00:00:00\",\"Transfer To Leisa Ohl CommBank App wages\"],[\"2023-05-02T00:00:00\",\"Direct Credit 485450 SQUARE AU PTY LT\"],[\"2023-05-02T00:00:00\",\"POS 26652200 02 MAY\"],[\"2023-05-03T00:00:00\",\"Direct Debit 481471 SuperChoice P\\u002fL PC030523-193749957\"],[\"2023-05-03T00:00:00\",\"POS 26652200 03 MAY\"],[\"2023-05-03T00:00:00\",\"Transfer To Frucor CommBank App 695260\"],[\"2023-05-03T00:00:00\",\"Direct Credit 485450 SQUARE AU PTY LT\"],[\"2023-05-04T00:00:00\",\"Transfer to CBA A\\u002fc CommBank app tablet\"],[\"2023-05-04T00:00:00\",\"Direct Credit 485450 SQUARE AU PTY LT\"],[\"2023-05-04T00:00:00\",\"CBA MERCHANT FEE 5353109492238548 Value Date: 30\\u002f04\\u002f2023\"],[\"2023-05-04T00:00:00\",\"Transfer to CBA A\\u002fc CommBank app meat wood\"],[\"2023-05-04T00:00:00\",\"POS 26652200 04 MAY\"],[\"2023-05-05T00:00:00\",\"Transfer To Frucor CommBank App 695260\"],[\"2023-05-05T00:00:00\",\"Direct Credit 485450 SQUARE AU PTY LT\"],[\"2023-05-05T00:00:00\",\"Fast Transfer From BENJAMEN MAYFIELD-SMI invoice 006\\u002f007\"],[\"2023-05-05T00:00:00\",\"POS 26652200 05 MAY\"],[\"2023-05-06T00:00:00\",\"POS 26652200 06 MAY\"],[\"2023-05-06T00:00:00\",\"Fast Transfer From Square Australia Pty CREDIT TO ACCOUNT T200600778545\"],[\"2023-05-06T00:00:00\",\"WILSON PARKING AUSTRALIA BRISBANE AU Card xx8568 Value Date: 03\\u002f05\\u002f2023\"],[\"2023-05-07T00:00:00\",\"Transfer To Thomas J Lilley CommBank App monitor\"],[\"2023-05-07T00:00:00\",\"Fast Transfer From Square Australia Pty CREDIT TO ACCOUNT T200601008716\"],[\"2023-05-07T00:00:00\",\"POS 26652200 07 MAY\"],[\"2023-05-08T00:00:00\",\"Direct Credit 485450 SQUARE AU PTY LT\"],[\"2023-05-08T00:00:00\",\"POS 26652200 08 MAY\"],[\"2023-05-09T00:00:00\",\"POS 26652200 09 MAY\"],[\"2023-05-09T00:00:00\",\"Direct Debit 481471 SuperChoice P\\u002fL PC090523-194767175\"],[\"2023-05-09T00:00:00\",\"Direct Credit 485450 SQUARE AU PTY LT\"],[\"2023-05-09T00:00:00\",\"Transfer To Coastal Oak Accounting CommBank App zerowbr\"],[\"2023-05-09T00:00:00\",\"WOOLWORTHS\\u002f543 LUTWYCHE R LUTWYCHE AU Card xx8568 Value Date: 05\\u002f05\\u002f2023\"],[\"2023-05-09T00:00:00\",\"Transfer To Coastal Oak Accounting CommBank App zerowbr\"],[\"2023-05-09T00:00:00\",\"Transfer To Leisa Ohl CommBank App wages\"],[\"2023-05-09T00:00:00\",\"Transfer To Jamie Timms CommBank App wages\"],[\"2023-05-09T00:00:00\",\"TAX OFFICE PAYMENTS CommBank app BPAY 75556 002546508512197060 bas\"],[\"2023-05-10T00:00:00\",\"Direct Credit 485450 SQUARE AU PTY LT\"],[\"2023-05-10T00:00:00\",\"POS 26652200 10 MAY\"],[\"2023-05-11T00:00:00\",\"CHEMIST WAREHOUSE WINDSOR AU Card xx8568 Value Date: 08\\u002f05\\u002f2023\"],[\"2023-05-11T00:00:00\",\"Direct Credit 485450 SQUARE AU PTY LT\"],[\"2023-05-11T00:00:00\",\"POS 26652200 11 MAY\"],[\"2023-05-12T00:00:00\",\"Direct Credit 485450 SQUARE AU PTY LT\"],[\"2023-05-12T00:00:00\",\"POS 26652200 12 MAY\"],[\"2023-05-13T00:00:00\",\"WOOLWORTHS\\u002fMT GRAVATT PLZ MT GRAVATT AU Card xx8568 Value Date: 11\\u002f05\\u002f2023\"],[\"2023-05-13T00:00:00\",\"Fast Transfer From Square Australia Pty CREDIT TO ACCOUNT T200603815839\"],[\"2023-05-13T00:00:00\",\"POS 26652200 13 MAY\"],[\"2023-05-14T00:00:00\",\"POS 26652200 14 MAY\"],[\"2023-05-14T00:00:00\",\"Fast Transfer From Square Australia Pty CREDIT TO ACCOUNT T200604010407\"],[\"2023-05-15T00:00:00\",\"Direct Credit 485450 SQUARE AU PTY LT\"],[\"2023-05-15T00:00:00\",\"POS 26652200 15 MAY\"],[\"2023-05-16T00:00:00\",\"Direct Credit 485450 SQUARE AU PTY LT\"],[\"2023-05-16T00:00:00\",\"Transfer To Jamie Timms CommBank App wages\"],[\"2023-05-16T00:00:00\",\"Transfer To Leisa Ohl CommBank App wages\"],[\"2023-05-16T00:00:00\",\"Direct Debit 316623 Telstra DDebit 2000724466519\"],[\"2023-05-16T00:00:00\",\"POS 26652200 16 MAY\"],[\"2023-05-17T00:00:00\",\"Direct Credit 485450 SQUARE AU PTY LT\"],[\"2023-05-17T00:00:00\",\"Transfer To Frucor CommBank App 695260zerow\"],[\"2023-05-17T00:00:00\",\"POS 26652200 17 MAY\"],[\"2023-05-18T00:00:00\",\"Fast Transfer From MATTHEW STENZEL Axiom rent June June axiom\"],[\"2023-05-18T00:00:00\",\"Direct Credit 485450 SQUARE AU PTY LT\"],[\"2023-05-18T00:00:00\",\"POS 26652200 18 MAY\"],[\"2023-05-19T00:00:00\",\"Direct Credit 485450 SQUARE AU PTY LT\"],[\"2023-05-19T00:00:00\",\"POS 26652200 19 MAY\"],[\"2023-05-20T00:00:00\",\"Fast Transfer From Square Australia Pty CREDIT TO ACCOUNT T200606653216\"],[\"2023-05-20T00:00:00\",\"POS 26652200 20 MAY\"],[\"2023-05-21T00:00:00\",\"POS 26652200 21 MAY\"],[\"2023-05-21T00:00:00\",\"Fast Transfer From Square Australia Pty CREDIT TO ACCOUNT T200606845792\"],[\"2023-05-22T00:00:00\",\"Direct Credit 485450 SQUARE AU PTY LT\"],[\"2023-05-22T00:00:00\",\"Direct Debit 507156 XEROAUSTRALIAPTY XeroAUINV_NvVVmZeM\"],[\"2023-05-22T00:00:00\",\"POS 26652200 22 MAY\"],[\"2023-05-23T00:00:00\",\"Transfer To Jamie Timms CommBank App wages\"],[\"2023-05-23T00:00:00\",\"Transfer To Leisa Ohl CommBank App wages\"],[\"2023-05-23T00:00:00\",\"Direct Credit 485450 SQUARE AU PTY LT\"],[\"2023-05-23T00:00:00\",\"POS 26652200 23 MAY\"],[\"2023-05-24T00:00:00\",\"Direct Credit 485450 SQUARE AU PTY LT\"],[\"2023-05-24T00:00:00\",\"POS 26652200 24 MAY\"],[\"2023-05-25T00:00:00\",\"WOOLWORTHS\\u002fMT GRAVATT PLZ MT GRAVATT AU Card xx8568 Value Date: 23\\u002f05\\u002f2023\"],[\"2023-05-25T00:00:00\",\"Transfer to CBA A\\u002fc CommBank app zwsb2506\"],[\"2023-05-25T00:00:00\",\"Direct Credit 485450 SQUARE AU PTY LT\"],[\"2023-05-25T00:00:00\",\"Transfer To Daniel Carpenter CommBank App loanrepay\"],[\"2023-05-25T00:00:00\",\"Transfer to CBA A\\u002fc CommBank app loanrepay\"],[\"2023-05-25T00:00:00\",\"POS 26652200 25 MAY\"],[\"2023-05-26T00:00:00\",\"Transfer To Gimanana Pty Ltd CommBank App 222311Zer Value Date: 27\\u002f05\\u002f2023\"],[\"2023-05-26T00:00:00\",\"Direct Credit 485450 SQUARE AU PTY LT\"],[\"2023-05-26T00:00:00\",\"POS 26652200 26 MAY\"],[\"2023-05-27T00:00:00\",\"POS 26652200 27 MAY\"],[\"2023-05-27T00:00:00\",\"Fast Transfer From Square Australia Pty CREDIT TO ACCOUNT T200609422667\"],[\"2023-05-28T00:00:00\",\"Transfer To axiom CommBank App loanrepay\"],[\"2023-05-28T00:00:00\",\"Fast Transfer From Square Australia Pty CREDIT TO ACCOUNT T200609610328\"],[\"2023-05-28T00:00:00\",\"POS 26652200 28 MAY\"],[\"2023-05-29T00:00:00\",\"Direct Credit 485450 SQUARE AU PTY LT\"],[\"2023-05-29T00:00:00\",\"POS 26652200 29 MAY\"],[\"2023-05-30T00:00:00\",\"Direct Credit 485450 SQUARE AU PTY LT\"],[\"2023-05-30T00:00:00\",\"Transfer To Jamie Timms CommBank App wages\"],[\"2023-05-30T00:00:00\",\"Transfer To Leisa Ohl CommBank App wages\"],[\"2023-05-30T00:00:00\",\"POS 26652200 30 MAY\"],[\"2023-05-30T00:00:00\",\"COLES 4584 HELENSVALE AU Card xx8568 Value Date: 26\\u002f05\\u002f2023\"],[\"2023-05-31T00:00:00\",\"POS 26652200 31 MAY\"],[\"2023-05-31T00:00:00\",\"COLES 4450 LUTWYCHE AU Card xx8568 Value Date: 29\\u002f05\\u002f2023\"],[\"2023-05-31T00:00:00\",\"Transfer To Frucor CommBank App 695260zerow\"],[\"2023-05-31T00:00:00\",\"Direct Credit 485450 SQUARE AU PTY LT\"],[\"2023-06-01T00:00:00\",\"POS 26652200 01 JUN\"],[\"2023-06-01T00:00:00\",\"Direct Credit 485450 SQUARE AU PTY LT\"],[\"2023-06-02T00:00:00\",\"BUNNINGS 556000 NEWSTEAD AU Card xx8568 Value Date: 29\\u002f05\\u002f2023\"],[\"2023-06-02T00:00:00\",\"Transfer to CBA A\\u002fc CommBank app 0193 shipping\"],[\"2023-06-02T00:00:00\",\"Direct Credit 485450 SQUARE AU PTY LT\"],[\"2023-06-02T00:00:00\",\"CBA MERCHANT FEE 5353109492238548 Value Date: 31\\u002f05\\u002f2023\"],[\"2023-06-02T00:00:00\",\"POS 26652200 02 JUN\"],[\"2023-06-03T00:00:00\",\"Fast Transfer From Square Australia Pty CREDIT TO ACCOUNT T200612751085\"],[\"2023-06-03T00:00:00\",\"POS 26652200 03 JUN\"],[\"2023-06-04T00:00:00\",\"POS 26652200 04 JUN\"],[\"2023-06-04T00:00:00\",\"Fast Transfer From Square Australia Pty CREDIT TO ACCOUNT T200612965379\"],[\"2023-06-05T00:00:00\",\"Direct Credit 485450 SQUARE AU PTY LT\"],[\"2023-06-05T00:00:00\",\"POS 26652200 05 JUN\"],[\"2023-06-06T00:00:00\",\"ROGUEAUSTRALIA 0414983101 AU Card xx8568 Value Date: 02\\u002f06\\u002f2023\"],[\"2023-06-06T00:00:00\",\"Direct Credit 485450 SQUARE AU PTY LT\"],[\"2023-06-06T00:00:00\",\"Transfer To Jamie Timms CommBank App wages\"],[\"2023-06-06T00:00:00\",\"Transfer To Leisa Ohl CommBank App wages\"],[\"2023-06-06T00:00:00\",\"POS 26652200 06 JUN\"],[\"2023-06-07T00:00:00\",\"Direct Debit 481471 SuperChoice P\\u002fL PC060623-182791873\"],[\"2023-06-07T00:00:00\",\"POS 26652200 07 JUN\"],[\"2023-06-07T00:00:00\",\"COLES 4450 LUTWYCHE AU Card xx8568 Value Date: 05\\u002f06\\u002f2023\"],[\"2023-06-07T00:00:00\",\"Direct Credit 485450 SQUARE AU PTY LT\"],[\"2023-06-08T00:00:00\",\"Transfer from CommBank app Axiom Rent June\"],[\"2023-06-08T00:00:00\",\"Direct Credit 485450 SQUARE AU PTY LT\"],[\"2023-06-08T00:00:00\",\"POS 26652200 08 JUN\"],[\"2023-06-08T00:00:00\",\"Transfer to CBA A\\u002fc CommBank app Origin Energy Bill\"],[\"2023-06-09T00:00:00\",\"Direct Credit 485450 SQUARE AU PTY LT\"],[\"2023-06-09T00:00:00\",\"POS 26652200 09 JUN\"],[\"2023-06-10T00:00:00\",\"Fast Transfer From Square Australia Pty CREDIT TO ACCOUNT T200615987018\"],[\"2023-06-10T00:00:00\",\"POS 26652200 10 JUN\"],[\"2023-06-11T00:00:00\",\"POS 26652200 11 JUN\"],[\"2023-06-11T00:00:00\",\"Fast Transfer From BENJAMEN MAYFIELD-SMI coaching zerow inv ma009\"],[\"2023-06-11T00:00:00\",\"Fast Transfer From Square Australia Pty CREDIT TO ACCOUNT T200616180140\"],[\"2023-06-12T00:00:00\",\"POS 26652200 12 JUN\"],[\"2023-06-13T00:00:00\",\"Direct Credit 485450 SQUARE AU PTY LT\"],[\"2023-06-13T00:00:00\",\"Transfer To Frucor CommBank App 695260\"],[\"2023-06-13T00:00:00\",\"Direct Credit 485450 SQUARE AU PTY LT\"],[\"2023-06-13T00:00:00\",\"Transfer To Jamie Timms CommBank App wages\"],[\"2023-06-13T00:00:00\",\"Transfer To Leisa Ohl CommBank App wages\"],[\"2023-06-13T00:00:00\",\"POS 26652200 13 JUN\"],[\"2023-06-14T00:00:00\",\"Direct Credit 485450 SQUARE AU PTY LT\"],[\"2023-06-14T00:00:00\",\"POS 26652200 14 JUN\"],[\"2023-06-15T00:00:00\",\"Direct Credit 485450 SQUARE AU PTY LT\"],[\"2023-06-15T00:00:00\",\"Direct Debit 316623 Telstra DDebit 2000724466519\"],[\"2023-06-15T00:00:00\",\"POS 26652200 15 JUN\"],[\"2023-06-16T00:00:00\",\"COLES 4595 UPP MT GRVT AU Card xx8568 Value Date: 14\\u002f06\\u002f2023\"],[\"2023-06-16T00:00:00\",\"Direct Credit 485450 SQUARE AU PTY LT\"],[\"2023-06-16T00:00:00\",\"Direct Debit 537033 Paypa Plane PpSoftwr P1WOWR36Y\"],[\"2023-06-16T00:00:00\",\"POS 26652200 16 JUN\"],[\"2023-06-17T00:00:00\",\"POS 26652200 17 JUN\"],[\"2023-06-17T00:00:00\",\"PACK & SEND ALBION BOWEN HILLS AU Card xx8568 Value Date: 14\\u002f06\\u002f2023\"],[\"2023-06-17T00:00:00\",\"Fast Transfer From Square Australia Pty CREDIT TO ACCOUNT T200619086896\"],[\"2023-06-18T00:00:00\",\"Fast Transfer From Square Australia Pty CREDIT TO ACCOUNT T200619304067\"],[\"2023-06-18T00:00:00\",\"POS 26652200 18 JUN\"],[\"2023-06-19T00:00:00\",\"Transfer To Gimanana Pty Ltd CommBank App 222311Zer\"],[\"2023-06-19T00:00:00\",\"Direct Credit 485450 SQUARE AU PTY LT\"],[\"2023-06-19T00:00:00\",\"POS 26652200 19 JUN\"],[\"2023-06-20T00:00:00\",\"POS 26652200 20 JUN\"],[\"2023-06-20T00:00:00\",\"Direct Debit 507156 XEROAUSTRALIAPTY XeroAUINV_P74JyWzX\"],[\"2023-06-20T00:00:00\",\"Transfer To Leisa Ohl CommBank App wages\"],[\"2023-06-20T00:00:00\",\"WOOLWORTHS\\u002f543 LUTWYCHE R LUTWYCHE AU Card xx8568 Value Date: 15\\u002f06\\u002f2023\"],[\"2023-06-20T00:00:00\",\"Direct Credit 485450 SQUARE AU PTY LT\"],[\"2023-06-20T00:00:00\",\"Transfer To Jamie Timms CommBank App wages\"],[\"2023-06-20T00:00:00\",\"SQ *MOONSHINE COFFEE Kangaroo Poin AU Card xx8568 Value Date: 17\\u002f06\\u002f2023\"],[\"2023-06-21T00:00:00\",\"ASIC CommBank app BPAY 17301 2296508512193 asic\"],[\"2023-06-21T00:00:00\",\"Transfer To Coastal Oak Accounting CommBank App zerowbr\"],[\"2023-06-21T00:00:00\",\"Direct Credit 485450 SQUARE AU PTY LT\"],[\"2023-06-21T00:00:00\",\"Direct Debit 481471 SuperChoice P\\u002fL PC200623-104432260\"],[\"2023-06-21T00:00:00\",\"POS 26652200 21 JUN\"],[\"2023-06-22T00:00:00\",\"Direct Credit 485450 SQUARE AU PTY LT\"],[\"2023-06-22T00:00:00\",\"POS 26652200 22 JUN\"],[\"2023-06-22T00:00:00\",\"Terminal Rental Fee Fee Refund\"],[\"2023-06-23T00:00:00\",\"COLES 4595 UPP MT GRVT AU Card xx8568 Value Date: 21\\u002f06\\u002f2023\"],[\"2023-06-23T00:00:00\",\"OFFICEWORKS 0437 WILSTON AU Card xx8568 Value Date: 21\\u002f06\\u002f2023\"],[\"2023-06-23T00:00:00\",\"Direct Credit 485450 SQUARE AU PTY LT\"],[\"2023-06-23T00:00:00\",\"POS 26652200 23 JUN\"],[\"2023-06-24T00:00:00\",\"POS 26652200 24 JUN\"],[\"2023-06-24T00:00:00\",\"Fast Transfer From Square Australia Pty CREDIT TO ACCOUNT T200622106872\"],[\"2023-06-25T00:00:00\",\"Fast Transfer From Square Australia Pty CREDIT TO ACCOUNT T200622324749\"],[\"2023-06-25T00:00:00\",\"POS 26652200 25 JUN\"],[\"2023-06-26T00:00:00\",\"Direct Credit 485450 SQUARE AU PTY LT\"],[\"2023-06-26T00:00:00\",\"POS 26652200 26 JUN\"],[\"2023-06-27T00:00:00\",\"Transfer To Frucor CommBank App 695260\"],[\"2023-06-27T00:00:00\",\"Transfer To Jamie Timms CommBank App wages\"],[\"2023-06-27T00:00:00\",\"Transfer To Leisa Ohl CommBank App wages\"],[\"2023-06-27T00:00:00\",\"Direct Credit 485450 SQUARE AU PTY LT\"],[\"2023-06-27T00:00:00\",\"Direct Debit 481471 SuperChoice P\\u002fL PC270623-145428808\"],[\"2023-06-27T00:00:00\",\"POS 26652200 27 JUN\"],[\"2023-06-28T00:00:00\",\"Transfer to xx1247 CommBank app thiccmats\"],[\"2023-06-28T00:00:00\",\"Direct Credit 485450 SQUARE AU PTY LT\"],[\"2023-06-28T00:00:00\",\"POS 26652200 28 JUN\"],[\"2023-06-29T00:00:00\",\"Direct Credit 485450 SQUARE AU PTY LT\"],[\"2023-06-29T00:00:00\",\"POS 26652200 29 JUN\"],[\"2023-06-30T00:00:00\",\"Direct Credit 485450 SQUARE AU PTY LT\"],[\"2023-06-30T00:00:00\",\"POS 26652200 30 JUN\"]],\"hovertemplate\":\"Transaction Value=%{y}\\u003cbr\\u003eDate=%{customdata[0]}\\u003cbr\\u003eNarration=%{customdata[1]}\\u003cextra\\u003e\\u003c\\u002fextra\\u003e\",\"legendgroup\":\"\",\"marker\":{\"color\":\"#636efa\"},\"name\":\"\",\"notched\":false,\"offsetgroup\":\"\",\"orientation\":\"v\",\"showlegend\":false,\"x0\":\" \",\"xaxis\":\"x\",\"y\":[-33.1,-16.47,22.0,69.98,98.0,-8433.34,-901.15,-901.15,156.0,-58.0,40.0,1199.73,-56.05,120.0,-37.83,324.92,46.0,-44.61,1252.72,152.0,644.83,12.0,688.81,96.0,4.0,178.96,76.0,121.0,-901.15,-901.15,384.9,69.98,1129.75,14.0,742.84,20.0,-195.69,1295.0,730.81,60.0,857.78,148.0,318.93,48.0,72.0,-47.9,1129.75,104.97,-901.15,-901.15,256.0,-20.2,-385.0,279.92,89.0,908.81,166.0,18.0,238.9,1166.45,170.0,178.96,69.98,119.0,-92.0,-901.15,-901.15,-50.0,-292.46,1090.75,108.0,-5985.2,60.0,-5030.0,314.91,274.0,220.0,952.79,80.0,775.81,1096.47,82.0,178.96,4.0,104.97,186.0,-24.0,-901.15,-901.15,-85.0,1154.73,140.0,123.0,43.0,483.87,-1897.8,789.82,80.0,701.83,-72.2,74.0,962.5,279.0,691.86,-800.0,69.98,158.0,1134.73,-901.15,24.0,-76.99,-901.15,7000.0,-460.4,7000.0,-8433.34,490.88,32.0,-113.8,34.0,1010.78,901.79,130.0,92.0,-10.0,1032.48,382.91,14.0,69.98,28.0,84.0,112.0,1154.73,-901.15,-230.2,-901.15,549.86,10.0,-225.14,983.78,-56.67,818.0,1010.77,596.0,988.75,232.0,20.0,-1375.69,512.87,127.0,69.98,-100.78,-901.15,1224.71,78.0,-901.15,-13.11,-19.7,645.83,-230.2,67.0,1200.0,901.79,176.0,975.78,42.0,1023.73,176.0,18.0,343.91,-1390.0,133.97,182.0,-901.15,-901.15,1160.72,291.0,-18.0,438.89,315.0,-32.48,-8686.34,919.8,120.0,-316.25,18.0,-2759.17,1144.74,30.0,1058.73,542.87,14.0,133.97,-72.2,137.0,-901.15,1140.72,-484.0,-460.4,154.0,-901.15,610.85,32.0,144.0,907.78,-40.8,1049.76,369.0,-9.07,994.74,154.0,273.93,10.0,-5412.0,-250.0,98.98,129.0,-901.15,-901.15,1255.69,160.0,106.0,-106.88,654.85,64.0,-19.37,1053.76,54.0,-75.33,-185.0,950.78,42.0,959.74,202.0,452.89,8.0,94.0,-85.0,232.95,1105.73,-901.15,-901.15,-278.52,68.0,294.0,-460.4,-35.98,-31.1,575.85,936.78,152.0,711.82,156.0,994.74,152.0,592.87,8.0,168.96,-109.59,174.0,266.0,1280.0,1153.72,-901.15,-901.15,-45.25,536.87,8.0,1018.77,28.0,-8686.34,606.85,52.0,1029.72,92.0,487.89,168.96,-72.2,118.0,143.0,-460.4,1140.72,-695.0,-901.15,-1872.08,-901.15,754.82,58.0,-72.8,738.82,156.0,711.82,310.0,-54.9,-3.5,1128.71,116.0,417.9,14.0,168.96,82.0,152.0,1309.68,-901.15,40.0,-901.15,658.85,945.79,282.0,641.84,64.0,1054.72,48.0,417.9,-62.88,8.0,70.0,203.95,84.0,130.0,-901.15,104.0,1469.65,-337.24,-901.15,-1872.08,-1280.0,610.84,8.0,1026.77,154.0,66.0,50.0,1024.73,283.93,8.0,38.0,174.0,-690.6,1242.71,366.92,-901.15,711.82,-901.15,-43.92,-45.4,614.84,-116.88,212.0,-50.0,1280.0,1009.78,86.0,-9.5,763.32,36.0,1212.2,268.0,28.0,487.88,-4000.0,267.94,84.0,-175.04,-8686.34,1342.68,-901.15,-901.15,32.0,-26.8,820.8,1872.08,-230.2,12.0,81.0,-72.2,898.79,1171.25,64.0,-49.9,1107.22,70.0,423.89,9.0,120.0,337.92,-901.15,-901.15,24.0,89.0,619.84,1725.62,-230.2,875.81,154.0,862.3,149.0,1072.23,43.0,576.86,18.0,56.0,372.91,6428.31,6428.31,-308.15,-901.15,-901.15,1887.59,80.0,-230.2,28.0,-246.6,680.82,-199.0,828.81,-50.55,-300.0,66.0,-352.11,1002.27,104.0,138.0,141.0,1092.22,-65.0,-85.0,477.88,53.0,302.93,76.0,132.0,-230.2,1782.61,-750.0,-218.2,-250.0,-901.15,-901.15,-7877.0,619.85,26.0,-2.99,994.78,79.0,798.31,258.0,-85.7,1166.2,217.0,38.0,448.89,302.93,99.0,1782.61,-901.15,-901.15,-85.0,213.0,709.82,-270.04,38.0,1280.0,1003.76,100.0,932.28,339.0,1067.23,100.0,12.0,378.9,337.92,-72.2,175.0,-901.15,-901.15,1846.6,72.0,549.86,102.0,-36.7,-3074.0,895.8,-4400.0,-10200.0,44.0,-8686.34,1037.25,128.0,122.0,1272.18,-5400.0,547.87,10.0,302.93,44.0,1852.58,-901.15,-901.15,40.0,-18.2,179.0,-49.25,-590.82,645.83,297.0,933.78,-8.98,-100.0,1107.23,-59.76,253.0,1171.8,184.0,44.0,442.89,337.92,373.0,-288.77,1782.6,-901.15,-901.15,207.0,-920.8,52.0,-18.0,549.86,1280.0,930.79,157.0,-2641.95,1008.26,237.0,1447.16,115.0,4.0,68.0,477.88,127.0,267.94,-380.04,1543.64,-901.15,-901.15,498.0,645.83,97.0,968.77,-85.0,317.0,-13.75,973.27,-133.62,187.0,90.0,-343.05,1272.19,343.91,146.0,-8686.34,302.93,534.0,271.0,-72.2,-901.15,-42.5,1578.63,-901.15,-11.1,-290.0,-148.0,508.87,-460.4,57.0,1085.75,36.0,152.85,-36.0,-16.4,903.28,188.0,197.0,1032.24,407.9,4.0,302.93,290.0,-242.74,-901.15,-901.15,1786.6,-230.2,119.0,-200.0,575.85,169.0,948.77,26.0,903.29,46.0],\"y0\":\" \",\"yaxis\":\"y\",\"type\":\"box\"}],                        {\"template\":{\"data\":{\"histogram2dcontour\":[{\"type\":\"histogram2dcontour\",\"colorbar\":{\"outlinewidth\":0,\"ticks\":\"\"},\"colorscale\":[[0.0,\"#0d0887\"],[0.1111111111111111,\"#46039f\"],[0.2222222222222222,\"#7201a8\"],[0.3333333333333333,\"#9c179e\"],[0.4444444444444444,\"#bd3786\"],[0.5555555555555556,\"#d8576b\"],[0.6666666666666666,\"#ed7953\"],[0.7777777777777778,\"#fb9f3a\"],[0.8888888888888888,\"#fdca26\"],[1.0,\"#f0f921\"]]}],\"choropleth\":[{\"type\":\"choropleth\",\"colorbar\":{\"outlinewidth\":0,\"ticks\":\"\"}}],\"histogram2d\":[{\"type\":\"histogram2d\",\"colorbar\":{\"outlinewidth\":0,\"ticks\":\"\"},\"colorscale\":[[0.0,\"#0d0887\"],[0.1111111111111111,\"#46039f\"],[0.2222222222222222,\"#7201a8\"],[0.3333333333333333,\"#9c179e\"],[0.4444444444444444,\"#bd3786\"],[0.5555555555555556,\"#d8576b\"],[0.6666666666666666,\"#ed7953\"],[0.7777777777777778,\"#fb9f3a\"],[0.8888888888888888,\"#fdca26\"],[1.0,\"#f0f921\"]]}],\"heatmap\":[{\"type\":\"heatmap\",\"colorbar\":{\"outlinewidth\":0,\"ticks\":\"\"},\"colorscale\":[[0.0,\"#0d0887\"],[0.1111111111111111,\"#46039f\"],[0.2222222222222222,\"#7201a8\"],[0.3333333333333333,\"#9c179e\"],[0.4444444444444444,\"#bd3786\"],[0.5555555555555556,\"#d8576b\"],[0.6666666666666666,\"#ed7953\"],[0.7777777777777778,\"#fb9f3a\"],[0.8888888888888888,\"#fdca26\"],[1.0,\"#f0f921\"]]}],\"heatmapgl\":[{\"type\":\"heatmapgl\",\"colorbar\":{\"outlinewidth\":0,\"ticks\":\"\"},\"colorscale\":[[0.0,\"#0d0887\"],[0.1111111111111111,\"#46039f\"],[0.2222222222222222,\"#7201a8\"],[0.3333333333333333,\"#9c179e\"],[0.4444444444444444,\"#bd3786\"],[0.5555555555555556,\"#d8576b\"],[0.6666666666666666,\"#ed7953\"],[0.7777777777777778,\"#fb9f3a\"],[0.8888888888888888,\"#fdca26\"],[1.0,\"#f0f921\"]]}],\"contourcarpet\":[{\"type\":\"contourcarpet\",\"colorbar\":{\"outlinewidth\":0,\"ticks\":\"\"}}],\"contour\":[{\"type\":\"contour\",\"colorbar\":{\"outlinewidth\":0,\"ticks\":\"\"},\"colorscale\":[[0.0,\"#0d0887\"],[0.1111111111111111,\"#46039f\"],[0.2222222222222222,\"#7201a8\"],[0.3333333333333333,\"#9c179e\"],[0.4444444444444444,\"#bd3786\"],[0.5555555555555556,\"#d8576b\"],[0.6666666666666666,\"#ed7953\"],[0.7777777777777778,\"#fb9f3a\"],[0.8888888888888888,\"#fdca26\"],[1.0,\"#f0f921\"]]}],\"surface\":[{\"type\":\"surface\",\"colorbar\":{\"outlinewidth\":0,\"ticks\":\"\"},\"colorscale\":[[0.0,\"#0d0887\"],[0.1111111111111111,\"#46039f\"],[0.2222222222222222,\"#7201a8\"],[0.3333333333333333,\"#9c179e\"],[0.4444444444444444,\"#bd3786\"],[0.5555555555555556,\"#d8576b\"],[0.6666666666666666,\"#ed7953\"],[0.7777777777777778,\"#fb9f3a\"],[0.8888888888888888,\"#fdca26\"],[1.0,\"#f0f921\"]]}],\"mesh3d\":[{\"type\":\"mesh3d\",\"colorbar\":{\"outlinewidth\":0,\"ticks\":\"\"}}],\"scatter\":[{\"fillpattern\":{\"fillmode\":\"overlay\",\"size\":10,\"solidity\":0.2},\"type\":\"scatter\"}],\"parcoords\":[{\"type\":\"parcoords\",\"line\":{\"colorbar\":{\"outlinewidth\":0,\"ticks\":\"\"}}}],\"scatterpolargl\":[{\"type\":\"scatterpolargl\",\"marker\":{\"colorbar\":{\"outlinewidth\":0,\"ticks\":\"\"}}}],\"bar\":[{\"error_x\":{\"color\":\"#2a3f5f\"},\"error_y\":{\"color\":\"#2a3f5f\"},\"marker\":{\"line\":{\"color\":\"#E5ECF6\",\"width\":0.5},\"pattern\":{\"fillmode\":\"overlay\",\"size\":10,\"solidity\":0.2}},\"type\":\"bar\"}],\"scattergeo\":[{\"type\":\"scattergeo\",\"marker\":{\"colorbar\":{\"outlinewidth\":0,\"ticks\":\"\"}}}],\"scatterpolar\":[{\"type\":\"scatterpolar\",\"marker\":{\"colorbar\":{\"outlinewidth\":0,\"ticks\":\"\"}}}],\"histogram\":[{\"marker\":{\"pattern\":{\"fillmode\":\"overlay\",\"size\":10,\"solidity\":0.2}},\"type\":\"histogram\"}],\"scattergl\":[{\"type\":\"scattergl\",\"marker\":{\"colorbar\":{\"outlinewidth\":0,\"ticks\":\"\"}}}],\"scatter3d\":[{\"type\":\"scatter3d\",\"line\":{\"colorbar\":{\"outlinewidth\":0,\"ticks\":\"\"}},\"marker\":{\"colorbar\":{\"outlinewidth\":0,\"ticks\":\"\"}}}],\"scattermapbox\":[{\"type\":\"scattermapbox\",\"marker\":{\"colorbar\":{\"outlinewidth\":0,\"ticks\":\"\"}}}],\"scatterternary\":[{\"type\":\"scatterternary\",\"marker\":{\"colorbar\":{\"outlinewidth\":0,\"ticks\":\"\"}}}],\"scattercarpet\":[{\"type\":\"scattercarpet\",\"marker\":{\"colorbar\":{\"outlinewidth\":0,\"ticks\":\"\"}}}],\"carpet\":[{\"aaxis\":{\"endlinecolor\":\"#2a3f5f\",\"gridcolor\":\"white\",\"linecolor\":\"white\",\"minorgridcolor\":\"white\",\"startlinecolor\":\"#2a3f5f\"},\"baxis\":{\"endlinecolor\":\"#2a3f5f\",\"gridcolor\":\"white\",\"linecolor\":\"white\",\"minorgridcolor\":\"white\",\"startlinecolor\":\"#2a3f5f\"},\"type\":\"carpet\"}],\"table\":[{\"cells\":{\"fill\":{\"color\":\"#EBF0F8\"},\"line\":{\"color\":\"white\"}},\"header\":{\"fill\":{\"color\":\"#C8D4E3\"},\"line\":{\"color\":\"white\"}},\"type\":\"table\"}],\"barpolar\":[{\"marker\":{\"line\":{\"color\":\"#E5ECF6\",\"width\":0.5},\"pattern\":{\"fillmode\":\"overlay\",\"size\":10,\"solidity\":0.2}},\"type\":\"barpolar\"}],\"pie\":[{\"automargin\":true,\"type\":\"pie\"}]},\"layout\":{\"autotypenumbers\":\"strict\",\"colorway\":[\"#636efa\",\"#EF553B\",\"#00cc96\",\"#ab63fa\",\"#FFA15A\",\"#19d3f3\",\"#FF6692\",\"#B6E880\",\"#FF97FF\",\"#FECB52\"],\"font\":{\"color\":\"#2a3f5f\"},\"hovermode\":\"closest\",\"hoverlabel\":{\"align\":\"left\"},\"paper_bgcolor\":\"white\",\"plot_bgcolor\":\"#E5ECF6\",\"polar\":{\"bgcolor\":\"#E5ECF6\",\"angularaxis\":{\"gridcolor\":\"white\",\"linecolor\":\"white\",\"ticks\":\"\"},\"radialaxis\":{\"gridcolor\":\"white\",\"linecolor\":\"white\",\"ticks\":\"\"}},\"ternary\":{\"bgcolor\":\"#E5ECF6\",\"aaxis\":{\"gridcolor\":\"white\",\"linecolor\":\"white\",\"ticks\":\"\"},\"baxis\":{\"gridcolor\":\"white\",\"linecolor\":\"white\",\"ticks\":\"\"},\"caxis\":{\"gridcolor\":\"white\",\"linecolor\":\"white\",\"ticks\":\"\"}},\"coloraxis\":{\"colorbar\":{\"outlinewidth\":0,\"ticks\":\"\"}},\"colorscale\":{\"sequential\":[[0.0,\"#0d0887\"],[0.1111111111111111,\"#46039f\"],[0.2222222222222222,\"#7201a8\"],[0.3333333333333333,\"#9c179e\"],[0.4444444444444444,\"#bd3786\"],[0.5555555555555556,\"#d8576b\"],[0.6666666666666666,\"#ed7953\"],[0.7777777777777778,\"#fb9f3a\"],[0.8888888888888888,\"#fdca26\"],[1.0,\"#f0f921\"]],\"sequentialminus\":[[0.0,\"#0d0887\"],[0.1111111111111111,\"#46039f\"],[0.2222222222222222,\"#7201a8\"],[0.3333333333333333,\"#9c179e\"],[0.4444444444444444,\"#bd3786\"],[0.5555555555555556,\"#d8576b\"],[0.6666666666666666,\"#ed7953\"],[0.7777777777777778,\"#fb9f3a\"],[0.8888888888888888,\"#fdca26\"],[1.0,\"#f0f921\"]],\"diverging\":[[0,\"#8e0152\"],[0.1,\"#c51b7d\"],[0.2,\"#de77ae\"],[0.3,\"#f1b6da\"],[0.4,\"#fde0ef\"],[0.5,\"#f7f7f7\"],[0.6,\"#e6f5d0\"],[0.7,\"#b8e186\"],[0.8,\"#7fbc41\"],[0.9,\"#4d9221\"],[1,\"#276419\"]]},\"xaxis\":{\"gridcolor\":\"white\",\"linecolor\":\"white\",\"ticks\":\"\",\"title\":{\"standoff\":15},\"zerolinecolor\":\"white\",\"automargin\":true,\"zerolinewidth\":2},\"yaxis\":{\"gridcolor\":\"white\",\"linecolor\":\"white\",\"ticks\":\"\",\"title\":{\"standoff\":15},\"zerolinecolor\":\"white\",\"automargin\":true,\"zerolinewidth\":2},\"scene\":{\"xaxis\":{\"backgroundcolor\":\"#E5ECF6\",\"gridcolor\":\"white\",\"linecolor\":\"white\",\"showbackground\":true,\"ticks\":\"\",\"zerolinecolor\":\"white\",\"gridwidth\":2},\"yaxis\":{\"backgroundcolor\":\"#E5ECF6\",\"gridcolor\":\"white\",\"linecolor\":\"white\",\"showbackground\":true,\"ticks\":\"\",\"zerolinecolor\":\"white\",\"gridwidth\":2},\"zaxis\":{\"backgroundcolor\":\"#E5ECF6\",\"gridcolor\":\"white\",\"linecolor\":\"white\",\"showbackground\":true,\"ticks\":\"\",\"zerolinecolor\":\"white\",\"gridwidth\":2}},\"shapedefaults\":{\"line\":{\"color\":\"#2a3f5f\"}},\"annotationdefaults\":{\"arrowcolor\":\"#2a3f5f\",\"arrowhead\":0,\"arrowwidth\":1},\"geo\":{\"bgcolor\":\"white\",\"landcolor\":\"#E5ECF6\",\"subunitcolor\":\"white\",\"showland\":true,\"showlakes\":true,\"lakecolor\":\"white\"},\"title\":{\"x\":0.05},\"mapbox\":{\"style\":\"light\"}}},\"xaxis\":{\"anchor\":\"y\",\"domain\":[0.0,1.0]},\"yaxis\":{\"anchor\":\"x\",\"domain\":[0.0,1.0],\"title\":{\"text\":\"Transaction Value\"}},\"legend\":{\"tracegroupgap\":0},\"margin\":{\"t\":60},\"boxmode\":\"group\",\"title\":{\"text\":\"Box Plot of Transaction Values with Hover Text\"}},                        {\"responsive\": true}                    ).then(function(){\n",
       "                            \n",
       "var gd = document.getElementById('2dae5d0a-ffaf-4692-be81-73aef198721c');\n",
       "var x = new MutationObserver(function (mutations, observer) {{\n",
       "        var display = window.getComputedStyle(gd).display;\n",
       "        if (!display || display === 'none') {{\n",
       "            console.log([gd, 'removed!']);\n",
       "            Plotly.purge(gd);\n",
       "            observer.disconnect();\n",
       "        }}\n",
       "}});\n",
       "\n",
       "// Listen for the removal of the full notebook cells\n",
       "var notebookContainer = gd.closest('#notebook-container');\n",
       "if (notebookContainer) {{\n",
       "    x.observe(notebookContainer, {childList: true});\n",
       "}}\n",
       "\n",
       "// Listen for the clearing of the current output cell\n",
       "var outputEl = gd.closest('.output');\n",
       "if (outputEl) {{\n",
       "    x.observe(outputEl, {childList: true});\n",
       "}}\n",
       "\n",
       "                        })                };                });            </script>        </div>"
      ]
     },
     "metadata": {},
     "output_type": "display_data"
    }
   ],
   "execution_count": 653
  },
  {
   "metadata": {
    "ExecuteTime": {
     "end_time": "2024-06-05T05:17:50.146102Z",
     "start_time": "2024-06-05T05:17:50.141596Z"
    }
   },
   "cell_type": "code",
   "source": [
    "# Identify \"Square\" transactions and create a new column\n",
    "brisbane_df['Narration Group'] = brisbane_df['Narration'].apply(lambda x: 'Square' if 'square' in x.lower() else x)"
   ],
   "id": "f520d7e7bb6f54ec",
   "outputs": [],
   "execution_count": 654
  },
  {
   "metadata": {
    "ExecuteTime": {
     "end_time": "2024-06-05T05:17:50.153779Z",
     "start_time": "2024-06-05T05:17:50.148243Z"
    }
   },
   "cell_type": "code",
   "source": [
    "# Categorize transactions into Credit and Debit based on account balance changes\n",
    "brisbane_df = brisbane_df.sort_values(by='Date').reset_index(drop=True)\n",
    "brisbane_df['Balance Change'] = brisbane_df['Account Balance'].diff()\n",
    "brisbane_df['Category'] = brisbane_df['Balance Change'].apply(lambda x: 'Credit' if x > 0 else 'Debit')"
   ],
   "id": "a9e8058da4d379d5",
   "outputs": [],
   "execution_count": 655
  },
  {
   "metadata": {
    "ExecuteTime": {
     "end_time": "2024-06-05T05:17:50.159925Z",
     "start_time": "2024-06-05T05:17:50.155558Z"
    }
   },
   "cell_type": "code",
   "source": [
    "# filter out negative values and select only expenses\n",
    "expense_df = brisbane_df[brisbane_df['Category'] == 'Debit']\n",
    "positive_expense_df = expense_df[expense_df['Transaction Value'] > 0]"
   ],
   "id": "c7038664a81d3ad2",
   "outputs": [],
   "execution_count": 656
  },
  {
   "metadata": {
    "ExecuteTime": {
     "end_time": "2024-06-05T05:17:50.165319Z",
     "start_time": "2024-06-05T05:17:50.161340Z"
    }
   },
   "cell_type": "code",
   "source": [
    "# group by 'Narration Group' and sum the 'Transaction Value'\n",
    "positive_expense_breakdown = positive_expense_df.groupby('Narration Group')['Transaction Value'].sum()"
   ],
   "id": "2c9bd2cad4463bb7",
   "outputs": [],
   "execution_count": 657
  },
  {
   "metadata": {
    "ExecuteTime": {
     "end_time": "2024-06-05T05:17:50.199978Z",
     "start_time": "2024-06-05T05:17:50.194394Z"
    }
   },
   "cell_type": "code",
   "source": [
    "# Get the top 10 expense categories and group the rest into 'Other'\n",
    "top_expense_breakdown = positive_expense_breakdown.nlargest(10)\n",
    "other_expenses = positive_expense_breakdown.sum() - top_expense_breakdown.sum()\n",
    "top_expense_breakdown['Other'] = other_expenses"
   ],
   "id": "ac8ddb5ba312ea51",
   "outputs": [],
   "execution_count": 658
  },
  {
   "metadata": {
    "ExecuteTime": {
     "end_time": "2024-06-05T05:17:50.475755Z",
     "start_time": "2024-06-05T05:17:50.237863Z"
    }
   },
   "cell_type": "code",
   "source": [
    "# Plot expense breakdown\n",
    "top_expense_breakdown.plot(kind='pie', autopct='%1.1f%%', figsize=(8, 8))\n",
    "plt.title('Top 10 Expense Breakdown')\n",
    "plt.ylabel('')\n",
    "plt.show()"
   ],
   "id": "11f075cc4a0fdb97",
   "outputs": [
    {
     "data": {
      "text/plain": [
       "<Figure size 800x800 with 1 Axes>"
      ],
      "image/png": "[encoded data removed]"
     },
     "metadata": {},
     "output_type": "display_data"
    }
   ],
   "execution_count": 659
  },
  {
   "metadata": {
    "ExecuteTime": {
     "end_time": "2024-06-05T05:17:50.560672Z",
     "start_time": "2024-06-05T05:17:50.556862Z"
    }
   },
   "cell_type": "code",
   "source": "",
   "id": "b86eb95b560a210c",
   "outputs": [],
   "execution_count": 659
  },
  {
   "metadata": {
    "ExecuteTime": {
     "end_time": "2024-06-05T05:17:50.662694Z",
     "start_time": "2024-06-05T05:17:50.659853Z"
    }
   },
   "cell_type": "code",
   "source": "",
   "id": "68d31faf7d6ed766",
   "outputs": [],
   "execution_count": 659
  },
  {
   "metadata": {},
   "cell_type": "markdown",
   "source": "# Southside",
   "id": "9b503935bb3d25b8"
  },
  {
   "metadata": {
    "ExecuteTime": {
     "end_time": "2024-06-05T05:17:50.820194Z",
     "start_time": "2024-06-05T05:17:50.805136Z"
    }
   },
   "cell_type": "code",
   "source": [
    "southside_df = pd.read_csv(\n",
    "    'data/bank_statements/Southside.csv',\n",
    "    names=['Date', 'Transaction Value', 'Narration', 'Account Balance']\n",
    ")\n",
    "southside_df.head()"
   ],
   "id": "dc76ce0095621322",
   "outputs": [
    {
     "data": {
      "text/plain": [
       "         Date  Transaction Value  \\\n",
       "0  30/06/2023              12.00   \n",
       "1  30/06/2023              80.00   \n",
       "2  30/06/2023            1187.95   \n",
       "3  30/06/2023             121.81   \n",
       "4  29/06/2023             154.00   \n",
       "\n",
       "                                          Narration  Account Balance  \n",
       "0                               POS 36925500 30 JUN         17412.96  \n",
       "1       Fast Transfer From Mr Jianxuan Dong Raymond         17400.96  \n",
       "2             Direct Credit 485450 SQUARE AU PTY LT         17320.96  \n",
       "3  Direct Credit 070354 ZEROW SB MERCHANT SETTLEMNT         16133.01  \n",
       "4                               POS 36925500 29 JUN         16011.20  "
      ],
      "text/html": [
       "<div>\n",
       "<style scoped>\n",
       "    .dataframe tbody tr th:only-of-type {\n",
       "        vertical-align: middle;\n",
       "    }\n",
       "\n",
       "    .dataframe tbody tr th {\n",
       "        vertical-align: top;\n",
       "    }\n",
       "\n",
       "    .dataframe thead th {\n",
       "        text-align: right;\n",
       "    }\n",
       "</style>\n",
       "<table border=\"1\" class=\"dataframe\">\n",
       "  <thead>\n",
       "    <tr style=\"text-align: right;\">\n",
       "      <th></th>\n",
       "      <th>Date</th>\n",
       "      <th>Transaction Value</th>\n",
       "      <th>Narration</th>\n",
       "      <th>Account Balance</th>\n",
       "    </tr>\n",
       "  </thead>\n",
       "  <tbody>\n",
       "    <tr>\n",
       "      <th>0</th>\n",
       "      <td>30/06/2023</td>\n",
       "      <td>12.00</td>\n",
       "      <td>POS 36925500 30 JUN</td>\n",
       "      <td>17412.96</td>\n",
       "    </tr>\n",
       "    <tr>\n",
       "      <th>1</th>\n",
       "      <td>30/06/2023</td>\n",
       "      <td>80.00</td>\n",
       "      <td>Fast Transfer From Mr Jianxuan Dong Raymond</td>\n",
       "      <td>17400.96</td>\n",
       "    </tr>\n",
       "    <tr>\n",
       "      <th>2</th>\n",
       "      <td>30/06/2023</td>\n",
       "      <td>1187.95</td>\n",
       "      <td>Direct Credit 485450 SQUARE AU PTY LT</td>\n",
       "      <td>17320.96</td>\n",
       "    </tr>\n",
       "    <tr>\n",
       "      <th>3</th>\n",
       "      <td>30/06/2023</td>\n",
       "      <td>121.81</td>\n",
       "      <td>Direct Credit 070354 ZEROW SB MERCHANT SETTLEMNT</td>\n",
       "      <td>16133.01</td>\n",
       "    </tr>\n",
       "    <tr>\n",
       "      <th>4</th>\n",
       "      <td>29/06/2023</td>\n",
       "      <td>154.00</td>\n",
       "      <td>POS 36925500 29 JUN</td>\n",
       "      <td>16011.20</td>\n",
       "    </tr>\n",
       "  </tbody>\n",
       "</table>\n",
       "</div>"
      ]
     },
     "execution_count": 660,
     "metadata": {},
     "output_type": "execute_result"
    }
   ],
   "execution_count": 660
  },
  {
   "metadata": {
    "ExecuteTime": {
     "end_time": "2024-06-05T05:17:50.913186Z",
     "start_time": "2024-06-05T05:17:50.902772Z"
    }
   },
   "cell_type": "code",
   "source": [
    "southside_df['Date'] = pd.to_datetime(\n",
    "    southside_df['Date'], \n",
    "    dayfirst=True, \n",
    "    errors='coerce'\n",
    ")\n",
    "southside_df.dtypes"
   ],
   "id": "cd811f5499d0e33c",
   "outputs": [
    {
     "data": {
      "text/plain": [
       "Date                 datetime64[ns]\n",
       "Transaction Value           float64\n",
       "Narration                    object\n",
       "Account Balance             float64\n",
       "dtype: object"
      ]
     },
     "execution_count": 661,
     "metadata": {},
     "output_type": "execute_result"
    }
   ],
   "execution_count": 661
  },
  {
   "metadata": {
    "ExecuteTime": {
     "end_time": "2024-06-05T05:17:51.004413Z",
     "start_time": "2024-06-05T05:17:50.981338Z"
    }
   },
   "cell_type": "code",
   "source": "southside_df.describe()",
   "id": "bc2b5cedae16f788",
   "outputs": [
    {
     "data": {
      "text/plain": [
       "                      Date  Transaction Value  Account Balance\n",
       "count                  600         600.000000       600.000000\n",
       "mean   2023-04-22 06:00:00         -46.835550     32184.871150\n",
       "min    2023-02-13 00:00:00      -14000.000000     14047.660000\n",
       "25%    2023-03-20 00:00:00           8.750000     26450.277500\n",
       "50%    2023-04-23 12:00:00          83.500000     32447.580000\n",
       "75%    2023-05-26 00:00:00         237.690000     37044.662500\n",
       "max    2023-06-30 00:00:00       12800.000000     46927.410000\n",
       "std                    NaN        1580.204383      6821.487353"
      ],
      "text/html": [
       "<div>\n",
       "<style scoped>\n",
       "    .dataframe tbody tr th:only-of-type {\n",
       "        vertical-align: middle;\n",
       "    }\n",
       "\n",
       "    .dataframe tbody tr th {\n",
       "        vertical-align: top;\n",
       "    }\n",
       "\n",
       "    .dataframe thead th {\n",
       "        text-align: right;\n",
       "    }\n",
       "</style>\n",
       "<table border=\"1\" class=\"dataframe\">\n",
       "  <thead>\n",
       "    <tr style=\"text-align: right;\">\n",
       "      <th></th>\n",
       "      <th>Date</th>\n",
       "      <th>Transaction Value</th>\n",
       "      <th>Account Balance</th>\n",
       "    </tr>\n",
       "  </thead>\n",
       "  <tbody>\n",
       "    <tr>\n",
       "      <th>count</th>\n",
       "      <td>600</td>\n",
       "      <td>600.000000</td>\n",
       "      <td>600.000000</td>\n",
       "    </tr>\n",
       "    <tr>\n",
       "      <th>mean</th>\n",
       "      <td>2023-04-22 06:00:00</td>\n",
       "      <td>-46.835550</td>\n",
       "      <td>32184.871150</td>\n",
       "    </tr>\n",
       "    <tr>\n",
       "      <th>min</th>\n",
       "      <td>2023-02-13 00:00:00</td>\n",
       "      <td>-14000.000000</td>\n",
       "      <td>14047.660000</td>\n",
       "    </tr>\n",
       "    <tr>\n",
       "      <th>25%</th>\n",
       "      <td>2023-03-20 00:00:00</td>\n",
       "      <td>8.750000</td>\n",
       "      <td>26450.277500</td>\n",
       "    </tr>\n",
       "    <tr>\n",
       "      <th>50%</th>\n",
       "      <td>2023-04-23 12:00:00</td>\n",
       "      <td>83.500000</td>\n",
       "      <td>32447.580000</td>\n",
       "    </tr>\n",
       "    <tr>\n",
       "      <th>75%</th>\n",
       "      <td>2023-05-26 00:00:00</td>\n",
       "      <td>237.690000</td>\n",
       "      <td>37044.662500</td>\n",
       "    </tr>\n",
       "    <tr>\n",
       "      <th>max</th>\n",
       "      <td>2023-06-30 00:00:00</td>\n",
       "      <td>12800.000000</td>\n",
       "      <td>46927.410000</td>\n",
       "    </tr>\n",
       "    <tr>\n",
       "      <th>std</th>\n",
       "      <td>NaN</td>\n",
       "      <td>1580.204383</td>\n",
       "      <td>6821.487353</td>\n",
       "    </tr>\n",
       "  </tbody>\n",
       "</table>\n",
       "</div>"
      ]
     },
     "execution_count": 662,
     "metadata": {},
     "output_type": "execute_result"
    }
   ],
   "execution_count": 662
  },
  {
   "metadata": {
    "ExecuteTime": {
     "end_time": "2024-06-05T05:17:51.124315Z",
     "start_time": "2024-06-05T05:17:51.115409Z"
    }
   },
   "cell_type": "code",
   "source": "southside_df.info()",
   "id": "47d716c9ed99f28d",
   "outputs": [
    {
     "name": "stdout",
     "output_type": "stream",
     "text": [
      "<class 'pandas.core.frame.DataFrame'>\n",
      "RangeIndex: 600 entries, 0 to 599\n",
      "Data columns (total 4 columns):\n",
      " #   Column             Non-Null Count  Dtype         \n",
      "---  ------             --------------  -----         \n",
      " 0   Date               600 non-null    datetime64[ns]\n",
      " 1   Transaction Value  600 non-null    float64       \n",
      " 2   Narration          600 non-null    object        \n",
      " 3   Account Balance    600 non-null    float64       \n",
      "dtypes: datetime64[ns](1), float64(2), object(1)\n",
      "memory usage: 18.9+ KB\n"
     ]
    }
   ],
   "execution_count": 663
  },
  {
   "metadata": {
    "ExecuteTime": {
     "end_time": "2024-06-05T05:17:51.214082Z",
     "start_time": "2024-06-05T05:17:51.208472Z"
    }
   },
   "cell_type": "code",
   "source": "southside_df.isnull().sum()",
   "id": "471170c05157fbee",
   "outputs": [
    {
     "data": {
      "text/plain": [
       "Date                 0\n",
       "Transaction Value    0\n",
       "Narration            0\n",
       "Account Balance      0\n",
       "dtype: int64"
      ]
     },
     "execution_count": 664,
     "metadata": {},
     "output_type": "execute_result"
    }
   ],
   "execution_count": 664
  },
  {
   "metadata": {
    "ExecuteTime": {
     "end_time": "2024-06-05T05:17:51.581884Z",
     "start_time": "2024-06-05T05:17:51.329753Z"
    }
   },
   "cell_type": "code",
   "source": [
    "plt.figure(figsize=(10, 5))\n",
    "plt.plot(southside_df['Date'], southside_df['Account Balance'], marker='o', linestyle='-')\n",
    "plt.title('Southside Account Balance')\n",
    "plt.xlabel('Date')\n",
    "plt.ylabel('Account Balance')\n",
    "plt.grid(True)\n",
    "plt.show()"
   ],
   "id": "5ec661965bfaba0a",
   "outputs": [
    {
     "data": {
      "text/plain": [
       "<Figure size 1000x500 with 1 Axes>"
      ],
      "image/png": "[encoded data removed]"
     },
     "metadata": {},
     "output_type": "display_data"
    }
   ],
   "execution_count": 665
  },
  {
   "metadata": {},
   "cell_type": "markdown",
   "source": "# Cairns",
   "id": "3ce325d50cf44c06"
  },
  {
   "metadata": {
    "ExecuteTime": {
     "end_time": "2024-06-05T05:17:51.603026Z",
     "start_time": "2024-06-05T05:17:51.585510Z"
    }
   },
   "cell_type": "code",
   "source": [
    "cairns_df = pd.read_csv(\n",
    "    'data/bank_statements/Cairns.csv',\n",
    "    names=['Date', 'Transaction Value', 'Narration', 'Account Balance']\n",
    ")\n",
    "cairns_df.head()"
   ],
   "id": "f3703af2f32d1f9d",
   "outputs": [
    {
     "data": {
      "text/plain": [
       "         Date  Transaction Value  \\\n",
       "0  30/06/2023             199.00   \n",
       "1  30/06/2023            -441.50   \n",
       "2  30/06/2023             625.12   \n",
       "3  30/06/2023             250.00   \n",
       "4  30/06/2023             235.00   \n",
       "\n",
       "                                           Narration  Account Balance  \n",
       "0                                POS 35362000 30 JUN         28457.73  \n",
       "1          NU NU RESTAURANT PALM COVE AU Card xx3475         28258.73  \n",
       "2              Direct Credit 485450 SQUARE AU PTY LT         28700.23  \n",
       "3     Direct Credit 148013 W M JACOB Will Jacob rent         28075.11  \n",
       "4  Fast Transfer From BCH Strength CREDIT TO ACCO...         27825.11  "
      ],
      "text/html": [
       "<div>\n",
       "<style scoped>\n",
       "    .dataframe tbody tr th:only-of-type {\n",
       "        vertical-align: middle;\n",
       "    }\n",
       "\n",
       "    .dataframe tbody tr th {\n",
       "        vertical-align: top;\n",
       "    }\n",
       "\n",
       "    .dataframe thead th {\n",
       "        text-align: right;\n",
       "    }\n",
       "</style>\n",
       "<table border=\"1\" class=\"dataframe\">\n",
       "  <thead>\n",
       "    <tr style=\"text-align: right;\">\n",
       "      <th></th>\n",
       "      <th>Date</th>\n",
       "      <th>Transaction Value</th>\n",
       "      <th>Narration</th>\n",
       "      <th>Account Balance</th>\n",
       "    </tr>\n",
       "  </thead>\n",
       "  <tbody>\n",
       "    <tr>\n",
       "      <th>0</th>\n",
       "      <td>30/06/2023</td>\n",
       "      <td>199.00</td>\n",
       "      <td>POS 35362000 30 JUN</td>\n",
       "      <td>28457.73</td>\n",
       "    </tr>\n",
       "    <tr>\n",
       "      <th>1</th>\n",
       "      <td>30/06/2023</td>\n",
       "      <td>-441.50</td>\n",
       "      <td>NU NU RESTAURANT PALM COVE AU Card xx3475</td>\n",
       "      <td>28258.73</td>\n",
       "    </tr>\n",
       "    <tr>\n",
       "      <th>2</th>\n",
       "      <td>30/06/2023</td>\n",
       "      <td>625.12</td>\n",
       "      <td>Direct Credit 485450 SQUARE AU PTY LT</td>\n",
       "      <td>28700.23</td>\n",
       "    </tr>\n",
       "    <tr>\n",
       "      <th>3</th>\n",
       "      <td>30/06/2023</td>\n",
       "      <td>250.00</td>\n",
       "      <td>Direct Credit 148013 W M JACOB Will Jacob rent</td>\n",
       "      <td>28075.11</td>\n",
       "    </tr>\n",
       "    <tr>\n",
       "      <th>4</th>\n",
       "      <td>30/06/2023</td>\n",
       "      <td>235.00</td>\n",
       "      <td>Fast Transfer From BCH Strength CREDIT TO ACCO...</td>\n",
       "      <td>27825.11</td>\n",
       "    </tr>\n",
       "  </tbody>\n",
       "</table>\n",
       "</div>"
      ]
     },
     "execution_count": 666,
     "metadata": {},
     "output_type": "execute_result"
    }
   ],
   "execution_count": 666
  },
  {
   "metadata": {
    "ExecuteTime": {
     "end_time": "2024-06-05T05:17:51.616044Z",
     "start_time": "2024-06-05T05:17:51.605265Z"
    }
   },
   "cell_type": "code",
   "source": [
    "cairns_df['Date'] = pd.to_datetime(\n",
    "    cairns_df['Date'], \n",
    "    dayfirst=True, \n",
    "    errors='coerce'\n",
    ")\n",
    "cairns_df.dtypes"
   ],
   "id": "26f849dd8ebac1cd",
   "outputs": [
    {
     "data": {
      "text/plain": [
       "Date                 datetime64[ns]\n",
       "Transaction Value           float64\n",
       "Narration                    object\n",
       "Account Balance             float64\n",
       "dtype: object"
      ]
     },
     "execution_count": 667,
     "metadata": {},
     "output_type": "execute_result"
    }
   ],
   "execution_count": 667
  },
  {
   "metadata": {
    "ExecuteTime": {
     "end_time": "2024-06-05T05:17:51.710140Z",
     "start_time": "2024-06-05T05:17:51.699125Z"
    }
   },
   "cell_type": "code",
   "source": "cairns_df.info()",
   "id": "8caf3859a769947a",
   "outputs": [
    {
     "name": "stdout",
     "output_type": "stream",
     "text": [
      "<class 'pandas.core.frame.DataFrame'>\n",
      "RangeIndex: 600 entries, 0 to 599\n",
      "Data columns (total 4 columns):\n",
      " #   Column             Non-Null Count  Dtype         \n",
      "---  ------             --------------  -----         \n",
      " 0   Date               600 non-null    datetime64[ns]\n",
      " 1   Transaction Value  600 non-null    float64       \n",
      " 2   Narration          600 non-null    object        \n",
      " 3   Account Balance    600 non-null    float64       \n",
      "dtypes: datetime64[ns](1), float64(2), object(1)\n",
      "memory usage: 18.9+ KB\n"
     ]
    }
   ],
   "execution_count": 668
  },
  {
   "metadata": {
    "ExecuteTime": {
     "end_time": "2024-06-05T05:17:51.839094Z",
     "start_time": "2024-06-05T05:17:51.814636Z"
    }
   },
   "cell_type": "code",
   "source": "cairns_df.describe()",
   "id": "caf9341a7597f9de",
   "outputs": [
    {
     "data": {
      "text/plain": [
       "                      Date  Transaction Value  Account Balance\n",
       "count                  600         600.000000       600.000000\n",
       "mean   2023-04-10 12:28:48          43.811083      9948.890167\n",
       "min    2023-01-18 00:00:00       -5038.510000       315.940000\n",
       "25%    2023-02-25 18:00:00        -108.917500      3752.185000\n",
       "50%    2023-04-11 00:00:00          45.000000      7390.345000\n",
       "75%    2023-05-25 00:00:00         201.250000     15511.540000\n",
       "max    2023-06-30 00:00:00        5888.000000     28700.230000\n",
       "std                    NaN        1070.258521      7332.540564"
      ],
      "text/html": [
       "<div>\n",
       "<style scoped>\n",
       "    .dataframe tbody tr th:only-of-type {\n",
       "        vertical-align: middle;\n",
       "    }\n",
       "\n",
       "    .dataframe tbody tr th {\n",
       "        vertical-align: top;\n",
       "    }\n",
       "\n",
       "    .dataframe thead th {\n",
       "        text-align: right;\n",
       "    }\n",
       "</style>\n",
       "<table border=\"1\" class=\"dataframe\">\n",
       "  <thead>\n",
       "    <tr style=\"text-align: right;\">\n",
       "      <th></th>\n",
       "      <th>Date</th>\n",
       "      <th>Transaction Value</th>\n",
       "      <th>Account Balance</th>\n",
       "    </tr>\n",
       "  </thead>\n",
       "  <tbody>\n",
       "    <tr>\n",
       "      <th>count</th>\n",
       "      <td>600</td>\n",
       "      <td>600.000000</td>\n",
       "      <td>600.000000</td>\n",
       "    </tr>\n",
       "    <tr>\n",
       "      <th>mean</th>\n",
       "      <td>2023-04-10 12:28:48</td>\n",
       "      <td>43.811083</td>\n",
       "      <td>9948.890167</td>\n",
       "    </tr>\n",
       "    <tr>\n",
       "      <th>min</th>\n",
       "      <td>2023-01-18 00:00:00</td>\n",
       "      <td>-5038.510000</td>\n",
       "      <td>315.940000</td>\n",
       "    </tr>\n",
       "    <tr>\n",
       "      <th>25%</th>\n",
       "      <td>2023-02-25 18:00:00</td>\n",
       "      <td>-108.917500</td>\n",
       "      <td>3752.185000</td>\n",
       "    </tr>\n",
       "    <tr>\n",
       "      <th>50%</th>\n",
       "      <td>2023-04-11 00:00:00</td>\n",
       "      <td>45.000000</td>\n",
       "      <td>7390.345000</td>\n",
       "    </tr>\n",
       "    <tr>\n",
       "      <th>75%</th>\n",
       "      <td>2023-05-25 00:00:00</td>\n",
       "      <td>201.250000</td>\n",
       "      <td>15511.540000</td>\n",
       "    </tr>\n",
       "    <tr>\n",
       "      <th>max</th>\n",
       "      <td>2023-06-30 00:00:00</td>\n",
       "      <td>5888.000000</td>\n",
       "      <td>28700.230000</td>\n",
       "    </tr>\n",
       "    <tr>\n",
       "      <th>std</th>\n",
       "      <td>NaN</td>\n",
       "      <td>1070.258521</td>\n",
       "      <td>7332.540564</td>\n",
       "    </tr>\n",
       "  </tbody>\n",
       "</table>\n",
       "</div>"
      ]
     },
     "execution_count": 669,
     "metadata": {},
     "output_type": "execute_result"
    }
   ],
   "execution_count": 669
  },
  {
   "metadata": {
    "ExecuteTime": {
     "end_time": "2024-06-05T05:17:52.039914Z",
     "start_time": "2024-06-05T05:17:52.031976Z"
    }
   },
   "cell_type": "code",
   "source": "cairns_df.isnull().sum()",
   "id": "5b1b94e552d1dbef",
   "outputs": [
    {
     "data": {
      "text/plain": [
       "Date                 0\n",
       "Transaction Value    0\n",
       "Narration            0\n",
       "Account Balance      0\n",
       "dtype: int64"
      ]
     },
     "execution_count": 670,
     "metadata": {},
     "output_type": "execute_result"
    }
   ],
   "execution_count": 670
  },
  {
   "metadata": {
    "ExecuteTime": {
     "end_time": "2024-06-05T05:17:52.394319Z",
     "start_time": "2024-06-05T05:17:52.145758Z"
    }
   },
   "cell_type": "code",
   "source": [
    "plt.figure(figsize=(10, 5))\n",
    "plt.plot(cairns_df['Date'], cairns_df['Account Balance'], marker='o', linestyle='-')\n",
    "plt.title('Cairns Account Balance')\n",
    "plt.xlabel('Date')\n",
    "plt.ylabel('Account Balance')\n",
    "plt.grid(True)\n",
    "plt.show()"
   ],
   "id": "a9a6685fdc388d2b",
   "outputs": [
    {
     "data": {
      "text/plain": [
       "<Figure size 1000x500 with 1 Axes>"
      ],
      "image/png": "[encoded data removed]"
     },
     "metadata": {},
     "output_type": "display_data"
    }
   ],
   "execution_count": 671
  },
  {
   "metadata": {},
   "cell_type": "markdown",
   "source": "# Mackay",
   "id": "60bcc8b715463fa9"
  },
  {
   "metadata": {
    "ExecuteTime": {
     "end_time": "2024-06-05T05:17:52.416296Z",
     "start_time": "2024-06-05T05:17:52.397617Z"
    }
   },
   "cell_type": "code",
   "source": [
    "mackay_df = pd.read_csv(\n",
    "    'data/bank_statements/Mackay.csv',\n",
    "    names=['Date', 'Transaction Value', 'Narration', 'Account Balance']\n",
    ")\n",
    "mackay_df.head()"
   ],
   "id": "4e7cb51220b4f3a3",
   "outputs": [
    {
     "data": {
      "text/plain": [
       "         Date  Transaction Value  \\\n",
       "0  30/06/2023             195.00   \n",
       "1  30/06/2023            -488.00   \n",
       "2  30/06/2023           -1113.46   \n",
       "3  30/06/2023            -620.40   \n",
       "4  30/06/2023            -135.53   \n",
       "\n",
       "                                           Narration  Account Balance  \n",
       "0                                POS 17509700 30 JUN         26936.25  \n",
       "1  Transfer To Wiktoria Alexandersson CommBank Ap...         26741.25  \n",
       "2   Transfer To Rebecca Moore CommBank App ZeroW Pay         27229.25  \n",
       "3  Transfer To Illguth Family CommBank App ZeroW Pay         28342.71  \n",
       "4  Transfer To Crafty Properties NetBank ZeroW Ma...         28963.11  "
      ],
      "text/html": [
       "<div>\n",
       "<style scoped>\n",
       "    .dataframe tbody tr th:only-of-type {\n",
       "        vertical-align: middle;\n",
       "    }\n",
       "\n",
       "    .dataframe tbody tr th {\n",
       "        vertical-align: top;\n",
       "    }\n",
       "\n",
       "    .dataframe thead th {\n",
       "        text-align: right;\n",
       "    }\n",
       "</style>\n",
       "<table border=\"1\" class=\"dataframe\">\n",
       "  <thead>\n",
       "    <tr style=\"text-align: right;\">\n",
       "      <th></th>\n",
       "      <th>Date</th>\n",
       "      <th>Transaction Value</th>\n",
       "      <th>Narration</th>\n",
       "      <th>Account Balance</th>\n",
       "    </tr>\n",
       "  </thead>\n",
       "  <tbody>\n",
       "    <tr>\n",
       "      <th>0</th>\n",
       "      <td>30/06/2023</td>\n",
       "      <td>195.00</td>\n",
       "      <td>POS 17509700 30 JUN</td>\n",
       "      <td>26936.25</td>\n",
       "    </tr>\n",
       "    <tr>\n",
       "      <th>1</th>\n",
       "      <td>30/06/2023</td>\n",
       "      <td>-488.00</td>\n",
       "      <td>Transfer To Wiktoria Alexandersson CommBank Ap...</td>\n",
       "      <td>26741.25</td>\n",
       "    </tr>\n",
       "    <tr>\n",
       "      <th>2</th>\n",
       "      <td>30/06/2023</td>\n",
       "      <td>-1113.46</td>\n",
       "      <td>Transfer To Rebecca Moore CommBank App ZeroW Pay</td>\n",
       "      <td>27229.25</td>\n",
       "    </tr>\n",
       "    <tr>\n",
       "      <th>3</th>\n",
       "      <td>30/06/2023</td>\n",
       "      <td>-620.40</td>\n",
       "      <td>Transfer To Illguth Family CommBank App ZeroW Pay</td>\n",
       "      <td>28342.71</td>\n",
       "    </tr>\n",
       "    <tr>\n",
       "      <th>4</th>\n",
       "      <td>30/06/2023</td>\n",
       "      <td>-135.53</td>\n",
       "      <td>Transfer To Crafty Properties NetBank ZeroW Ma...</td>\n",
       "      <td>28963.11</td>\n",
       "    </tr>\n",
       "  </tbody>\n",
       "</table>\n",
       "</div>"
      ]
     },
     "execution_count": 672,
     "metadata": {},
     "output_type": "execute_result"
    }
   ],
   "execution_count": 672
  },
  {
   "metadata": {
    "ExecuteTime": {
     "end_time": "2024-06-05T05:17:52.447860Z",
     "start_time": "2024-06-05T05:17:52.437784Z"
    }
   },
   "cell_type": "code",
   "source": [
    "mackay_df['Date'] = pd.to_datetime(\n",
    "    mackay_df['Date'], \n",
    "    dayfirst=True, \n",
    "    errors='coerce'\n",
    ")\n",
    "mackay_df.dtypes"
   ],
   "id": "3723139f298ccdf5",
   "outputs": [
    {
     "data": {
      "text/plain": [
       "Date                 datetime64[ns]\n",
       "Transaction Value           float64\n",
       "Narration                    object\n",
       "Account Balance             float64\n",
       "dtype: object"
      ]
     },
     "execution_count": 673,
     "metadata": {},
     "output_type": "execute_result"
    }
   ],
   "execution_count": 673
  },
  {
   "metadata": {
    "ExecuteTime": {
     "end_time": "2024-06-05T05:17:52.770410Z",
     "start_time": "2024-06-05T05:17:52.759465Z"
    }
   },
   "cell_type": "code",
   "source": "mackay_df.info()",
   "id": "5160cf3d99cbdf28",
   "outputs": [
    {
     "name": "stdout",
     "output_type": "stream",
     "text": [
      "<class 'pandas.core.frame.DataFrame'>\n",
      "RangeIndex: 600 entries, 0 to 599\n",
      "Data columns (total 4 columns):\n",
      " #   Column             Non-Null Count  Dtype         \n",
      "---  ------             --------------  -----         \n",
      " 0   Date               600 non-null    datetime64[ns]\n",
      " 1   Transaction Value  600 non-null    float64       \n",
      " 2   Narration          600 non-null    object        \n",
      " 3   Account Balance    600 non-null    float64       \n",
      "dtypes: datetime64[ns](1), float64(2), object(1)\n",
      "memory usage: 18.9+ KB\n"
     ]
    }
   ],
   "execution_count": 674
  },
  {
   "metadata": {
    "ExecuteTime": {
     "end_time": "2024-06-05T05:17:52.906605Z",
     "start_time": "2024-06-05T05:17:52.878421Z"
    }
   },
   "cell_type": "code",
   "source": "mackay_df.describe()",
   "id": "e9858862c5ea74f9",
   "outputs": [
    {
     "data": {
      "text/plain": [
       "                      Date  Transaction Value  Account Balance\n",
       "count                  600         600.000000       600.000000\n",
       "mean   2023-04-19 08:55:12         -24.290850     35584.320050\n",
       "min    2023-02-09 00:00:00      -15300.000000      8225.730000\n",
       "25%    2023-03-14 00:00:00        -203.500000     24282.020000\n",
       "50%    2023-04-18 00:00:00         -12.805000     34414.545000\n",
       "75%    2023-05-29 06:00:00         120.000000     46282.795000\n",
       "max    2023-06-30 00:00:00       11106.720000     62532.770000\n",
       "std                    NaN        2267.652377     12648.336441"
      ],
      "text/html": [
       "<div>\n",
       "<style scoped>\n",
       "    .dataframe tbody tr th:only-of-type {\n",
       "        vertical-align: middle;\n",
       "    }\n",
       "\n",
       "    .dataframe tbody tr th {\n",
       "        vertical-align: top;\n",
       "    }\n",
       "\n",
       "    .dataframe thead th {\n",
       "        text-align: right;\n",
       "    }\n",
       "</style>\n",
       "<table border=\"1\" class=\"dataframe\">\n",
       "  <thead>\n",
       "    <tr style=\"text-align: right;\">\n",
       "      <th></th>\n",
       "      <th>Date</th>\n",
       "      <th>Transaction Value</th>\n",
       "      <th>Account Balance</th>\n",
       "    </tr>\n",
       "  </thead>\n",
       "  <tbody>\n",
       "    <tr>\n",
       "      <th>count</th>\n",
       "      <td>600</td>\n",
       "      <td>600.000000</td>\n",
       "      <td>600.000000</td>\n",
       "    </tr>\n",
       "    <tr>\n",
       "      <th>mean</th>\n",
       "      <td>2023-04-19 08:55:12</td>\n",
       "      <td>-24.290850</td>\n",
       "      <td>35584.320050</td>\n",
       "    </tr>\n",
       "    <tr>\n",
       "      <th>min</th>\n",
       "      <td>2023-02-09 00:00:00</td>\n",
       "      <td>-15300.000000</td>\n",
       "      <td>8225.730000</td>\n",
       "    </tr>\n",
       "    <tr>\n",
       "      <th>25%</th>\n",
       "      <td>2023-03-14 00:00:00</td>\n",
       "      <td>-203.500000</td>\n",
       "      <td>24282.020000</td>\n",
       "    </tr>\n",
       "    <tr>\n",
       "      <th>50%</th>\n",
       "      <td>2023-04-18 00:00:00</td>\n",
       "      <td>-12.805000</td>\n",
       "      <td>34414.545000</td>\n",
       "    </tr>\n",
       "    <tr>\n",
       "      <th>75%</th>\n",
       "      <td>2023-05-29 06:00:00</td>\n",
       "      <td>120.000000</td>\n",
       "      <td>46282.795000</td>\n",
       "    </tr>\n",
       "    <tr>\n",
       "      <th>max</th>\n",
       "      <td>2023-06-30 00:00:00</td>\n",
       "      <td>11106.720000</td>\n",
       "      <td>62532.770000</td>\n",
       "    </tr>\n",
       "    <tr>\n",
       "      <th>std</th>\n",
       "      <td>NaN</td>\n",
       "      <td>2267.652377</td>\n",
       "      <td>12648.336441</td>\n",
       "    </tr>\n",
       "  </tbody>\n",
       "</table>\n",
       "</div>"
      ]
     },
     "execution_count": 675,
     "metadata": {},
     "output_type": "execute_result"
    }
   ],
   "execution_count": 675
  },
  {
   "metadata": {
    "ExecuteTime": {
     "end_time": "2024-06-05T05:17:53.006086Z",
     "start_time": "2024-06-05T05:17:52.998Z"
    }
   },
   "cell_type": "code",
   "source": "mackay_df.isnull().sum()",
   "id": "f1212eb65fdd359b",
   "outputs": [
    {
     "data": {
      "text/plain": [
       "Date                 0\n",
       "Transaction Value    0\n",
       "Narration            0\n",
       "Account Balance      0\n",
       "dtype: int64"
      ]
     },
     "execution_count": 676,
     "metadata": {},
     "output_type": "execute_result"
    }
   ],
   "execution_count": 676
  },
  {
   "metadata": {
    "ExecuteTime": {
     "end_time": "2024-06-05T05:17:53.459650Z",
     "start_time": "2024-06-05T05:17:53.238342Z"
    }
   },
   "cell_type": "code",
   "source": [
    "plt.figure(figsize=(10, 5))\n",
    "plt.plot(mackay_df['Date'], mackay_df['Account Balance'], marker='o', linestyle='-')\n",
    "plt.title('Mackay Account Balance')\n",
    "plt.xlabel('Date')\n",
    "plt.ylabel('Account Balance')\n",
    "plt.grid(True)\n",
    "plt.show()"
   ],
   "id": "997afc1697d44810",
   "outputs": [
    {
     "data": {
      "text/plain": [
       "<Figure size 1000x500 with 1 Axes>"
      ],
      "image/png": "[encoded data removed]"
     },
     "metadata": {},
     "output_type": "display_data"
    }
   ],
   "execution_count": 677
  },
  {
   "metadata": {},
   "cell_type": "markdown",
   "source": "# Gold Coast",
   "id": "75bfba73d79313f1"
  },
  {
   "metadata": {
    "ExecuteTime": {
     "end_time": "2024-06-05T05:17:53.480926Z",
     "start_time": "2024-06-05T05:17:53.461714Z"
    }
   },
   "cell_type": "code",
   "source": [
    "gc_df = pd.read_csv(\n",
    "    'data/bank_statements/LilleyBuddy.csv',\n",
    "    names=['Date', 'Transaction Value', 'Narration', 'Account Balance']\n",
    ")\n",
    "gc_df.head()"
   ],
   "id": "427d6d8a537fc16f",
   "outputs": [
    {
     "data": {
      "text/plain": [
       "         Date  Transaction Value                                    Narration  \\\n",
       "0  30/06/2023              25.00                          POS 83081600 30 JUN   \n",
       "1  30/06/2023             233.00                          POS 83081300 30 JUN   \n",
       "2  30/06/2023            1674.91        Direct Credit 485450 SQUARE AU PTY LT   \n",
       "3  30/06/2023           -1005.05  Transfer To Frucor CommBank App 671450zerow   \n",
       "4  30/06/2023            -500.00         DEFT RENT NetBank BPAY 4481 34268144   \n",
       "\n",
       "   Account Balance  \n",
       "0          5696.73  \n",
       "1          5671.73  \n",
       "2          5438.73  \n",
       "3          3763.82  \n",
       "4          4768.87  "
      ],
      "text/html": [
       "<div>\n",
       "<style scoped>\n",
       "    .dataframe tbody tr th:only-of-type {\n",
       "        vertical-align: middle;\n",
       "    }\n",
       "\n",
       "    .dataframe tbody tr th {\n",
       "        vertical-align: top;\n",
       "    }\n",
       "\n",
       "    .dataframe thead th {\n",
       "        text-align: right;\n",
       "    }\n",
       "</style>\n",
       "<table border=\"1\" class=\"dataframe\">\n",
       "  <thead>\n",
       "    <tr style=\"text-align: right;\">\n",
       "      <th></th>\n",
       "      <th>Date</th>\n",
       "      <th>Transaction Value</th>\n",
       "      <th>Narration</th>\n",
       "      <th>Account Balance</th>\n",
       "    </tr>\n",
       "  </thead>\n",
       "  <tbody>\n",
       "    <tr>\n",
       "      <th>0</th>\n",
       "      <td>30/06/2023</td>\n",
       "      <td>25.00</td>\n",
       "      <td>POS 83081600 30 JUN</td>\n",
       "      <td>5696.73</td>\n",
       "    </tr>\n",
       "    <tr>\n",
       "      <th>1</th>\n",
       "      <td>30/06/2023</td>\n",
       "      <td>233.00</td>\n",
       "      <td>POS 83081300 30 JUN</td>\n",
       "      <td>5671.73</td>\n",
       "    </tr>\n",
       "    <tr>\n",
       "      <th>2</th>\n",
       "      <td>30/06/2023</td>\n",
       "      <td>1674.91</td>\n",
       "      <td>Direct Credit 485450 SQUARE AU PTY LT</td>\n",
       "      <td>5438.73</td>\n",
       "    </tr>\n",
       "    <tr>\n",
       "      <th>3</th>\n",
       "      <td>30/06/2023</td>\n",
       "      <td>-1005.05</td>\n",
       "      <td>Transfer To Frucor CommBank App 671450zerow</td>\n",
       "      <td>3763.82</td>\n",
       "    </tr>\n",
       "    <tr>\n",
       "      <th>4</th>\n",
       "      <td>30/06/2023</td>\n",
       "      <td>-500.00</td>\n",
       "      <td>DEFT RENT NetBank BPAY 4481 34268144</td>\n",
       "      <td>4768.87</td>\n",
       "    </tr>\n",
       "  </tbody>\n",
       "</table>\n",
       "</div>"
      ]
     },
     "execution_count": 678,
     "metadata": {},
     "output_type": "execute_result"
    }
   ],
   "execution_count": 678
  },
  {
   "metadata": {
    "ExecuteTime": {
     "end_time": "2024-06-05T05:17:53.493926Z",
     "start_time": "2024-06-05T05:17:53.482956Z"
    }
   },
   "cell_type": "code",
   "source": [
    "gc_df['Date'] = pd.to_datetime(\n",
    "    mackay_df['Date'], \n",
    "    dayfirst=True, \n",
    "    errors='coerce'\n",
    ")\n",
    "gc_df.dtypes"
   ],
   "id": "1ef3325150ddc04d",
   "outputs": [
    {
     "data": {
      "text/plain": [
       "Date                 datetime64[ns]\n",
       "Transaction Value           float64\n",
       "Narration                    object\n",
       "Account Balance             float64\n",
       "dtype: object"
      ]
     },
     "execution_count": 679,
     "metadata": {},
     "output_type": "execute_result"
    }
   ],
   "execution_count": 679
  },
  {
   "metadata": {
    "ExecuteTime": {
     "end_time": "2024-06-05T05:17:53.583738Z",
     "start_time": "2024-06-05T05:17:53.574481Z"
    }
   },
   "cell_type": "code",
   "source": "gc_df.info()",
   "id": "161e0b33d3832d6d",
   "outputs": [
    {
     "name": "stdout",
     "output_type": "stream",
     "text": [
      "<class 'pandas.core.frame.DataFrame'>\n",
      "RangeIndex: 600 entries, 0 to 599\n",
      "Data columns (total 4 columns):\n",
      " #   Column             Non-Null Count  Dtype         \n",
      "---  ------             --------------  -----         \n",
      " 0   Date               600 non-null    datetime64[ns]\n",
      " 1   Transaction Value  600 non-null    float64       \n",
      " 2   Narration          600 non-null    object        \n",
      " 3   Account Balance    600 non-null    float64       \n",
      "dtypes: datetime64[ns](1), float64(2), object(1)\n",
      "memory usage: 18.9+ KB\n"
     ]
    }
   ],
   "execution_count": 680
  },
  {
   "metadata": {
    "ExecuteTime": {
     "end_time": "2024-06-05T05:17:53.700110Z",
     "start_time": "2024-06-05T05:17:53.677900Z"
    }
   },
   "cell_type": "code",
   "source": "gc_df.describe()",
   "id": "ad2c3178f26660b1",
   "outputs": [
    {
     "data": {
      "text/plain": [
       "                      Date  Transaction Value  Account Balance\n",
       "count                  600          600.00000       600.000000\n",
       "mean   2023-04-19 08:55:12           -5.17910     13263.000850\n",
       "min    2023-02-09 00:00:00       -17780.73000       179.530000\n",
       "25%    2023-03-14 00:00:00         -500.00000      8394.232500\n",
       "50%    2023-04-18 00:00:00           62.10000     12036.030000\n",
       "75%    2023-05-29 06:00:00          501.38250     17511.512500\n",
       "max    2023-06-30 00:00:00        17780.73000     36604.750000\n",
       "std                    NaN         2200.40878      6465.255574"
      ],
      "text/html": [
       "<div>\n",
       "<style scoped>\n",
       "    .dataframe tbody tr th:only-of-type {\n",
       "        vertical-align: middle;\n",
       "    }\n",
       "\n",
       "    .dataframe tbody tr th {\n",
       "        vertical-align: top;\n",
       "    }\n",
       "\n",
       "    .dataframe thead th {\n",
       "        text-align: right;\n",
       "    }\n",
       "</style>\n",
       "<table border=\"1\" class=\"dataframe\">\n",
       "  <thead>\n",
       "    <tr style=\"text-align: right;\">\n",
       "      <th></th>\n",
       "      <th>Date</th>\n",
       "      <th>Transaction Value</th>\n",
       "      <th>Account Balance</th>\n",
       "    </tr>\n",
       "  </thead>\n",
       "  <tbody>\n",
       "    <tr>\n",
       "      <th>count</th>\n",
       "      <td>600</td>\n",
       "      <td>600.00000</td>\n",
       "      <td>600.000000</td>\n",
       "    </tr>\n",
       "    <tr>\n",
       "      <th>mean</th>\n",
       "      <td>2023-04-19 08:55:12</td>\n",
       "      <td>-5.17910</td>\n",
       "      <td>13263.000850</td>\n",
       "    </tr>\n",
       "    <tr>\n",
       "      <th>min</th>\n",
       "      <td>2023-02-09 00:00:00</td>\n",
       "      <td>-17780.73000</td>\n",
       "      <td>179.530000</td>\n",
       "    </tr>\n",
       "    <tr>\n",
       "      <th>25%</th>\n",
       "      <td>2023-03-14 00:00:00</td>\n",
       "      <td>-500.00000</td>\n",
       "      <td>8394.232500</td>\n",
       "    </tr>\n",
       "    <tr>\n",
       "      <th>50%</th>\n",
       "      <td>2023-04-18 00:00:00</td>\n",
       "      <td>62.10000</td>\n",
       "      <td>12036.030000</td>\n",
       "    </tr>\n",
       "    <tr>\n",
       "      <th>75%</th>\n",
       "      <td>2023-05-29 06:00:00</td>\n",
       "      <td>501.38250</td>\n",
       "      <td>17511.512500</td>\n",
       "    </tr>\n",
       "    <tr>\n",
       "      <th>max</th>\n",
       "      <td>2023-06-30 00:00:00</td>\n",
       "      <td>17780.73000</td>\n",
       "      <td>36604.750000</td>\n",
       "    </tr>\n",
       "    <tr>\n",
       "      <th>std</th>\n",
       "      <td>NaN</td>\n",
       "      <td>2200.40878</td>\n",
       "      <td>6465.255574</td>\n",
       "    </tr>\n",
       "  </tbody>\n",
       "</table>\n",
       "</div>"
      ]
     },
     "execution_count": 681,
     "metadata": {},
     "output_type": "execute_result"
    }
   ],
   "execution_count": 681
  },
  {
   "metadata": {
    "ExecuteTime": {
     "end_time": "2024-06-05T05:17:53.893601Z",
     "start_time": "2024-06-05T05:17:53.884269Z"
    }
   },
   "cell_type": "code",
   "source": "gc_df.isnull().sum()",
   "id": "1ef0bea776b0fe7b",
   "outputs": [
    {
     "data": {
      "text/plain": [
       "Date                 0\n",
       "Transaction Value    0\n",
       "Narration            0\n",
       "Account Balance      0\n",
       "dtype: int64"
      ]
     },
     "execution_count": 682,
     "metadata": {},
     "output_type": "execute_result"
    }
   ],
   "execution_count": 682
  },
  {
   "metadata": {
    "ExecuteTime": {
     "end_time": "2024-06-05T05:17:54.262618Z",
     "start_time": "2024-06-05T05:17:53.998828Z"
    }
   },
   "cell_type": "code",
   "source": [
    "plt.figure(figsize=(10, 5))\n",
    "plt.plot(gc_df['Date'], gc_df['Account Balance'], marker='o', linestyle='-')\n",
    "plt.title('Gold Coast Account Balance')\n",
    "plt.xlabel('Date')\n",
    "plt.ylabel('Account Balance')\n",
    "plt.grid(True)\n",
    "plt.show()"
   ],
   "id": "87619eaaba4db48e",
   "outputs": [
    {
     "data": {
      "text/plain": [
       "<Figure size 1000x500 with 1 Axes>"
      ],
      "image/png": "[encoded data removed]"
     },
     "metadata": {},
     "output_type": "display_data"
    }
   ],
   "execution_count": 683
  }
 ],
 "metadata": {
  "kernelspec": {
   "display_name": "Python 3",
   "language": "python",
   "name": "python3"
  },
  "language_info": {
   "codemirror_mode": {
    "name": "ipython",
    "version": 2
   },
   "file_extension": ".py",
   "mimetype": "text/x-python",
   "name": "python",
   "nbconvert_exporter": "python",
   "pygments_lexer": "ipython2",
   "version": "2.7.6"
  }
 },
 "nbformat": 4,
 "nbformat_minor": 5
}
